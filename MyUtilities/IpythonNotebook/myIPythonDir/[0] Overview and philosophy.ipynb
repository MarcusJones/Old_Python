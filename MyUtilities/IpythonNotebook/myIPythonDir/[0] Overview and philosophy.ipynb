{
 "metadata": {
  "name": "[0] Overview and philosophy"
 },
 "nbformat": 3,
 "nbformat_minor": 0,
 "worksheets": [
  {
   "cells": [
    {
     "cell_type": "heading",
     "level": 1,
     "metadata": {},
     "source": [
      "Module 0: Overview and philosophy"
     ]
    },
    {
     "cell_type": "markdown",
     "metadata": {},
     "source": [
      "<font size=\"2\" face=\"Georgia, Arial\" color=\"maroon\"><i>\n",
      "<p>\n",
      "Clayton Miller & Marcus Jones\n",
      "</p>\n",
      "<p>\n",
      "Python for energy modellers workshop\n",
      "\n",
      "    \n",
      "<p>\n",
      "August 27th 2013\n",
      "</i></font>"
     ]
    },
    {
     "cell_type": "markdown",
     "metadata": {},
     "source": [
      "Objectives: \n",
      "<ul>\n",
      "<li>Understand Python in the context of programming languages</li>\n",
      "<li>Discuss why we believe Python is an essential language to learn as an Energy Modeller</li>\n",
      "<li>Get some pointers and further resources</li>\n",
      "</ul> \n",
      "Time: 30 mins"
     ]
    },
    {
     "cell_type": "markdown",
     "metadata": {},
     "source": [
      "<h3>Philosophy of Python</h3>\n",
      "<ul>\n",
      "<li>Readability</li>\n",
      "<li>Explicit vs. implicit</li>\n",
      "<li>Fewer lines of code</li>\n",
      "</ul>"
     ]
    },
    {
     "cell_type": "markdown",
     "metadata": {},
     "source": [
      "\n",
      "<h3>Python features and implementation</h3>\n",
      "\n",
      "<ul>\n",
      "<li>Object oriented \n",
      "    <ul><li><i>Everything is an object</i></li></ul>\n",
      "    </li>\n",
      "<li>Dynamic typing \n",
      "    <ul><li><i>Variables created on the fly</i></li></ul>\n",
      "    </li>\n",
      "<li>Interpreted\n",
      "    <ul><li><i>Code is not compiled, but processed by the Python interpreter</i></li></ul>\n",
      "    </li>\n",
      "</ul>"
     ]
    },
    {
     "cell_type": "markdown",
     "metadata": {},
     "source": [
      "\n",
      "<h3>Python for Energy modelling</h3>\n",
      "<ul>\n",
      "<li>Wide acceptance among engineers and scientists\n",
      "    <ul><li><i>SciPy and EuroSciPy conferences</i></li></ul>\n",
      "    </li>\n",
      "    \n",
      "<li>But also wide acceptance amongst computer scientists and enterprise organizations\n",
      "         <ul><li><i>MIT; Switched the engineer's programming course to Python</i></li></ul>\n",
      "         <ul><li><i>Google; \"Python where we can, C++ where we must\" -Sergey, Larry, Craig</i></li></ul>\n",
      "         <ul><li><i>Youtube</i></li></ul>\n",
      "    </li>\n",
      "    \n",
      "<li>Free and open source\n",
      "    <ul><li><i>Open source license</i></li></ul>\n",
      "    <ul><li><i>IP is held by the non profit Python Foundation</i></li></ul>\n",
      "    </li>\n",
      "    \n",
      "<li>Many modules and projects for engineers\n",
      "\n",
      "    <ul><li><i>The SciPy stack</i></i>\n",
      "        <ul><li><i><b>Numpy</b>; Fast matrix computations</i></li></ul>\n",
      "        <ul><li><i><b>SciPy</b>; Scientific library for Sstats, Fourier, Optimization, etc.</i></li></ul>\n",
      "        <ul><li><i><b>MatPlotLib</b>; Matlab - like plotting library</i></li></ul>\n",
      "        <ul><li><i><b>IPython</b>; Interactive coding</i></li></ul>\n",
      "        <ul><li><i><b>SymPy</b>; Symbolic algebra</i></li></ul>\n",
      "        <ul><li><i><b>Pandas</b>; Data analysis</i></li></ul>\n",
      "        </li>\n",
      "    </ul>\n",
      "    <ul><li><i>Anything else you can dream of</i></li>\n",
      "        <ul><li><i>Fast XML parsing - I use <a href=\"http://lxml.de/\">lxml</a>  </i></li></ul>\n",
      "        <ul><li><i>SQL access, creation, manipulation - - Native support SQLite or <a href=\"http://www.sqlalchemy.org/\">SQLalchemy</a></i></li></ul>\n",
      "        <ul><li><i>Internet scraping and IP communications</i></li></ul>\n",
      "        <ul><li><i>Etc.</i></li></ul>\n",
      "        \n",
      "        </li>\n",
      "        \n",
      "    </ul>\n",
      "\n",
      "    </li>    \n",
      "</ul>"
     ]
    },
    {
     "cell_type": "markdown",
     "metadata": {},
     "source": [
      "Getting support\n",
      "<p>Any problem you might encounter has already been encountered, just google it!\n",
      "<ul>\n",
      "<li>www.pythonpoweredbuildings.com</li>\n",
      "<li>Stack overflow</li>\n",
      "<li>Inline - help</li>\n",
      "<li>Tutorials, videos, workshops, etc.</li>\n",
      "</ul>\n",
      "\n",
      "\n",
      "\n"
     ]
    },
    {
     "cell_type": "code",
     "collapsed": false,
     "input": [],
     "language": "python",
     "metadata": {},
     "outputs": []
    }
   ],
   "metadata": {}
  }
 ]
}