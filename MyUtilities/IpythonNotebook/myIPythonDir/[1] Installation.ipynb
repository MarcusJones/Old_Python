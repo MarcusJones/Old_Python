{
 "metadata": {
  "name": "[1] Installation"
 },
 "nbformat": 3,
 "nbformat_minor": 0,
 "worksheets": [
  {
   "cells": [
    {
     "cell_type": "heading",
     "level": 1,
     "metadata": {},
     "source": [
      "Module 1: Installation"
     ]
    },
    {
     "cell_type": "markdown",
     "metadata": {},
     "source": [
      "<font size=\"2\" face=\"Georgia, Arial\" color=\"maroon\"><i>\n",
      "<p>\n",
      "Clayton Miller & Marcus Jones\n",
      "</p>\n",
      "<p>\n",
      "Python for energy modellers workshop\n",
      "\n",
      "    \n",
      "<p>\n",
      "August 27th 2013\n",
      "</i></font>"
     ]
    },
    {
     "cell_type": "markdown",
     "metadata": {},
     "source": [
      "Objectives: \n",
      "<ul>\n",
      "<li>Understand the different versions, packages, and Integrated Development Environments</li>\n",
      "<li>Install Python on your machine and verify that it works</li>\n",
      "</ul> \n",
      "Time: 30 mins"
     ]
    },
    {
     "cell_type": "markdown",
     "metadata": {},
     "source": [
      "<h3>Versions of Python</h3>\n",
      "<p>Python development started in the early 90's, and is currently active and ongoing\n",
      "<p>There are two currently supported versions of Python\n",
      "<ul>\n",
      "<li>Python 2.7\n",
      "<li>Python 3.3\n",
      "</ul>"
     ]
    },
    {
     "cell_type": "markdown",
     "metadata": {},
     "source": [
      "<h3>Differences</h3>\n",
      "\n",
      "<ul>\n",
      "<li>The community is still largely working in 2.7, but there is significant momentum towards Python 3\n",
      "<li>The differences to us, as Energy Modellers, is not as significant\n",
      "<li>Python 3 breaks backwards compatibility\n",
      "<li>3 breaks most important to beginners;\n",
      "<ul>\n",
      "<li>print \n",
      "<li>integer division\n",
      "<li>text encoding\n",
      "</ul>"
     ]
    },
    {
     "cell_type": "markdown",
     "metadata": {},
     "source": [
      "<p>Because of the danger of requiring a library for your work which is not ported to Python 3, we recommend working in Python 2.7\n",
      "<p>However, because the community is on the verge of jumping to Python 3, we use Python 3 conventions;\n",
      "<ul>\n",
      "<li>Use print() function instead of statement\n",
      "<li>Use python 3 integer division\n",
      "<li>Be aware of text encoding\n",
      "</ul>\n"
     ]
    },
    {
     "cell_type": "heading",
     "level": 3,
     "metadata": {},
     "source": [
      "Install Python and check\n",
      "\n",
      "\n",
      "\n"
     ]
    },
    {
     "cell_type": "markdown",
     "metadata": {},
     "source": [
      "From command line, try the <b>python</b> command"
     ]
    },
    {
     "cell_type": "markdown",
     "metadata": {},
     "source": [
      "Check the installation directory"
     ]
    },
    {
     "cell_type": "code",
     "collapsed": false,
     "input": [],
     "language": "python",
     "metadata": {},
     "outputs": []
    },
    {
     "cell_type": "code",
     "collapsed": false,
     "input": [],
     "language": "python",
     "metadata": {},
     "outputs": []
    },
    {
     "cell_type": "code",
     "collapsed": false,
     "input": [],
     "language": "python",
     "metadata": {},
     "outputs": []
    },
    {
     "cell_type": "code",
     "collapsed": false,
     "input": [
      "print(\"Print is a function\")\n",
      "print \"(Not a statement!)\""
     ],
     "language": "python",
     "metadata": {},
     "outputs": [
      {
       "output_type": "stream",
       "stream": "stdout",
       "text": [
        "Print is a function\n",
        "Not a statement!\n"
       ]
      }
     ],
     "prompt_number": 6
    },
    {
     "cell_type": "code",
     "collapsed": false,
     "input": [
      "print(1/3)\n",
      "from __future__ import division\n",
      "print(1/3)"
     ],
     "language": "python",
     "metadata": {},
     "outputs": [
      {
       "output_type": "stream",
       "stream": "stdout",
       "text": [
        "0.333333333333\n",
        "0.333333333333\n"
       ]
      }
     ],
     "prompt_number": 35
    }
   ],
   "metadata": {}
  }
 ]
}