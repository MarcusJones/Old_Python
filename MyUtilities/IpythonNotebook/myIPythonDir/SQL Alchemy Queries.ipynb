{
 "metadata": {
  "name": "SQL Alchemy Queries"
 },
 "nbformat": 3,
 "nbformat_minor": 0,
 "worksheets": [
  {
   "cells": [
    {
     "cell_type": "code",
     "collapsed": false,
     "input": [
      "# queries.py\n",
      "from sqlalchemy import create_engine\n",
      "from sqlalchemy.orm import sessionmaker"
     ],
     "language": "python",
     "metadata": {},
     "outputs": [],
     "prompt_number": 2
    },
    {
     "cell_type": "code",
     "collapsed": false,
     "input": [
      "import sys\n",
      "sys.path.append(r'C:\\EclipseWorkspace\\MyUtilities\\Tutorial SQLalchemy')\n",
      "from TableDefs import Artist, Album\n",
      "path_db = r'C:\\EclipseWorkspace\\MyUtilities\\mymusic.db'\n",
      "engine = create_engine('sqlite:///{}'.format(path_db), echo=True)"
     ],
     "language": "python",
     "metadata": {},
     "outputs": [],
     "prompt_number": 5
    },
    {
     "cell_type": "code",
     "collapsed": false,
     "input": [
      "# create a Session\n",
      "Session = sessionmaker(bind=engine)\n",
      "session = Session()"
     ],
     "language": "python",
     "metadata": {},
     "outputs": [],
     "prompt_number": 6
    },
    {
     "cell_type": "markdown",
     "metadata": {},
     "source": [
      "How to do a SELECT * (i.e. all)"
     ]
    },
    {
     "cell_type": "code",
     "collapsed": false,
     "input": [
      "res = session.query(Artist).all()\n",
      "for artist in res:\n",
      "    print artist.name"
     ],
     "language": "python",
     "metadata": {},
     "outputs": [
      {
       "output_type": "stream",
       "stream": "stdout",
       "text": [
        "2013-12-21 17:48:39,957 INFO sqlalchemy.engine.base.Engine BEGIN (implicit)\n"
       ]
      },
      {
       "output_type": "stream",
       "stream": "stdout",
       "text": [
        "2013-12-21 17:48:39,959 INFO sqlalchemy.engine.base.Engine SELECT artists.id AS artists_id, artists.name AS artists_name \n",
        "FROM artists\n"
       ]
      },
      {
       "output_type": "stream",
       "stream": "stdout",
       "text": [
        "2013-12-21 17:48:39,959 INFO sqlalchemy.engine.base.Engine ()\n"
       ]
      },
      {
       "output_type": "stream",
       "stream": "stdout",
       "text": [
        "Newsboys\n",
        "Beach Boys\n",
        "Thousand Foot Krutch\n"
       ]
      }
     ],
     "prompt_number": 7
    },
    {
     "cell_type": "markdown",
     "metadata": {},
     "source": [
      "How to SELECT the first result"
     ]
    },
    {
     "cell_type": "code",
     "collapsed": false,
     "input": [
      "res = session.query(Artist).filter(Artist.name==\"Newsboys\").first()"
     ],
     "language": "python",
     "metadata": {},
     "outputs": [
      {
       "output_type": "stream",
       "stream": "stdout",
       "text": [
        "2013-12-21 17:49:01,430 INFO sqlalchemy.engine.base.Engine SELECT artists.id AS artists_id, artists.name AS artists_name \n",
        "FROM artists \n",
        "WHERE artists.name = ?\n",
        " LIMIT ? OFFSET ?\n"
       ]
      },
      {
       "output_type": "stream",
       "stream": "stdout",
       "text": [
        "2013-12-21 17:49:01,431 INFO sqlalchemy.engine.base.Engine ('Newsboys', 1, 0)\n"
       ]
      }
     ],
     "prompt_number": 10
    },
    {
     "cell_type": "markdown",
     "metadata": {},
     "source": [
      "How to sort the results (ORDER_BY)"
     ]
    },
    {
     "cell_type": "code",
     "collapsed": false,
     "input": [
      "res = session.query(Album).order_by(Album.title).all()\n",
      "for album in res:\n",
      "    print album.title"
     ],
     "language": "python",
     "metadata": {},
     "outputs": [
      {
       "output_type": "stream",
       "stream": "stdout",
       "text": [
        "2013-12-21 17:49:18,121 INFO sqlalchemy.engine.base.Engine SELECT albums.id AS albums_id, albums.title AS albums_title, albums.release_date AS albums_release_date, albums.publisher AS albums_publisher, albums.media_type AS albums_media_type, albums.artist_id AS albums_artist_id \n",
        "FROM albums ORDER BY albums.title\n"
       ]
      },
      {
       "output_type": "stream",
       "stream": "stdout",
       "text": [
        "2013-12-21 17:49:18,121 INFO sqlalchemy.engine.base.Engine ()\n"
       ]
      },
      {
       "output_type": "stream",
       "stream": "stdout",
       "text": [
        "Hell Is for Wimps\n",
        "Love Liberty Disco\n",
        "Read All About It\n",
        "Step Up to the Microphone\n"
       ]
      }
     ],
     "prompt_number": 12
    },
    {
     "cell_type": "markdown",
     "metadata": {},
     "source": [
      "How to do a JOINed query"
     ]
    },
    {
     "cell_type": "code",
     "collapsed": false,
     "input": [
      "qry = session.query(Artist, Album)\n",
      "qry = qry.filter(Artist.id==Album.artist_id)\n",
      "artist, album = qry.filter(Album.title==\"Thrive\").first()\n",
      "print"
     ],
     "language": "python",
     "metadata": {},
     "outputs": [
      {
       "output_type": "stream",
       "stream": "stdout",
       "text": [
        "2013-12-21 17:50:24,464 INFO sqlalchemy.engine.base.Engine SELECT artists.id AS artists_id, artists.name AS artists_name, albums.id AS albums_id, albums.title AS albums_title, albums.release_date AS albums_release_date, albums.publisher AS albums_publisher, albums.media_type AS albums_media_type, albums.artist_id AS albums_artist_id \n",
        "FROM artists, albums \n",
        "WHERE artists.id = albums.artist_id AND albums.title = ?\n",
        " LIMIT ? OFFSET ?\n"
       ]
      },
      {
       "output_type": "stream",
       "stream": "stdout",
       "text": [
        "2013-12-21 17:50:24,466 INFO sqlalchemy.engine.base.Engine ('Thrive', 1, 0)\n"
       ]
      },
      {
       "ename": "TypeError",
       "evalue": "'NoneType' object is not iterable",
       "output_type": "pyerr",
       "traceback": [
        "\u001b[1;31m---------------------------------------------------------------------------\u001b[0m\n\u001b[1;31mTypeError\u001b[0m                                 Traceback (most recent call last)",
        "\u001b[1;32m<ipython-input-16-04e1a44be1f6>\u001b[0m in \u001b[0;36m<module>\u001b[1;34m()\u001b[0m\n\u001b[0;32m      1\u001b[0m \u001b[0mqry\u001b[0m \u001b[1;33m=\u001b[0m \u001b[0msession\u001b[0m\u001b[1;33m.\u001b[0m\u001b[0mquery\u001b[0m\u001b[1;33m(\u001b[0m\u001b[0mArtist\u001b[0m\u001b[1;33m,\u001b[0m \u001b[0mAlbum\u001b[0m\u001b[1;33m)\u001b[0m\u001b[1;33m\u001b[0m\u001b[0m\n\u001b[0;32m      2\u001b[0m \u001b[0mqry\u001b[0m \u001b[1;33m=\u001b[0m \u001b[0mqry\u001b[0m\u001b[1;33m.\u001b[0m\u001b[0mfilter\u001b[0m\u001b[1;33m(\u001b[0m\u001b[0mArtist\u001b[0m\u001b[1;33m.\u001b[0m\u001b[0mid\u001b[0m\u001b[1;33m==\u001b[0m\u001b[0mAlbum\u001b[0m\u001b[1;33m.\u001b[0m\u001b[0martist_id\u001b[0m\u001b[1;33m)\u001b[0m\u001b[1;33m\u001b[0m\u001b[0m\n\u001b[1;32m----> 3\u001b[1;33m \u001b[0martist\u001b[0m\u001b[1;33m,\u001b[0m \u001b[0malbum\u001b[0m \u001b[1;33m=\u001b[0m \u001b[0mqry\u001b[0m\u001b[1;33m.\u001b[0m\u001b[0mfilter\u001b[0m\u001b[1;33m(\u001b[0m\u001b[0mAlbum\u001b[0m\u001b[1;33m.\u001b[0m\u001b[0mtitle\u001b[0m\u001b[1;33m==\u001b[0m\u001b[1;34m\"Thrive\"\u001b[0m\u001b[1;33m)\u001b[0m\u001b[1;33m.\u001b[0m\u001b[0mfirst\u001b[0m\u001b[1;33m(\u001b[0m\u001b[1;33m)\u001b[0m\u001b[1;33m\u001b[0m\u001b[0m\n\u001b[0m\u001b[0;32m      4\u001b[0m \u001b[1;32mprint\u001b[0m\u001b[1;33m\u001b[0m\u001b[0m\n",
        "\u001b[1;31mTypeError\u001b[0m: 'NoneType' object is not iterable"
       ]
      }
     ],
     "prompt_number": 16
    },
    {
     "cell_type": "markdown",
     "metadata": {},
     "source": [
      "How to use LIKE in a query"
     ]
    },
    {
     "cell_type": "code",
     "collapsed": false,
     "input": [
      "res = session.query(Album).filter(Album.publisher.like(\"S%a%\")).all()\n",
      "for item in res:\n",
      "    print item.publisher"
     ],
     "language": "python",
     "metadata": {},
     "outputs": [
      {
       "output_type": "stream",
       "stream": "stdout",
       "text": [
        "2013-12-21 17:51:03,122 INFO sqlalchemy.engine.base.Engine SELECT albums.id AS albums_id, albums.title AS albums_title, albums.release_date AS albums_release_date, albums.publisher AS albums_publisher, albums.media_type AS albums_media_type, albums.artist_id AS albums_artist_id \n",
        "FROM albums \n",
        "WHERE albums.publisher LIKE ?\n"
       ]
      },
      {
       "output_type": "stream",
       "stream": "stdout",
       "text": [
        "2013-12-21 17:51:03,124 INFO sqlalchemy.engine.base.Engine ('S%a%',)\n"
       ]
      },
      {
       "output_type": "stream",
       "stream": "stdout",
       "text": [
        "Star Song\n",
        "Sparrow\n",
        "Sparrow\n"
       ]
      }
     ],
     "prompt_number": 18
    },
    {
     "cell_type": "code",
     "collapsed": false,
     "input": [],
     "language": "python",
     "metadata": {},
     "outputs": []
    }
   ],
   "metadata": {}
  }
 ]
}