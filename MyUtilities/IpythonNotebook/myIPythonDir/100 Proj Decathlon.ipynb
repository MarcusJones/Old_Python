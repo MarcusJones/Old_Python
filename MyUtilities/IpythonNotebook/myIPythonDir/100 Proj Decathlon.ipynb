{
 "metadata": {
  "name": "100 Proj Decathlon"
 },
 "nbformat": 3,
 "nbformat_minor": 0,
 "worksheets": [
  {
   "cells": [
    {
     "cell_type": "code",
     "collapsed": false,
     "input": [
      "print subprocess"
     ],
     "language": "python",
     "metadata": {},
     "outputs": [
      {
       "output_type": "stream",
       "stream": "stdout",
       "text": [
        "<module 'subprocess' from 'D:\\Python27\\lib\\subprocess.pyc'>\n"
       ]
      }
     ],
     "prompt_number": 1
    },
    {
     "cell_type": "code",
     "collapsed": false,
     "input": [
      "print xrg"
     ],
     "language": "python",
     "metadata": {},
     "outputs": [
      {
       "output_type": "stream",
       "stream": "stdout",
       "text": [
        "<module 'exergyframes.exergy_frame' from 'D:\\EclipseSpace2\\ExergyFrames\\src\\exergyframes\\exergy_frame.pyc'>\n"
       ]
      }
     ],
     "prompt_number": 2
    },
    {
     "cell_type": "code",
     "collapsed": false,
     "input": [
      "import sys\n",
      "for path in sys.path:\n",
      "    print path"
     ],
     "language": "python",
     "metadata": {},
     "outputs": [
      {
       "output_type": "stream",
       "stream": "stdout",
       "text": [
        "\n",
        "D:\\Python27\\lib\\site-packages\\beautifulsoup-3.2.1-py2.7.egg\n",
        "D:\\Python27\\lib\\site-packages\\django-1.4-py2.7.egg\n",
        "D:\\Python27\\lib\\site-packages\\south-0.7.5-py2.7.egg\n",
        "D:\\Python27\\lib\\site-packages\\django_tastypie-0.9.11-py2.7.egg\n",
        "D:\\Python27\\lib\\site-packages\\python_dateutil-1.5-py2.7.egg\n",
        "D:\\Python27\\lib\\site-packages\\mimeparse-0.1.3-py2.7.egg\n",
        "D:\\Python27\\lib\\site-packages\\pandas-0.8.1-py2.7-win-amd64.egg\n",
        "D:\\Python27\\lib\\site-packages\\pytz-2012d-py2.7.egg\n",
        "D:\\Python27\\lib\\site-packages\\ipython-0.13-py2.7.egg\n",
        "D:\\Python27\\lib\\site-packages\\xlrd-0.8.0-py2.7.egg\n",
        "D:\\Python27\\lib\\site-packages\\tornado-2.4-py2.7.egg\n",
        "D:\\Python27\\lib\\site-packages\\pyzmq-2.2.0.1-py2.7-win-amd64.egg\n",
        "D:\\EclipseSpace2\\MyUtilities\\src\n",
        "D:\\EclipseSpace2\\MyUtilities\\ProjectScripts\n",
        "D:\\Python27\\DLLs\n",
        "D:\\Python27\\lib\n",
        "D:\\Python27\\lib\\plat-win\n",
        "D:\\Python27\\lib\\lib-tk\n",
        "D:\\Python27\n",
        "D:\\Python27\\lib\\site-packages\n",
        "D:\\Python27\\lib\\site-packages\\win32\n",
        "D:\\Python27\\lib\\site-packages\\win32\\lib\n",
        "D:\\Python27\\lib\\site-packages\\Pythonwin\n",
        "D:\\Python27\\lib\\site-packages\\setuptools-0.6c11-py2.7.egg-info\n",
        "D:\\EclipseSpace2\\EclipsePython\n",
        "D:\\Windows\\system32\\python27.zip\n",
        "D:\\Python27\\lib\\site-packages\\wx-2.8-msw-unicode\n",
        "D:\\Python27\\lib\\site-packages\\ipython-0.13-py2.7.egg\\IPython\\extensions\n",
        "D:\\EclipseSpace2\\MyUtilities\\IpythonNotebook\\myIPythonDir\n",
        "D:\\EclipseSpace2\\ExergyFrames\\src\n",
        "D:\\EclipseSpace2\\MyUtilities\\src\n"
       ]
      }
     ],
     "prompt_number": 3
    },
    {
     "cell_type": "code",
     "collapsed": false,
     "input": [],
     "language": "python",
     "metadata": {},
     "outputs": []
    }
   ],
   "metadata": {}
  }
 ]
}