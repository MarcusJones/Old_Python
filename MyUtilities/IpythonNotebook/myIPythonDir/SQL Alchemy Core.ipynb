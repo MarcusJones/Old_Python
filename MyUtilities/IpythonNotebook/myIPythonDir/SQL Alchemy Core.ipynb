{
 "metadata": {
  "name": "SQL Alchemy Core"
 },
 "nbformat": 3,
 "nbformat_minor": 0,
 "worksheets": [
  {
   "cells": [
    {
     "cell_type": "markdown",
     "metadata": {},
     "source": [
      "ResultProxy object\n",
      "<p>Wraps a DB-API cursor object to provide easier access to row columns."
     ]
    },
    {
     "cell_type": "code",
     "collapsed": false,
     "input": [
      "from sqlalchemy import create_engine, MetaData\n",
      "from sqlalchemy import Table"
     ],
     "language": "python",
     "metadata": {},
     "outputs": [],
     "prompt_number": 6
    },
    {
     "cell_type": "code",
     "collapsed": false,
     "input": [
      "import sys\n",
      "sys.path.append(r'C:\\EclipseWorkspace\\MyUtilities\\Tutorial SQLalchemy')\n",
      "path_db = r'C:\\EclipseWorkspace\\Evolve2\\TestOutput\\update_r265.sql'\n",
      "engine = create_engine('sqlite:///{}'.format(path_db), echo=True)"
     ],
     "language": "python",
     "metadata": {},
     "outputs": [],
     "prompt_number": 7
    },
    {
     "cell_type": "code",
     "collapsed": false,
     "input": [
      "metadata = MetaData(bind=engine)"
     ],
     "language": "python",
     "metadata": {},
     "outputs": [],
     "prompt_number": 8
    },
    {
     "cell_type": "code",
     "collapsed": false,
     "input": [
      "variables = Table('variables', metadata, autoload=True)"
     ],
     "language": "python",
     "metadata": {},
     "outputs": [],
     "prompt_number": 12
    },
    {
     "cell_type": "code",
     "collapsed": false,
     "input": [
      "print type(variables)"
     ],
     "language": "python",
     "metadata": {},
     "outputs": [
      {
       "output_type": "stream",
       "stream": "stdout",
       "text": [
        "<class 'sqlalchemy.schema.Table'>\n"
       ]
      }
     ],
     "prompt_number": 15
    },
    {
     "cell_type": "code",
     "collapsed": false,
     "input": [
      "for row in variables:\n",
      "    print row"
     ],
     "language": "python",
     "metadata": {},
     "outputs": [
      {
       "ename": "TypeError",
       "evalue": "'Table' object is not iterable",
       "output_type": "pyerr",
       "traceback": [
        "\u001b[1;31m---------------------------------------------------------------------------\u001b[0m\n\u001b[1;31mTypeError\u001b[0m                                 Traceback (most recent call last)",
        "\u001b[1;32m<ipython-input-16-26f28bfa6bde>\u001b[0m in \u001b[0;36m<module>\u001b[1;34m()\u001b[0m\n\u001b[1;32m----> 1\u001b[1;33m \u001b[1;32mfor\u001b[0m \u001b[0mrow\u001b[0m \u001b[1;32min\u001b[0m \u001b[0mvariables\u001b[0m\u001b[1;33m:\u001b[0m\u001b[1;33m\u001b[0m\u001b[0m\n\u001b[0m\u001b[0;32m      2\u001b[0m     \u001b[1;32mprint\u001b[0m \u001b[0mrow\u001b[0m\u001b[1;33m\u001b[0m\u001b[0m\n",
        "\u001b[1;31mTypeError\u001b[0m: 'Table' object is not iterable"
       ]
      }
     ],
     "prompt_number": 16
    },
    {
     "cell_type": "heading",
     "level": 3,
     "metadata": {},
     "source": [
      "SQL Abstraction Layer"
     ]
    },
    {
     "cell_type": "markdown",
     "metadata": {},
     "source": [
      "\n",
      "\n",
      "If you just want to use the database system (and SQL) abstraction layer you basically only need the engine:\n"
     ]
    },
    {
     "cell_type": "code",
     "collapsed": false,
     "input": [
      "from sqlalchemy import create_engine, MetaData\n",
      "\n",
      "engine = create_engine('sqlite:////tmp/test.db', convert_unicode=True)\n",
      "metadata = MetaData(bind=engine)"
     ],
     "language": "python",
     "metadata": {},
     "outputs": []
    },
    {
     "cell_type": "markdown",
     "metadata": {},
     "source": [
      "Then you can either declare the tables in your code like in the examples above, or automatically load them:"
     ]
    },
    {
     "cell_type": "code",
     "collapsed": false,
     "input": [
      "users = Table('users', metadata, autoload=True)"
     ],
     "language": "python",
     "metadata": {},
     "outputs": []
    },
    {
     "cell_type": "markdown",
     "metadata": {},
     "source": [
      "To insert data you can use the insert method. We have to get a connection first so that we can use a transaction:"
     ]
    },
    {
     "cell_type": "code",
     "collapsed": false,
     "input": [
      "con = engine.connect()\n",
      "con.execute(users.insert(), name='admin', email='admin@localhost')"
     ],
     "language": "python",
     "metadata": {},
     "outputs": [
      {
       "output_type": "stream",
       "stream": "stdout",
       "text": [
        "2013-12-22 12:12:04,855 INFO sqlalchemy.engine.base.Engine INSERT INTO variables (name) VALUES (?)\n"
       ]
      },
      {
       "output_type": "stream",
       "stream": "stdout",
       "text": [
        "2013-12-22 12:12:04,855 INFO sqlalchemy.engine.base.Engine ('admin',)\n"
       ]
      },
      {
       "output_type": "stream",
       "stream": "stdout",
       "text": [
        "2013-12-22 12:12:04,858 INFO sqlalchemy.engine.base.Engine COMMIT\n"
       ]
      },
      {
       "output_type": "pyout",
       "prompt_number": 17,
       "text": [
        "<sqlalchemy.engine.result.ResultProxy at 0x84f2940>"
       ]
      }
     ],
     "prompt_number": 17
    },
    {
     "cell_type": "markdown",
     "metadata": {},
     "source": [
      "SQLAlchemy will automatically commit for us.\n",
      "\n",
      "To query your database, you use the engine directly or use a connection:"
     ]
    },
    {
     "cell_type": "code",
     "collapsed": false,
     "input": [
      "users.select(users.c.id == 1).execute().first()\n",
      "(1, u'admin', u'admin@localhost')"
     ],
     "language": "python",
     "metadata": {},
     "outputs": []
    },
    {
     "cell_type": "markdown",
     "metadata": {},
     "source": [
      "These results are also dict-like tuples:"
     ]
    },
    {
     "cell_type": "code",
     "collapsed": false,
     "input": [
      ">>> r = users.select(users.c.id == 1).execute().first()\n",
      ">>> r['name']\n",
      "u'admin'"
     ],
     "language": "python",
     "metadata": {},
     "outputs": []
    },
    {
     "cell_type": "markdown",
     "metadata": {},
     "source": [
      "You can also pass strings of SQL statements to the execute() method:"
     ]
    },
    {
     "cell_type": "code",
     "collapsed": false,
     "input": [
      ">>> engine.execute('select * from users where id = :1', [1]).first()\n",
      "(1, u'admin', u'admin@localhost')"
     ],
     "language": "python",
     "metadata": {},
     "outputs": []
    },
    {
     "cell_type": "code",
     "collapsed": false,
     "input": [
      "    existing_individuals = results_table.select(results_table.c.hash)\n",
      "    #results_table.c.select\n",
      "    print existing_individuals\n",
      "    print type(existing_individuals)"
     ],
     "language": "python",
     "metadata": {},
     "outputs": []
    }
   ],
   "metadata": {}
  }
 ]
}