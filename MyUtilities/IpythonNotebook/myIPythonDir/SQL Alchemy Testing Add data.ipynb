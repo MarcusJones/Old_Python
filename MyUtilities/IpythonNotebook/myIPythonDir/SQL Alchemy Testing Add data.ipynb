{
 "metadata": {
  "name": "SQL Alchemy Testing Add data"
 },
 "nbformat": 3,
 "nbformat_minor": 0,
 "worksheets": [
  {
   "cells": [
    {
     "cell_type": "code",
     "collapsed": false,
     "input": [
      "import sys\n",
      "import datetime\n",
      "from sqlalchemy import create_engine\n",
      "from sqlalchemy.orm import sessionmaker\n",
      "sys.path.append(r'C:\\EclipseWorkspace\\MyUtilities\\Tutorial SQLalchemy')\n",
      "from TableDefs import Artist, Album"
     ],
     "language": "python",
     "metadata": {},
     "outputs": [],
     "prompt_number": 3
    },
    {
     "cell_type": "code",
     "collapsed": false,
     "input": [
      "path_db = r'C:\\EclipseWorkspace\\MyUtilities\\mymusic.db'\n",
      "engine = create_engine('sqlite:///{}'.format(path_db), echo=True)\n",
      " \n",
      "# create a Session\n",
      "Session = sessionmaker(bind=engine)\n",
      "session = Session()\n"
     ],
     "language": "python",
     "metadata": {},
     "outputs": [],
     "prompt_number": 10
    },
    {
     "cell_type": "code",
     "collapsed": false,
     "input": [
      "# Create an artist\n",
      "new_artist = Artist(\"Newsboys\")\n",
      "new_artist.albums = [Album(\"Read All About It\", \n",
      "                           datetime.date(1988,12,01),\n",
      "                           \"Refuge\", \"CD\")]\n"
     ],
     "language": "python",
     "metadata": {},
     "outputs": [],
     "prompt_number": 11
    },
    {
     "cell_type": "code",
     "collapsed": false,
     "input": [
      "# add more albums\n",
      "more_albums = [Album(\"Hell Is for Wimps\",\n",
      "                     datetime.date(1990,07,31),\n",
      "                     \"Star Song\", \"CD\"),\n",
      "               Album(\"Love Liberty Disco\", \n",
      "                     datetime.date(1999,11,16),\n",
      "                     \"Sparrow\", \"CD\"),\n",
      "               Album(\"Thrive\",\n",
      "                     datetime.date(2002,03,26),\n",
      "                     \"Sparrow\", \"CD\")]\n",
      "new_artist.albums.extend(more_albums)"
     ],
     "language": "python",
     "metadata": {},
     "outputs": [],
     "prompt_number": 12
    },
    {
     "cell_type": "code",
     "collapsed": false,
     "input": [
      "# Add the record to the session object\n",
      "session.add(new_artist)"
     ],
     "language": "python",
     "metadata": {},
     "outputs": [],
     "prompt_number": 13
    },
    {
     "cell_type": "code",
     "collapsed": false,
     "input": [
      "# commit the record the database\n",
      "session.commit()"
     ],
     "language": "python",
     "metadata": {},
     "outputs": [
      {
       "output_type": "stream",
       "stream": "stdout",
       "text": [
        "2013-12-21 17:13:33,993 INFO sqlalchemy.engine.base.Engine BEGIN (implicit)\n"
       ]
      },
      {
       "output_type": "stream",
       "stream": "stdout",
       "text": [
        "2013-12-21 17:13:33,993 INFO sqlalchemy.engine.base.Engine INSERT INTO artists (name) VALUES (?)\n"
       ]
      },
      {
       "output_type": "stream",
       "stream": "stdout",
       "text": [
        "2013-12-21 17:13:33,993 INFO sqlalchemy.engine.base.Engine ('Newsboys',)\n"
       ]
      },
      {
       "output_type": "stream",
       "stream": "stdout",
       "text": [
        "2013-12-21 17:13:33,996 INFO sqlalchemy.engine.base.Engine INSERT INTO albums (title, release_date, publisher, media_type, artist_id) VALUES (?, ?, ?, ?, ?)\n"
       ]
      },
      {
       "output_type": "stream",
       "stream": "stdout",
       "text": [
        "2013-12-21 17:13:33,996 INFO sqlalchemy.engine.base.Engine ('Read All About It', '1988-12-01', 'Refuge', 'CD', 1)\n"
       ]
      },
      {
       "output_type": "stream",
       "stream": "stdout",
       "text": [
        "2013-12-21 17:13:33,997 INFO sqlalchemy.engine.base.Engine INSERT INTO albums (title, release_date, publisher, media_type, artist_id) VALUES (?, ?, ?, ?, ?)\n"
       ]
      },
      {
       "output_type": "stream",
       "stream": "stdout",
       "text": [
        "2013-12-21 17:13:33,999 INFO sqlalchemy.engine.base.Engine ('Hell Is for Wimps', '1990-07-31', 'Star Song', 'CD', 1)\n"
       ]
      },
      {
       "output_type": "stream",
       "stream": "stdout",
       "text": [
        "2013-12-21 17:13:33,999 INFO sqlalchemy.engine.base.Engine INSERT INTO albums (title, release_date, publisher, media_type, artist_id) VALUES (?, ?, ?, ?, ?)\n"
       ]
      },
      {
       "output_type": "stream",
       "stream": "stdout",
       "text": [
        "2013-12-21 17:13:34,000 INFO sqlalchemy.engine.base.Engine ('Love Liberty Disco', '1999-11-16', 'Sparrow', 'CD', 1)\n"
       ]
      },
      {
       "output_type": "stream",
       "stream": "stdout",
       "text": [
        "2013-12-21 17:13:34,000 INFO sqlalchemy.engine.base.Engine INSERT INTO albums (title, release_date, publisher, media_type, artist_id) VALUES (?, ?, ?, ?, ?)\n"
       ]
      },
      {
       "output_type": "stream",
       "stream": "stdout",
       "text": [
        "2013-12-21 17:13:34,000 INFO sqlalchemy.engine.base.Engine ('Thrive', '2002-03-26', 'Sparrow', 'CD', 1)\n"
       ]
      },
      {
       "output_type": "stream",
       "stream": "stdout",
       "text": [
        "2013-12-21 17:13:34,002 INFO sqlalchemy.engine.base.Engine COMMIT\n"
       ]
      }
     ],
     "prompt_number": 14
    },
    {
     "cell_type": "code",
     "collapsed": false,
     "input": [
      "# Add several artists\n",
      "session.add_all([\n",
      "    Artist(\"MXPX\"),\n",
      "    Artist(\"Kutless\"),\n",
      "    Artist(\"Thousand Foot Krutch\")\n",
      "    ])\n",
      "session.commit()"
     ],
     "language": "python",
     "metadata": {},
     "outputs": [
      {
       "output_type": "stream",
       "stream": "stdout",
       "text": [
        "2013-12-21 17:15:19,760 INFO sqlalchemy.engine.base.Engine BEGIN (implicit)\n"
       ]
      },
      {
       "output_type": "stream",
       "stream": "stdout",
       "text": [
        "2013-12-21 17:15:19,763 INFO sqlalchemy.engine.base.Engine INSERT INTO artists (name) VALUES (?)\n"
       ]
      },
      {
       "output_type": "stream",
       "stream": "stdout",
       "text": [
        "2013-12-21 17:15:19,763 INFO sqlalchemy.engine.base.Engine ('MXPX',)\n"
       ]
      },
      {
       "output_type": "stream",
       "stream": "stdout",
       "text": [
        "2013-12-21 17:15:19,766 INFO sqlalchemy.engine.base.Engine INSERT INTO artists (name) VALUES (?)\n"
       ]
      },
      {
       "output_type": "stream",
       "stream": "stdout",
       "text": [
        "2013-12-21 17:15:19,766 INFO sqlalchemy.engine.base.Engine ('Kutless',)\n"
       ]
      },
      {
       "output_type": "stream",
       "stream": "stdout",
       "text": [
        "2013-12-21 17:15:19,767 INFO sqlalchemy.engine.base.Engine INSERT INTO artists (name) VALUES (?)\n"
       ]
      },
      {
       "output_type": "stream",
       "stream": "stdout",
       "text": [
        "2013-12-21 17:15:19,769 INFO sqlalchemy.engine.base.Engine ('Thousand Foot Krutch',)\n"
       ]
      },
      {
       "output_type": "stream",
       "stream": "stdout",
       "text": [
        "2013-12-21 17:15:19,769 INFO sqlalchemy.engine.base.Engine COMMIT\n"
       ]
      }
     ],
     "prompt_number": 15
    },
    {
     "cell_type": "code",
     "collapsed": false,
     "input": [],
     "language": "python",
     "metadata": {},
     "outputs": []
    }
   ],
   "metadata": {}
  }
 ]
}