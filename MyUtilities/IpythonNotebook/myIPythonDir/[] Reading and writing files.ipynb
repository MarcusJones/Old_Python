{
 "metadata": {
  "name": "[] Reading and writing files"
 },
 "nbformat": 3,
 "nbformat_minor": 0,
 "worksheets": [
  {
   "cells": [
    {
     "cell_type": "heading",
     "level": 1,
     "metadata": {},
     "source": [
      "Module 1 - Reading and writing files"
     ]
    },
    {
     "cell_type": "markdown",
     "metadata": {},
     "source": [
      "<font size=\"2\" face=\"Georgia, Arial\" color=\"maroon\"><i>\n",
      "<p>\n",
      "Clayton Miller & Marcus Jones\n",
      "</p>\n",
      "<p>\n",
      "Python for energy modellers workshop\n",
      "\n",
      "    \n",
      "<p>\n",
      "August 27th 2013\n",
      "</i></font>"
     ]
    },
    {
     "cell_type": "markdown",
     "metadata": {},
     "source": [
      "Objectives: \n",
      "<ul>\n",
      "<li>Open files</li>\n",
      "<li>Write files</li>\n",
      "<li>Parameterize a simulation input file</li>\n",
      "</ul> "
     ]
    },
    {
     "cell_type": "heading",
     "level": 3,
     "metadata": {},
     "source": [
      "Data types"
     ]
    },
    {
     "cell_type": "code",
     "collapsed": false,
     "input": [],
     "language": "python",
     "metadata": {},
     "outputs": []
    }
   ],
   "metadata": {}
  }
 ]
}