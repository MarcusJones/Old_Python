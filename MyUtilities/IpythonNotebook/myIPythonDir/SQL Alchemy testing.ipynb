{
 "metadata": {
  "name": " SQL Alchemy testing"
 },
 "nbformat": 3,
 "nbformat_minor": 0,
 "worksheets": [
  {
   "cells": [
    {
     "cell_type": "heading",
     "level": 3,
     "metadata": {},
     "source": [
      "Load my utilities"
     ]
    },
    {
     "cell_type": "code",
     "collapsed": false,
     "input": [
      "import sys\n",
      "sys.path.append(r'C:\\EclipseWorkspace\\MyUtilities')\n",
      "import UtilitySQLAlchemy as util_sa"
     ],
     "language": "python",
     "metadata": {},
     "outputs": [],
     "prompt_number": 1
    },
    {
     "cell_type": "heading",
     "level": 3,
     "metadata": {},
     "source": [
      "Import SQL Alchemy"
     ]
    },
    {
     "cell_type": "code",
     "collapsed": false,
     "input": [
      "from sqlalchemy import Column\n",
      "from sqlalchemy import create_engine, ForeignKey\n",
      "from sqlalchemy import Integer, String, Date\n",
      "import sqlalchemy as alc\n",
      "from sqlalchemy.ext.declarative import declarative_base\n",
      "from sqlalchemy.orm import relationship, backref\n"
     ],
     "language": "python",
     "metadata": {},
     "outputs": [],
     "prompt_number": 17
    },
    {
     "cell_type": "code",
     "collapsed": false,
     "input": [
      "path_db = r'C:\\EclipseWorkspace\\MyUtilities\\mymusic.db'\n",
      "Base = declarative_base()\n",
      "engine = alc.create_engine('sqlite:///{}'.format(path_db), echo=True)"
     ],
     "language": "python",
     "metadata": {},
     "outputs": [],
     "prompt_number": 18
    },
    {
     "cell_type": "code",
     "collapsed": false,
     "input": [
      "class Artist(Base):\n",
      "    \"\"\"\"\"\"\n",
      "    __tablename__ = \"artists\"\n",
      " \n",
      "    id = Column(Integer, primary_key=True)\n",
      "    name = Column(String)  \n",
      " \n",
      "    #----------------------------------------------------------------------\n",
      "    def __init__(self, name):\n",
      "        \"\"\"\"\"\"\n",
      "        self.name = name    \n",
      " \n",
      "########################################################################\n",
      "class Album(Base):\n",
      "    \"\"\"\"\"\"\n",
      "    __tablename__ = \"albums\"\n",
      " \n",
      "    id = Column(Integer, primary_key=True)\n",
      "    title = Column(String)\n",
      "    release_date = Column(Date)\n",
      "    publisher = Column(String)\n",
      "    media_type = Column(String)\n",
      " \n",
      "    artist_id = Column(Integer, ForeignKey(\"artists.id\"))\n",
      "    artist = relationship(\"Artist\", backref=backref(\"albums\", order_by=id))\n",
      " \n",
      "    #----------------------------------------------------------------------\n",
      "    def __init__(self, title, release_date, publisher, media_type):\n",
      "        \"\"\"\"\"\"\n",
      "        self.title = title\n",
      "        self.release_date = release_date\n",
      "        self.publisher = publisher\n",
      "        self.media_type = media_type    "
     ],
     "language": "python",
     "metadata": {},
     "outputs": [
      {
       "output_type": "stream",
       "stream": "stdout",
       "text": [
        "2013-12-21 17:00:48,990 INFO sqlalchemy.engine.base.Engine PRAGMA table_info(\"artists\")\n"
       ]
      },
      {
       "output_type": "stream",
       "stream": "stdout",
       "text": [
        "2013-12-21 17:00:48,992 INFO sqlalchemy.engine.base.Engine ()\n"
       ]
      },
      {
       "output_type": "stream",
       "stream": "stdout",
       "text": [
        "2013-12-21 17:00:48,992 INFO sqlalchemy.engine.base.Engine PRAGMA table_info(\"albums\")\n"
       ]
      },
      {
       "output_type": "stream",
       "stream": "stdout",
       "text": [
        "2013-12-21 17:00:48,993 INFO sqlalchemy.engine.base.Engine ()\n"
       ]
      }
     ],
     "prompt_number": 19
    },
    {
     "cell_type": "code",
     "collapsed": false,
     "input": [
      "Base.metadata.create_all(engine)"
     ],
     "language": "python",
     "metadata": {},
     "outputs": [
      {
       "output_type": "stream",
       "stream": "stdout",
       "text": [
        "2013-12-21 15:27:17,213 INFO sqlalchemy.engine.base.Engine PRAGMA table_info(\"aaa\")\n"
       ]
      },
      {
       "output_type": "stream",
       "stream": "stdout",
       "text": [
        "2013-12-21 15:27:17,213 INFO sqlalchemy.engine.base.Engine ()\n"
       ]
      },
      {
       "output_type": "stream",
       "stream": "stdout",
       "text": [
        "2013-12-21 15:27:17,216 INFO sqlalchemy.engine.base.Engine PRAGMA table_info(\"albums\")\n"
       ]
      },
      {
       "output_type": "stream",
       "stream": "stdout",
       "text": [
        "2013-12-21 15:27:17,217 INFO sqlalchemy.engine.base.Engine ()\n"
       ]
      }
     ],
     "prompt_number": 52
    },
    {
     "cell_type": "code",
     "collapsed": false,
     "input": [
      "new_artist = Artist()"
     ],
     "language": "python",
     "metadata": {},
     "outputs": []
    },
    {
     "cell_type": "code",
     "collapsed": false,
     "input": [
      "print Artist"
     ],
     "language": "python",
     "metadata": {},
     "outputs": [
      {
       "output_type": "stream",
       "stream": "stdout",
       "text": [
        "<class '__main__.Artist'>\n"
       ]
      }
     ],
     "prompt_number": 23
    },
    {
     "cell_type": "code",
     "collapsed": false,
     "input": [
      "insp = alc.engine.reflection.Inspector.from_engine(engine)\n",
      "print(insp.get_table_names())\n"
     ],
     "language": "python",
     "metadata": {},
     "outputs": [
      {
       "output_type": "stream",
       "stream": "stdout",
       "text": [
        "2013-12-21 15:45:13,198 INFO sqlalchemy.engine.base.Engine SELECT name FROM  (SELECT * FROM sqlite_master UNION ALL   SELECT * FROM sqlite_temp_master) WHERE type='table' ORDER BY name\n"
       ]
      },
      {
       "output_type": "stream",
       "stream": "stdout",
       "text": [
        "2013-12-21 15:45:13,198 INFO sqlalchemy.engine.base.Engine ()\n"
       ]
      },
      {
       "output_type": "stream",
       "stream": "stdout",
       "text": [
        "[u'aaa', u'albums', u'artists']\n"
       ]
      }
     ],
     "prompt_number": 57
    },
    {
     "cell_type": "code",
     "collapsed": false,
     "input": [
      "util_sa.print_all_pretty_tables(engine)"
     ],
     "language": "python",
     "metadata": {},
     "outputs": [
      {
       "output_type": "stream",
       "stream": "stdout",
       "text": [
        "2013-12-21 15:46:04,220 INFO sqlalchemy.engine.base.Engine SELECT name FROM  (SELECT * FROM sqlite_master UNION ALL   SELECT * FROM sqlite_temp_master) WHERE type='table' ORDER BY name\n"
       ]
      },
      {
       "output_type": "stream",
       "stream": "stdout",
       "text": [
        "2013-12-21 15:46:04,221 INFO sqlalchemy.engine.base.Engine ()\n"
       ]
      },
      {
       "output_type": "stream",
       "stream": "stdout",
       "text": [
        "2013-12-21 15:46:04,224 INFO sqlalchemy.engine.base.Engine PRAGMA table_info(\"aaa\")\n"
       ]
      },
      {
       "output_type": "stream",
       "stream": "stdout",
       "text": [
        "2013-12-21 15:46:04,224 INFO sqlalchemy.engine.base.Engine ()\n"
       ]
      },
      {
       "output_type": "stream",
       "stream": "stdout",
       "text": [
        "2013-12-21 15:46:04,227 INFO sqlalchemy.engine.base.Engine PRAGMA foreign_key_list(\"aaa\")\n"
       ]
      },
      {
       "output_type": "stream",
       "stream": "stdout",
       "text": [
        "2013-12-21 15:46:04,227 INFO sqlalchemy.engine.base.Engine ()\n"
       ]
      },
      {
       "output_type": "stream",
       "stream": "stdout",
       "text": [
        "2013-12-21 15:46:04,229 INFO sqlalchemy.engine.base.Engine PRAGMA index_list(\"aaa\")\n"
       ]
      },
      {
       "output_type": "stream",
       "stream": "stdout",
       "text": [
        "2013-12-21 15:46:04,229 INFO sqlalchemy.engine.base.Engine ()\n"
       ]
      },
      {
       "output_type": "stream",
       "stream": "stdout",
       "text": [
        "2013-12-21 15:46:04,230 INFO sqlalchemy.engine.base.Engine PRAGMA table_info(\"albums\")\n"
       ]
      },
      {
       "output_type": "stream",
       "stream": "stdout",
       "text": [
        "2013-12-21 15:46:04,230 INFO sqlalchemy.engine.base.Engine ()\n"
       ]
      },
      {
       "output_type": "stream",
       "stream": "stdout",
       "text": [
        "2013-12-21 15:46:04,232 INFO sqlalchemy.engine.base.Engine PRAGMA foreign_key_list(\"albums\")\n"
       ]
      },
      {
       "output_type": "stream",
       "stream": "stdout",
       "text": [
        "2013-12-21 15:46:04,232 INFO sqlalchemy.engine.base.Engine ()\n"
       ]
      },
      {
       "output_type": "stream",
       "stream": "stdout",
       "text": [
        "2013-12-21 15:46:04,233 INFO sqlalchemy.engine.base.Engine PRAGMA table_info(\"artists\")\n"
       ]
      },
      {
       "output_type": "stream",
       "stream": "stdout",
       "text": [
        "2013-12-21 15:46:04,233 INFO sqlalchemy.engine.base.Engine ()\n"
       ]
      },
      {
       "output_type": "stream",
       "stream": "stdout",
       "text": [
        "2013-12-21 15:46:04,233 INFO sqlalchemy.engine.base.Engine PRAGMA foreign_key_list(\"artists\")\n"
       ]
      },
      {
       "output_type": "stream",
       "stream": "stdout",
       "text": [
        "2013-12-21 15:46:04,234 INFO sqlalchemy.engine.base.Engine ()\n"
       ]
      },
      {
       "output_type": "stream",
       "stream": "stdout",
       "text": [
        "2013-12-21 15:46:04,234 INFO sqlalchemy.engine.base.Engine PRAGMA index_list(\"artists\")\n"
       ]
      },
      {
       "output_type": "stream",
       "stream": "stdout",
       "text": [
        "2013-12-21 15:46:04,236 INFO sqlalchemy.engine.base.Engine ()\n"
       ]
      },
      {
       "output_type": "stream",
       "stream": "stdout",
       "text": [
        "2013-12-21 15:46:04,236 INFO sqlalchemy.engine.base.Engine PRAGMA index_list(\"albums\")\n"
       ]
      },
      {
       "output_type": "stream",
       "stream": "stdout",
       "text": [
        "2013-12-21 15:46:04,236 INFO sqlalchemy.engine.base.Engine ()\n"
       ]
      },
      {
       "output_type": "stream",
       "stream": "stdout",
       "text": [
        "2013-12-21 15:46:04,239 INFO sqlalchemy.engine.base.Engine SELECT artists.id, artists.name \n",
        "FROM artists\n"
       ]
      },
      {
       "output_type": "stream",
       "stream": "stdout",
       "text": [
        "2013-12-21 15:46:04,239 INFO sqlalchemy.engine.base.Engine ()\n"
       ]
      },
      {
       "output_type": "stream",
       "stream": "stdout",
       "text": [
        "2013-12-21 15:46:04,240 INFO sqlalchemy.engine.base.Engine SELECT aaa.id, aaa.name \n",
        "FROM aaa\n"
       ]
      },
      {
       "output_type": "stream",
       "stream": "stderr",
       "text": [
        "INFO:sqlalchemy.engine.base.Engine:SELECT aaa.id, aaa.name \n",
        "FROM aaa\n"
       ]
      },
      {
       "output_type": "stream",
       "stream": "stdout",
       "text": [
        "2013-12-21 15:46:04,242 INFO sqlalchemy.engine.base.Engine ()\n"
       ]
      },
      {
       "output_type": "stream",
       "stream": "stderr",
       "text": [
        "INFO:sqlalchemy.engine.base.Engine:()\n"
       ]
      },
      {
       "output_type": "stream",
       "stream": "stdout",
       "text": [
        "2013-12-21 15:46:04,243 INFO sqlalchemy.engine.base.Engine SELECT albums.id, albums.title, albums.release_date, albums.publisher, albums.media_type, albums.artist_id \n",
        "FROM albums\n"
       ]
      },
      {
       "output_type": "stream",
       "stream": "stderr",
       "text": [
        "INFO:sqlalchemy.engine.base.Engine:SELECT albums.id, albums.title, albums.release_date, albums.publisher, albums.media_type, albums.artist_id \n",
        "FROM albums\n"
       ]
      },
      {
       "output_type": "stream",
       "stream": "stdout",
       "text": [
        "2013-12-21 15:46:04,244 INFO sqlalchemy.engine.base.Engine ()\n"
       ]
      },
      {
       "output_type": "stream",
       "stream": "stderr",
       "text": [
        "INFO:sqlalchemy.engine.base.Engine:()\n"
       ]
      },
      {
       "output_type": "stream",
       "stream": "stdout",
       "text": [
        "***artists***\n",
        "+----+------+\n",
        "| id | name |\n",
        "+----+------+\n",
        "+----+------+\n",
        "***aaa***\n",
        "+----+------+\n",
        "| id | name |\n",
        "+----+------+\n",
        "+----+------+\n",
        "***albums***\n",
        "+----+-------+--------------+-----------+------------+-----------+\n",
        "| id | title | release_date | publisher | media_type | artist_id |\n",
        "+----+-------+--------------+-----------+------------+-----------+\n",
        "+----+-------+--------------+-----------+------------+-----------+\n"
       ]
      }
     ],
     "prompt_number": 59
    },
    {
     "cell_type": "code",
     "collapsed": false,
     "input": [],
     "language": "python",
     "metadata": {},
     "outputs": []
    }
   ],
   "metadata": {}
  }
 ]
}