{
 "metadata": {
  "name": "100 Util FileIO"
 },
 "nbformat": 3,
 "nbformat_minor": 0,
 "worksheets": [
  {
   "cells": [
    {
     "cell_type": "code",
     "collapsed": false,
     "input": [],
     "language": "python",
     "metadata": {},
     "outputs": [
      {
       "output_type": "stream",
       "stream": "stdout",
       "text": [
        " Volume in drive C has no label.\n",
        " Volume Serial Number is 680C-7F35\n",
        "\n",
        " Directory of C:\\Eclipse\\MyUtilities\\IpythonNotebook\\myIPythonDir\n",
        "\n",
        "08/26/2013  10:11 PM    <DIR>          .\n",
        "08/26/2013  10:11 PM    <DIR>          ..\n",
        "04/04/2013  04:40 PM                74 00-first.py\n",
        "04/04/2013  04:40 PM             3,480 Decathlon.ipynb\n",
        "04/04/2013  04:40 PM            37,689 MatPlotting testing.ipynb\n",
        "04/04/2013  04:40 PM            51,177 P03 - Q2.ipynb\n",
        "04/04/2013  04:40 PM           189,909 prob 01 IST STATS.ipynb\n",
        "04/04/2013  04:40 PM           405,626 Prob2.ipynb\n",
        "04/04/2013  04:40 PM           192,906 Problem Set 3.ipynb\n",
        "08/26/2013  10:11 PM    <DIR>          profile_default\n",
        "04/04/2013  04:40 PM    <DIR>          profile_myHomeProfile\n",
        "04/04/2013  04:40 PM             7,133 Pyper Testing.ipynb\n",
        "04/04/2013  04:40 PM               100 README\n",
        "04/04/2013  04:40 PM            75,006 STATS template.ipynb\n",
        "08/26/2013  10:11 PM               107 Untitled0.ipynb\n",
        "              11 File(s)        963,207 bytes\n",
        "               4 Dir(s)  13,388,189,696 bytes free\n"
       ]
      }
     ],
     "prompt_number": 2
    },
    {
     "cell_type": "code",
     "collapsed": false,
     "input": [
      "path_idf = r\"C:\\Eclipse\\MyUtilities\\IpythonNotebook\\myIPythonDir\\Workshop input files\\AirChillerSimple.idf\""
     ],
     "language": "python",
     "metadata": {},
     "outputs": [],
     "prompt_number": 28
    },
    {
     "cell_type": "code",
     "collapsed": false,
     "input": [
      "h = open(path_idf)"
     ],
     "language": "python",
     "metadata": {},
     "outputs": [],
     "prompt_number": 29
    },
    {
     "cell_type": "code",
     "collapsed": false,
     "input": [
      "print h"
     ],
     "language": "python",
     "metadata": {},
     "outputs": [
      {
       "output_type": "stream",
       "stream": "stdout",
       "text": [
        "<open file 'C:\\Eclipse\\MyUtilities\\IpythonNotebook\\myIPythonDir\\Workshop input files\\AirChillerSimple.idf', mode 'r' at 0x0000000007A775D0>\n"
       ]
      }
     ],
     "prompt_number": 30
    },
    {
     "cell_type": "code",
     "collapsed": false,
     "input": [
      "print dir(h)"
     ],
     "language": "python",
     "metadata": {},
     "outputs": [
      {
       "output_type": "stream",
       "stream": "stdout",
       "text": [
        "['__class__', '__delattr__', '__doc__', '__enter__', '__exit__', '__format__', '__getattribute__', '__hash__', '__init__', '__iter__', '__new__', '__reduce__', '__reduce_ex__', '__repr__', '__setattr__', '__sizeof__', '__str__', '__subclasshook__', 'close', 'closed', 'encoding', 'errors', 'fileno', 'flush', 'isatty', 'mode', 'name', 'newlines', 'next', 'read', 'readinto', 'readline', 'readlines', 'seek', 'softspace', 'tell', 'truncate', 'write', 'writelines', 'xreadlines']\n"
       ]
      }
     ],
     "prompt_number": 31
    },
    {
     "cell_type": "code",
     "collapsed": false,
     "input": [
      "for line in h:\n",
      "    print line,"
     ],
     "language": "python",
     "metadata": {},
     "outputs": [
      {
       "output_type": "stream",
       "stream": "stdout",
       "text": [
        "! AirCooledElectricChiller.idf\n",
        "\n",
        "  Chiller:Electric,\n",
        "    Big Chiller,             !- Name\n",
        "    AirCooled,               !- Condenser Type\n",
        "    100000,                  !- Nominal Capacity {W}\n",
        "    2.58,                    !- Nominal COP {W/W}\n",
        "    Big Chiller Inlet Node,  !- Chilled Water Inlet Node Name\n",
        "    Big Chiller Outlet Node, !- Chilled Water Outlet Node Name\n",
        "    Big Chiller Condenser Inlet Node,  !- Condenser Inlet Node Name\n",
        "    Big Chiller Condenser Outlet Node,  !- Condenser Outlet Node Name\n",
        "    0.05,                    !- Minimum Part Load Ratio\n",
        "    1.0,                     !- Maximum Part Load Ratio\n",
        "    0.65,                    !- Optimum Part Load Ratio\n",
        "    35.0,                    !- Design Condenser Inlet Temperature {C}\n",
        "    2.778,                   !- Temperature Rise Coefficient\n",
        "    6.67,                    !- Design Chilled Water Outlet Temperature {C}\n",
        "    0.0011,                  !- Design Chilled Water Flow Rate {m3/s}\n",
        "    0.002,                   !- Design Condenser Fluid Flow Rate {m3/s}\n",
        "    0.9949,                  !- Coefficient 1 of Capacity Ratio Curve\n",
        "    -0.045954,               !- Coefficient 2 of Capacity Ratio Curve\n",
        "    -0.0013543,              !- Coefficient 3 of Capacity Ratio Curve\n",
        "    2.333,                   !- Coefficient 1 of Power Ratio Curve\n",
        "    -1.975,                  !- Coefficient 2 of Power Ratio Curve\n",
        "    0.6121,                  !- Coefficient 3 of Power Ratio Curve\n",
        "    0.03303,                 !- Coefficient 1 of Full Load Ratio Curve\n",
        "    0.6852,                  !- Coefficient 2 of Full Load Ratio Curve\n",
        "    0.2818,                  !- Coefficient 3 of Full Load Ratio Curve\n",
        "    5,                       !- Chilled Water Outlet Temperature Lower Limit {C}\n",
        "    LeavingSetpointModulated;!- Chiller Flow Mode\n"
       ]
      }
     ],
     "prompt_number": 32
    },
    {
     "cell_type": "code",
     "collapsed": false,
     "input": [
      "close(h)"
     ],
     "language": "python",
     "metadata": {},
     "outputs": [
      {
       "ename": "TypeError",
       "evalue": "Unrecognized argument type <type 'file'> to close",
       "output_type": "pyerr",
       "traceback": [
        "\u001b[1;31m---------------------------------------------------------------------------\u001b[0m\n\u001b[1;31mTypeError\u001b[0m                                 Traceback (most recent call last)",
        "\u001b[1;32m<ipython-input-33-f06f43346408>\u001b[0m in \u001b[0;36m<module>\u001b[1;34m()\u001b[0m\n\u001b[1;32m----> 1\u001b[1;33m \u001b[0mclose\u001b[0m\u001b[1;33m(\u001b[0m\u001b[0mh\u001b[0m\u001b[1;33m)\u001b[0m\u001b[1;33m\u001b[0m\u001b[0m\n\u001b[0m",
        "\u001b[1;32mC:\\Users\\Anonymous\\AppData\\Local\\Enthought\\Canopy\\App\\appdata\\canopy-1.0.3.1262.win-x86_64\\lib\\site-packages\\matplotlib\\pyplot.pyc\u001b[0m in \u001b[0;36mclose\u001b[1;34m(*args)\u001b[0m\n\u001b[0;32m    433\u001b[0m             \u001b[0m_pylab_helpers\u001b[0m\u001b[1;33m.\u001b[0m\u001b[0mGcf\u001b[0m\u001b[1;33m.\u001b[0m\u001b[0mdestroy_fig\u001b[0m\u001b[1;33m(\u001b[0m\u001b[0marg\u001b[0m\u001b[1;33m)\u001b[0m\u001b[1;33m\u001b[0m\u001b[0m\n\u001b[0;32m    434\u001b[0m         \u001b[1;32melse\u001b[0m\u001b[1;33m:\u001b[0m\u001b[1;33m\u001b[0m\u001b[0m\n\u001b[1;32m--> 435\u001b[1;33m             \u001b[1;32mraise\u001b[0m \u001b[0mTypeError\u001b[0m\u001b[1;33m(\u001b[0m\u001b[1;34m'Unrecognized argument type %s to close'\u001b[0m\u001b[1;33m%\u001b[0m\u001b[0mtype\u001b[0m\u001b[1;33m(\u001b[0m\u001b[0marg\u001b[0m\u001b[1;33m)\u001b[0m\u001b[1;33m)\u001b[0m\u001b[1;33m\u001b[0m\u001b[0m\n\u001b[0m\u001b[0;32m    436\u001b[0m     \u001b[1;32melse\u001b[0m\u001b[1;33m:\u001b[0m\u001b[1;33m\u001b[0m\u001b[0m\n\u001b[0;32m    437\u001b[0m         \u001b[1;32mraise\u001b[0m \u001b[0mTypeError\u001b[0m\u001b[1;33m(\u001b[0m\u001b[1;34m'close takes 0 or 1 arguments'\u001b[0m\u001b[1;33m)\u001b[0m\u001b[1;33m\u001b[0m\u001b[0m\n",
        "\u001b[1;31mTypeError\u001b[0m: Unrecognized argument type <type 'file'> to close"
       ]
      }
     ],
     "prompt_number": 33
    },
    {
     "cell_type": "code",
     "collapsed": false,
     "input": [
      "h.close()"
     ],
     "language": "python",
     "metadata": {},
     "outputs": [],
     "prompt_number": 34
    },
    {
     "cell_type": "code",
     "collapsed": false,
     "input": [
      "output_dir = r\"C:\\myOutputDir\""
     ],
     "language": "python",
     "metadata": {},
     "outputs": [],
     "prompt_number": 35
    },
    {
     "cell_type": "code",
     "collapsed": false,
     "input": [],
     "language": "python",
     "metadata": {},
     "outputs": []
    }
   ],
   "metadata": {}
  }
 ]
}