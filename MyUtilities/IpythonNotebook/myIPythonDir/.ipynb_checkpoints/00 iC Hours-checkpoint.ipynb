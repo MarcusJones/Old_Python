{
 "metadata": {
  "name": ""
 },
 "nbformat": 3,
 "nbformat_minor": 0,
 "worksheets": [
  {
   "cells": [
    {
     "cell_type": "code",
     "collapsed": false,
     "input": [
      "import logging.config\n",
      "import unittest\n",
      "from UtilityInspect import whoami, whosdaddy, listObject\n",
      "import pandas as pd\n",
      "print(pd.__version__)"
     ],
     "language": "python",
     "metadata": {},
     "outputs": [
      {
       "output_type": "stream",
       "stream": "stdout",
       "text": [
        "0.13.1\n"
       ]
      }
     ],
     "prompt_number": 49
    },
    {
     "cell_type": "markdown",
     "metadata": {},
     "source": [
      "Load the file"
     ]
    },
    {
     "cell_type": "code",
     "collapsed": false,
     "input": [
      "excel_path = r\"D:\\Dropbox\\03 Side project\\00 iC\\Forecast.xlsx\"\n",
      "logging.debug(\"XLSX file at {}\".format(excel_path))\n",
      "\n",
      "xlsx = pd.ExcelFile(excel_path)\n",
      "logging.debug(\"XLSX object {} with sheets {}\".format(xlsx,xlsx.sheet_names))\n",
      "#hours = xlsx.parse('Hours',header=2,skiprows=2,parse_dates=True)\n",
      "hours = xlsx.parse('Hours',skiprows=2,header=2)\n",
      "hours = hours.transpose()\n",
      "hours.head()"
     ],
     "language": "python",
     "metadata": {},
     "outputs": [
      {
       "html": [
        "<div style=\"max-height:1000px;max-width:1500px;overflow:auto;\">\n",
        "<table border=\"1\" class=\"dataframe\">\n",
        "  <thead>\n",
        "    <tr>\n",
        "      <th></th>\n",
        "      <th colspan=\"8\" halign=\"left\">NaN</th>\n",
        "    </tr>\n",
        "    <tr>\n",
        "      <th></th>\n",
        "      <th colspan=\"2\" halign=\"left\">13319</th>\n",
        "      <th colspan=\"2\" halign=\"left\">13330</th>\n",
        "      <th colspan=\"2\" halign=\"left\">13317</th>\n",
        "      <th colspan=\"2\" halign=\"left\">A</th>\n",
        "    </tr>\n",
        "    <tr>\n",
        "      <th></th>\n",
        "      <th colspan=\"2\" halign=\"left\">Dubai Villa</th>\n",
        "      <th colspan=\"2\" halign=\"left\">Kosovo</th>\n",
        "      <th colspan=\"2\" halign=\"left\">Konrad, OMV Biozid rohrplanung</th>\n",
        "      <th colspan=\"2\" halign=\"left\">FFG</th>\n",
        "    </tr>\n",
        "    <tr>\n",
        "      <th></th>\n",
        "      <th>Stunden</th>\n",
        "      <th>Tag</th>\n",
        "      <th>Stunden</th>\n",
        "      <th>Tag</th>\n",
        "      <th>Stunden</th>\n",
        "      <th>Tag</th>\n",
        "      <th>Stunden</th>\n",
        "      <th>Tag</th>\n",
        "    </tr>\n",
        "  </thead>\n",
        "  <tbody>\n",
        "    <tr>\n",
        "      <th>2014-01-01</th>\n",
        "      <td>NaN</td>\n",
        "      <td>NaN</td>\n",
        "      <td>  5</td>\n",
        "      <td>NaN</td>\n",
        "      <td>NaN</td>\n",
        "      <td>NaN</td>\n",
        "      <td>NaN</td>\n",
        "      <td>NaN</td>\n",
        "    </tr>\n",
        "    <tr>\n",
        "      <th>2014-01-02</th>\n",
        "      <td>NaN</td>\n",
        "      <td>NaN</td>\n",
        "      <td>NaN</td>\n",
        "      <td>NaN</td>\n",
        "      <td>NaN</td>\n",
        "      <td>NaN</td>\n",
        "      <td>NaN</td>\n",
        "      <td>NaN</td>\n",
        "    </tr>\n",
        "    <tr>\n",
        "      <th>2014-01-03</th>\n",
        "      <td>NaN</td>\n",
        "      <td>NaN</td>\n",
        "      <td>NaN</td>\n",
        "      <td>NaN</td>\n",
        "      <td>NaN</td>\n",
        "      <td>NaN</td>\n",
        "      <td>NaN</td>\n",
        "      <td>NaN</td>\n",
        "    </tr>\n",
        "    <tr>\n",
        "      <th>2014-01-04</th>\n",
        "      <td>NaN</td>\n",
        "      <td>NaN</td>\n",
        "      <td>NaN</td>\n",
        "      <td>NaN</td>\n",
        "      <td>NaN</td>\n",
        "      <td>NaN</td>\n",
        "      <td>NaN</td>\n",
        "      <td>NaN</td>\n",
        "    </tr>\n",
        "    <tr>\n",
        "      <th>2014-01-05</th>\n",
        "      <td>NaN</td>\n",
        "      <td>NaN</td>\n",
        "      <td>NaN</td>\n",
        "      <td>NaN</td>\n",
        "      <td>NaN</td>\n",
        "      <td>NaN</td>\n",
        "      <td>NaN</td>\n",
        "      <td>NaN</td>\n",
        "    </tr>\n",
        "  </tbody>\n",
        "</table>\n",
        "<p>5 rows \u00d7 8 columns</p>\n",
        "</div>"
       ],
       "metadata": {},
       "output_type": "pyout",
       "prompt_number": 50,
       "text": [
        "                    NaN                                                     \\\n",
        "                  13319         13330                                13317   \n",
        "            Dubai Villa        Kosovo       Konrad, OMV Biozid rohrplanung   \n",
        "                Stunden  Tag  Stunden  Tag                         Stunden   \n",
        "2014-01-01          NaN  NaN        5  NaN                             NaN   \n",
        "2014-01-02          NaN  NaN      NaN  NaN                             NaN   \n",
        "2014-01-03          NaN  NaN      NaN  NaN                             NaN   \n",
        "2014-01-04          NaN  NaN      NaN  NaN                             NaN   \n",
        "2014-01-05          NaN  NaN      NaN  NaN                             NaN   \n",
        "\n",
        "                               \n",
        "                       A       \n",
        "                     FFG       \n",
        "            Tag  Stunden  Tag  \n",
        "2014-01-01  NaN      NaN  NaN  \n",
        "2014-01-02  NaN      NaN  NaN  \n",
        "2014-01-03  NaN      NaN  NaN  \n",
        "2014-01-04  NaN      NaN  NaN  \n",
        "2014-01-05  NaN      NaN  NaN  \n",
        "\n",
        "[5 rows x 8 columns]"
       ]
      }
     ],
     "prompt_number": 50
    },
    {
     "cell_type": "markdown",
     "metadata": {},
     "source": [
      "Create names"
     ]
    },
    {
     "cell_type": "code",
     "collapsed": false,
     "input": [
      "hours.columns.names = [None, 'Number', 'Name', 'Type']"
     ],
     "language": "python",
     "metadata": {},
     "outputs": [],
     "prompt_number": 51
    },
    {
     "cell_type": "code",
     "collapsed": false,
     "input": [
      "assert(hours.index.dtype == 'datetime64[ns]')\n",
      "hours.info()"
     ],
     "language": "python",
     "metadata": {},
     "outputs": [
      {
       "output_type": "stream",
       "stream": "stdout",
       "text": [
        "<class 'pandas.core.frame.DataFrame'>\n",
        "DatetimeIndex: 74 entries, 2014-01-01 00:00:00 to 2014-03-15 00:00:00\n",
        "Data columns (total 8 columns):\n",
        "(nan, 13319, Dubai Villa, Stunden)                       1 non-null float64\n",
        "(nan, 13319, Dubai Villa, Tag)                           0 non-null float64\n",
        "(nan, 13330, Kosovo, Stunden)                            11 non-null float64\n",
        "(nan, 13330, Kosovo, Tag)                                10 non-null float64\n",
        "(nan, 13317, Konrad, OMV Biozid rohrplanung, Stunden)    7 non-null float64\n",
        "(nan, 13317, Konrad, OMV Biozid rohrplanung, Tag)        0 non-null float64\n",
        "(nan, A, FFG, Stunden)                                   7 non-null float64\n",
        "(nan, A, FFG, Tag)                                       0 non-null float64\n",
        "dtypes: float64(8)"
       ]
      }
     ],
     "prompt_number": 52
    },
    {
     "cell_type": "code",
     "collapsed": false,
     "input": [
      "# Levels\n",
      "hours.columns.levels[:]"
     ],
     "language": "python",
     "metadata": {},
     "outputs": [
      {
       "metadata": {},
       "output_type": "pyout",
       "prompt_number": 53,
       "text": [
        "FrozenList([[], [13317, 13319, 13330, u'A'], [u'Dubai Villa', u'FFG', u'Konrad, OMV Biozid rohrplanung', u'Kosovo'], [u'Stunden', u'Tag']])"
       ]
      }
     ],
     "prompt_number": 53
    },
    {
     "cell_type": "code",
     "collapsed": false,
     "input": [
      "# Names\n",
      "hours.columns.names[:]"
     ],
     "language": "python",
     "metadata": {},
     "outputs": [
      {
       "metadata": {},
       "output_type": "pyout",
       "prompt_number": 54,
       "text": [
        "FrozenList([None, u'Number', u'Name', u'Type'])"
       ]
      }
     ],
     "prompt_number": 54
    },
    {
     "cell_type": "code",
     "collapsed": false,
     "input": [
      "# Labels\n",
      "hours.columns.labels[:]"
     ],
     "language": "python",
     "metadata": {},
     "outputs": [
      {
       "metadata": {},
       "output_type": "pyout",
       "prompt_number": 55,
       "text": [
        "FrozenList([[-1, -1, -1, -1, -1, -1, -1, -1], [1, 1, 2, 2, 0, 0, 3, 3], [0, 0, 3, 3, 2, 2, 1, 1], [0, 1, 0, 1, 0, 1, 0, 1]])"
       ]
      }
     ],
     "prompt_number": 55
    },
    {
     "cell_type": "markdown",
     "metadata": {},
     "source": [
      "Remove the first column row"
     ]
    },
    {
     "cell_type": "code",
     "collapsed": false,
     "input": [
      "new_levels = hours.columns.levels[1:]\n",
      "#new_labels = [l.tolist()  for l in hours.columns.labels[:]] \n",
      "new_labels = hours.columns.labels[1:]\n",
      "new_names = hours.columns.names[1:]\n",
      "print(new_levels)\n",
      "print(new_labels)"
     ],
     "language": "python",
     "metadata": {},
     "outputs": [
      {
       "output_type": "stream",
       "stream": "stdout",
       "text": [
        "[[13317, 13319, 13330, u'A'], [u'Dubai Villa', u'FFG', u'Konrad, OMV Biozid rohrplanung', u'Kosovo'], [u'Stunden', u'Tag']]\n",
        "[[1, 1, 2, 2, 0, 0, 3, 3], [0, 0, 3, 3, 2, 2, 1, 1], [0, 1, 0, 1, 0, 1, 0, 1]]\n"
       ]
      }
     ],
     "prompt_number": 56
    },
    {
     "cell_type": "code",
     "collapsed": false,
     "input": [
      "new_index = pd.MultiIndex(levels=new_levels,\n",
      "           labels=new_labels,\n",
      "           names=new_names)\n",
      "hours.columns = new_index"
     ],
     "language": "python",
     "metadata": {},
     "outputs": [],
     "prompt_number": 57
    },
    {
     "cell_type": "code",
     "collapsed": false,
     "input": [
      "hours.head()"
     ],
     "language": "python",
     "metadata": {},
     "outputs": [
      {
       "html": [
        "<div style=\"max-height:1000px;max-width:1500px;overflow:auto;\">\n",
        "<table border=\"1\" class=\"dataframe\">\n",
        "  <thead>\n",
        "    <tr>\n",
        "      <th>Number</th>\n",
        "      <th colspan=\"2\" halign=\"left\">13319</th>\n",
        "      <th colspan=\"2\" halign=\"left\">13330</th>\n",
        "      <th colspan=\"2\" halign=\"left\">13317</th>\n",
        "      <th colspan=\"2\" halign=\"left\">A</th>\n",
        "    </tr>\n",
        "    <tr>\n",
        "      <th>Name</th>\n",
        "      <th colspan=\"2\" halign=\"left\">Dubai Villa</th>\n",
        "      <th colspan=\"2\" halign=\"left\">Kosovo</th>\n",
        "      <th colspan=\"2\" halign=\"left\">Konrad, OMV Biozid rohrplanung</th>\n",
        "      <th colspan=\"2\" halign=\"left\">FFG</th>\n",
        "    </tr>\n",
        "    <tr>\n",
        "      <th>Type</th>\n",
        "      <th>Stunden</th>\n",
        "      <th>Tag</th>\n",
        "      <th>Stunden</th>\n",
        "      <th>Tag</th>\n",
        "      <th>Stunden</th>\n",
        "      <th>Tag</th>\n",
        "      <th>Stunden</th>\n",
        "      <th>Tag</th>\n",
        "    </tr>\n",
        "  </thead>\n",
        "  <tbody>\n",
        "    <tr>\n",
        "      <th>2014-01-01</th>\n",
        "      <td>NaN</td>\n",
        "      <td>NaN</td>\n",
        "      <td>  5</td>\n",
        "      <td>NaN</td>\n",
        "      <td>NaN</td>\n",
        "      <td>NaN</td>\n",
        "      <td>NaN</td>\n",
        "      <td>NaN</td>\n",
        "    </tr>\n",
        "    <tr>\n",
        "      <th>2014-01-02</th>\n",
        "      <td>NaN</td>\n",
        "      <td>NaN</td>\n",
        "      <td>NaN</td>\n",
        "      <td>NaN</td>\n",
        "      <td>NaN</td>\n",
        "      <td>NaN</td>\n",
        "      <td>NaN</td>\n",
        "      <td>NaN</td>\n",
        "    </tr>\n",
        "    <tr>\n",
        "      <th>2014-01-03</th>\n",
        "      <td>NaN</td>\n",
        "      <td>NaN</td>\n",
        "      <td>NaN</td>\n",
        "      <td>NaN</td>\n",
        "      <td>NaN</td>\n",
        "      <td>NaN</td>\n",
        "      <td>NaN</td>\n",
        "      <td>NaN</td>\n",
        "    </tr>\n",
        "    <tr>\n",
        "      <th>2014-01-04</th>\n",
        "      <td>NaN</td>\n",
        "      <td>NaN</td>\n",
        "      <td>NaN</td>\n",
        "      <td>NaN</td>\n",
        "      <td>NaN</td>\n",
        "      <td>NaN</td>\n",
        "      <td>NaN</td>\n",
        "      <td>NaN</td>\n",
        "    </tr>\n",
        "    <tr>\n",
        "      <th>2014-01-05</th>\n",
        "      <td>NaN</td>\n",
        "      <td>NaN</td>\n",
        "      <td>NaN</td>\n",
        "      <td>NaN</td>\n",
        "      <td>NaN</td>\n",
        "      <td>NaN</td>\n",
        "      <td>NaN</td>\n",
        "      <td>NaN</td>\n",
        "    </tr>\n",
        "  </tbody>\n",
        "</table>\n",
        "<p>5 rows \u00d7 8 columns</p>\n",
        "</div>"
       ],
       "metadata": {},
       "output_type": "pyout",
       "prompt_number": 58,
       "text": [
        "Number            13319         13330                                13317  \\\n",
        "Name        Dubai Villa        Kosovo       Konrad, OMV Biozid rohrplanung   \n",
        "Type            Stunden  Tag  Stunden  Tag                         Stunden   \n",
        "2014-01-01          NaN  NaN        5  NaN                             NaN   \n",
        "2014-01-02          NaN  NaN      NaN  NaN                             NaN   \n",
        "2014-01-03          NaN  NaN      NaN  NaN                             NaN   \n",
        "2014-01-04          NaN  NaN      NaN  NaN                             NaN   \n",
        "2014-01-05          NaN  NaN      NaN  NaN                             NaN   \n",
        "\n",
        "Number                 A       \n",
        "Name                 FFG       \n",
        "Type        Tag  Stunden  Tag  \n",
        "2014-01-01  NaN      NaN  NaN  \n",
        "2014-01-02  NaN      NaN  NaN  \n",
        "2014-01-03  NaN      NaN  NaN  \n",
        "2014-01-04  NaN      NaN  NaN  \n",
        "2014-01-05  NaN      NaN  NaN  \n",
        "\n",
        "[5 rows x 8 columns]"
       ]
      }
     ],
     "prompt_number": 58
    },
    {
     "cell_type": "markdown",
     "metadata": {},
     "source": [
      "Group by months"
     ]
    },
    {
     "cell_type": "code",
     "collapsed": false,
     "input": [
      "months = hours.groupby(lambda x : x.month).sum()\n",
      "#months.index\n",
      "months.index.name = 'Month'\n",
      "months"
     ],
     "language": "python",
     "metadata": {},
     "outputs": [
      {
       "html": [
        "<div style=\"max-height:1000px;max-width:1500px;overflow:auto;\">\n",
        "<table border=\"1\" class=\"dataframe\">\n",
        "  <thead>\n",
        "    <tr>\n",
        "      <th>Number</th>\n",
        "      <th colspan=\"2\" halign=\"left\">13319</th>\n",
        "      <th colspan=\"2\" halign=\"left\">13330</th>\n",
        "      <th colspan=\"2\" halign=\"left\">13317</th>\n",
        "      <th colspan=\"2\" halign=\"left\">A</th>\n",
        "    </tr>\n",
        "    <tr>\n",
        "      <th>Name</th>\n",
        "      <th colspan=\"2\" halign=\"left\">Dubai Villa</th>\n",
        "      <th colspan=\"2\" halign=\"left\">Kosovo</th>\n",
        "      <th colspan=\"2\" halign=\"left\">Konrad, OMV Biozid rohrplanung</th>\n",
        "      <th colspan=\"2\" halign=\"left\">FFG</th>\n",
        "    </tr>\n",
        "    <tr>\n",
        "      <th>Type</th>\n",
        "      <th>Stunden</th>\n",
        "      <th>Tag</th>\n",
        "      <th>Stunden</th>\n",
        "      <th>Tag</th>\n",
        "      <th>Stunden</th>\n",
        "      <th>Tag</th>\n",
        "      <th>Stunden</th>\n",
        "      <th>Tag</th>\n",
        "    </tr>\n",
        "    <tr>\n",
        "      <th>Month</th>\n",
        "      <th></th>\n",
        "      <th></th>\n",
        "      <th></th>\n",
        "      <th></th>\n",
        "      <th></th>\n",
        "      <th></th>\n",
        "      <th></th>\n",
        "      <th></th>\n",
        "    </tr>\n",
        "  </thead>\n",
        "  <tbody>\n",
        "    <tr>\n",
        "      <th>1</th>\n",
        "      <td>NaN</td>\n",
        "      <td>NaN</td>\n",
        "      <td> 29</td>\n",
        "      <td>  5</td>\n",
        "      <td> 11</td>\n",
        "      <td>NaN</td>\n",
        "      <td> 27</td>\n",
        "      <td>NaN</td>\n",
        "    </tr>\n",
        "    <tr>\n",
        "      <th>2</th>\n",
        "      <td>  5</td>\n",
        "      <td>NaN</td>\n",
        "      <td> 12</td>\n",
        "      <td>  5</td>\n",
        "      <td> 19</td>\n",
        "      <td>NaN</td>\n",
        "      <td>NaN</td>\n",
        "      <td>NaN</td>\n",
        "    </tr>\n",
        "    <tr>\n",
        "      <th>3</th>\n",
        "      <td>NaN</td>\n",
        "      <td>NaN</td>\n",
        "      <td>NaN</td>\n",
        "      <td>NaN</td>\n",
        "      <td>NaN</td>\n",
        "      <td>NaN</td>\n",
        "      <td>NaN</td>\n",
        "      <td>NaN</td>\n",
        "    </tr>\n",
        "  </tbody>\n",
        "</table>\n",
        "<p>3 rows \u00d7 8 columns</p>\n",
        "</div>"
       ],
       "metadata": {},
       "output_type": "pyout",
       "prompt_number": 59,
       "text": [
        "Number        13319         13330                                13317       \\\n",
        "Name    Dubai Villa        Kosovo       Konrad, OMV Biozid rohrplanung        \n",
        "Type        Stunden  Tag  Stunden  Tag                         Stunden  Tag   \n",
        "Month                                                                         \n",
        "1               NaN  NaN       29    5                              11  NaN   \n",
        "2                 5  NaN       12    5                              19  NaN   \n",
        "3               NaN  NaN      NaN  NaN                             NaN  NaN   \n",
        "\n",
        "Number        A       \n",
        "Name        FFG       \n",
        "Type    Stunden  Tag  \n",
        "Month                 \n",
        "1            27  NaN  \n",
        "2           NaN  NaN  \n",
        "3           NaN  NaN  \n",
        "\n",
        "[3 rows x 8 columns]"
       ]
      }
     ],
     "prompt_number": 59
    },
    {
     "cell_type": "code",
     "collapsed": false,
     "input": [
      "days_worked = months.transpose().query('Type == \"Tag\"')\n",
      "days_worked"
     ],
     "language": "python",
     "metadata": {},
     "outputs": [
      {
       "html": [
        "<div style=\"max-height:1000px;max-width:1500px;overflow:auto;\">\n",
        "<table border=\"1\" class=\"dataframe\">\n",
        "  <thead>\n",
        "    <tr style=\"text-align: right;\">\n",
        "      <th></th>\n",
        "      <th></th>\n",
        "      <th>Month</th>\n",
        "      <th>1</th>\n",
        "      <th>2</th>\n",
        "      <th>3</th>\n",
        "    </tr>\n",
        "    <tr>\n",
        "      <th>Number</th>\n",
        "      <th>Name</th>\n",
        "      <th>Type</th>\n",
        "      <th></th>\n",
        "      <th></th>\n",
        "      <th></th>\n",
        "    </tr>\n",
        "  </thead>\n",
        "  <tbody>\n",
        "    <tr>\n",
        "      <th>13319</th>\n",
        "      <th>Dubai Villa</th>\n",
        "      <th>Tag</th>\n",
        "      <td>NaN</td>\n",
        "      <td>NaN</td>\n",
        "      <td>NaN</td>\n",
        "    </tr>\n",
        "    <tr>\n",
        "      <th>13330</th>\n",
        "      <th>Kosovo</th>\n",
        "      <th>Tag</th>\n",
        "      <td>  5</td>\n",
        "      <td>  5</td>\n",
        "      <td>NaN</td>\n",
        "    </tr>\n",
        "    <tr>\n",
        "      <th>13317</th>\n",
        "      <th>Konrad, OMV Biozid rohrplanung</th>\n",
        "      <th>Tag</th>\n",
        "      <td>NaN</td>\n",
        "      <td>NaN</td>\n",
        "      <td>NaN</td>\n",
        "    </tr>\n",
        "    <tr>\n",
        "      <th>A</th>\n",
        "      <th>FFG</th>\n",
        "      <th>Tag</th>\n",
        "      <td>NaN</td>\n",
        "      <td>NaN</td>\n",
        "      <td>NaN</td>\n",
        "    </tr>\n",
        "  </tbody>\n",
        "</table>\n",
        "<p>4 rows \u00d7 3 columns</p>\n",
        "</div>"
       ],
       "metadata": {},
       "output_type": "pyout",
       "prompt_number": 60,
       "text": [
        "Month                                        1   2   3\n",
        "Number Name                           Type            \n",
        "13319  Dubai Villa                    Tag  NaN NaN NaN\n",
        "13330  Kosovo                         Tag    5   5 NaN\n",
        "13317  Konrad, OMV Biozid rohrplanung Tag  NaN NaN NaN\n",
        "A      FFG                            Tag  NaN NaN NaN\n",
        "\n",
        "[4 rows x 3 columns]"
       ]
      }
     ],
     "prompt_number": 60
    },
    {
     "cell_type": "code",
     "collapsed": false,
     "input": [
      "hours_worked = months.transpose().query('Type == \"Stunden\"').transpose()\n",
      "hours_worked"
     ],
     "language": "python",
     "metadata": {},
     "outputs": [
      {
       "html": [
        "<div style=\"max-height:1000px;max-width:1500px;overflow:auto;\">\n",
        "<table border=\"1\" class=\"dataframe\">\n",
        "  <thead>\n",
        "    <tr>\n",
        "      <th>Number</th>\n",
        "      <th>13319</th>\n",
        "      <th>13330</th>\n",
        "      <th>13317</th>\n",
        "      <th>A</th>\n",
        "    </tr>\n",
        "    <tr>\n",
        "      <th>Name</th>\n",
        "      <th>Dubai Villa</th>\n",
        "      <th>Kosovo</th>\n",
        "      <th>Konrad, OMV Biozid rohrplanung</th>\n",
        "      <th>FFG</th>\n",
        "    </tr>\n",
        "    <tr>\n",
        "      <th>Type</th>\n",
        "      <th>Stunden</th>\n",
        "      <th>Stunden</th>\n",
        "      <th>Stunden</th>\n",
        "      <th>Stunden</th>\n",
        "    </tr>\n",
        "    <tr>\n",
        "      <th>Month</th>\n",
        "      <th></th>\n",
        "      <th></th>\n",
        "      <th></th>\n",
        "      <th></th>\n",
        "    </tr>\n",
        "  </thead>\n",
        "  <tbody>\n",
        "    <tr>\n",
        "      <th>1</th>\n",
        "      <td>NaN</td>\n",
        "      <td> 29</td>\n",
        "      <td> 11</td>\n",
        "      <td> 27</td>\n",
        "    </tr>\n",
        "    <tr>\n",
        "      <th>2</th>\n",
        "      <td>  5</td>\n",
        "      <td> 12</td>\n",
        "      <td> 19</td>\n",
        "      <td>NaN</td>\n",
        "    </tr>\n",
        "    <tr>\n",
        "      <th>3</th>\n",
        "      <td>NaN</td>\n",
        "      <td>NaN</td>\n",
        "      <td>NaN</td>\n",
        "      <td>NaN</td>\n",
        "    </tr>\n",
        "  </tbody>\n",
        "</table>\n",
        "<p>3 rows \u00d7 4 columns</p>\n",
        "</div>"
       ],
       "metadata": {},
       "output_type": "pyout",
       "prompt_number": 61,
       "text": [
        "Number        13319    13330                           13317        A\n",
        "Name    Dubai Villa   Kosovo  Konrad, OMV Biozid rohrplanung      FFG\n",
        "Type        Stunden  Stunden                         Stunden  Stunden\n",
        "Month                                                                \n",
        "1               NaN       29                              11       27\n",
        "2                 5       12                              19      NaN\n",
        "3               NaN      NaN                             NaN      NaN\n",
        "\n",
        "[3 rows x 4 columns]"
       ]
      }
     ],
     "prompt_number": 61
    }
   ],
   "metadata": {}
  }
 ]
}