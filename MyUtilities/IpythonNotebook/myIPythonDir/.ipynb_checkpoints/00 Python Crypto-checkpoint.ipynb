{
 "metadata": {
  "name": ""
 },
 "nbformat": 3,
 "nbformat_minor": 0,
 "worksheets": [
  {
   "cells": [
    {
     "cell_type": "code",
     "collapsed": false,
     "input": [
      "from random import randint "
     ],
     "language": "python",
     "metadata": {},
     "outputs": [],
     "prompt_number": 59
    },
    {
     "cell_type": "code",
     "collapsed": false,
     "input": [
      "def xor(a,b):\n",
      "    \"\"\"A naive xor\"\"\"\n",
      "    assert len(a) == len(b)\n",
      "    pairs = zip(a,b)\n",
      "    return [compare[0] ^ compare [1] for compare in pairs]\n",
      "    #return a ^ b\n",
      "\n",
      "def random_bitstring(length):\n",
      "    return [randint(0,1) for b in range(1,length+1)]\n",
      "\n",
      "print random_bitstring(4)\n",
      "print \n",
      "bits1 = [1,1,1]\n",
      "bits2 = [1,0,1]\n",
      "print '{}\\n{}\\n^xor^ \\n{}'.format(bits1, bits2, xor(bits1,bits2))"
     ],
     "language": "python",
     "metadata": {},
     "outputs": [
      {
       "output_type": "stream",
       "stream": "stdout",
       "text": [
        "[0, 1, 0, 0]\n",
        "\n",
        "[1, 1, 1]\n",
        "[1, 0, 1]\n",
        "^xor^ \n",
        "[0, 1, 0]\n"
       ]
      }
     ],
     "prompt_number": 70
    },
    {
     "cell_type": "code",
     "collapsed": false,
     "input": [
      "BITS = ('0', '1')\n",
      "ASCII_BITS = 7"
     ],
     "language": "python",
     "metadata": {},
     "outputs": [],
     "prompt_number": 1
    },
    {
     "cell_type": "markdown",
     "metadata": {},
     "source": [
      "Converting int and string to bits"
     ]
    },
    {
     "cell_type": "code",
     "collapsed": false,
     "input": [
      "def pad_bits(bits, pad):\n",
      "    \"\"\"pads seq with leading 0s up to length pad\"\"\"\n",
      "    assert len(bits) <= pad\n",
      "    return [0] * (pad - len(bits)) + bits\n",
      "\n",
      "def convert_to_bits(n, flag_return_string = False):\n",
      "    \"\"\"converts an integer `n` to bit array\"\"\"\n",
      "    bit_list = []\n",
      "    if n == 0:\n",
      "        return [0]\n",
      "    while n > 0:\n",
      "        bit_list = [(n % 2)] + bit_list\n",
      "        n = n / 2\n",
      "    if flag_return_string:\n",
      "        return ''.join([BITS[bit] for bit in bit_list]) #''.join([BITS[e] for e in bit_list]\n",
      "    else:\n",
      "        return bit_list\n",
      "\n",
      "def string_to_bits(s, flag_return_string = False):\n",
      "    \"\"\"converts an integer `n` to bit array\"\"\"\n",
      "    def chr_to_bit(c):\n",
      "        return pad_bits(convert_to_bits(ord(c)), ASCII_BITS)\n",
      "    bit_list = [b for group in \n",
      "            map(chr_to_bit, s)\n",
      "            for b in group]\n",
      "    if flag_return_string:\n",
      "        return ''.join([BITS[bit] for bit in bit_list]) #''.join([BITS[e] for e in bit_list]\n",
      "    else: \n",
      "        return bit_list\n",
      "# Test\n",
      "print convert_to_bits(92716,True)\n",
      "print convert_to_bits(92716,False)\n",
      "print string_to_bits(\"Salmon & Sauce\",True)"
     ],
     "language": "python",
     "metadata": {},
     "outputs": [
      {
       "output_type": "stream",
       "stream": "stdout",
       "text": [
        "10110101000101100\n",
        "[1, 0, 1, 1, 0, 1, 0, 1, 0, 0, 0, 1, 0, 1, 1, 0, 0]\n",
        "10100111100001110110011011011101111110111001000000100110010000010100111100001111010111000111100101\n"
       ]
      }
     ],
     "prompt_number": 31
    },
    {
     "cell_type": "code",
     "collapsed": false,
     "input": [
      "def bits_to_char(b):\n",
      "    assert len(b) == ASCII_BITS\n",
      "    value = 0\n",
      "    for e in b:\n",
      "        value = (value * 2) + e\n",
      "    return chr(value)\n",
      "\n",
      "def bits_to_string(b):\n",
      "    return ''.join([bits_to_char(b[i:i + ASCII_BITS]) \n",
      "                    for i in range(0, len(b), ASCII_BITS)])\n",
      "\n",
      "test = string_to_bits('Testing')\n",
      "print bits_to_string(test)"
     ],
     "language": "python",
     "metadata": {},
     "outputs": [
      {
       "output_type": "stream",
       "stream": "stdout",
       "text": [
        "Testing\n"
       ]
      }
     ],
     "prompt_number": 89
    },
    {
     "cell_type": "code",
     "collapsed": false,
     "input": [
      "def seq_to_bits(seq):\n",
      "    return [0 if b == '0' else 1 for b in seq]\n",
      "\n",
      "def display_bits(b):\n",
      "    \"\"\"converts list of {0, 1}* to string\"\"\"\n",
      "    return ''.join([BITS[e] for e in b])\n",
      "\n",
      "print seq_to_bits('11001000100110')"
     ],
     "language": "python",
     "metadata": {},
     "outputs": [
      {
       "output_type": "stream",
       "stream": "stdout",
       "text": [
        "[1, 1, 0, 0, 1, 0, 0, 0, 1, 0, 0, 1, 1, 0]\n"
       ]
      }
     ],
     "prompt_number": 79
    },
    {
     "cell_type": "code",
     "collapsed": false,
     "input": [
      "message = string_to_bits('CS')\n",
      "key = seq_to_bits('11001000100110')\n",
      "cipher = xor(message, key)\n",
      "decrypt = xor(cipher, key)\n",
      "print '{:20} {:20} {:20}'.format('message', display_bits(message), bits_to_string(message))\n",
      "print '{:20} {:20} {:20}'.format('key', display_bits(key), bits_to_string(key))\n",
      "print '{:20} {:20} {:20}'.format('cipher', display_bits(cipher), bits_to_string(cipher))\n",
      "print '{:20} {:20} {:20}'.format('decrypted', display_bits(decrypt), bits_to_string(decrypt))"
     ],
     "language": "python",
     "metadata": {},
     "outputs": [
      {
       "output_type": "stream",
       "stream": "stdout",
       "text": [
        "message              10000111010011       CS                  \n",
        "key                  11001000100110       d&                  \n",
        "cipher               01001111110101       'u                  \n",
        "decrypted            10000111010011       CS                  \n"
       ]
      }
     ],
     "prompt_number": 91
    },
    {
     "cell_type": "code",
     "collapsed": false,
     "input": [
      "\n",
      "def pad_bits(bits, pad):\n",
      "    \"\"\"pads seq with leading 0s up to length pad\"\"\"\n",
      "    assert len(bits) <= pad\n",
      "    return [0] * (pad - len(bits)) + bits\n",
      "        \n",
      "def bits_to_char(b):\n",
      "    assert len(b) == ASCII_BITS\n",
      "    value = 0\n",
      "    for e in b:\n",
      "        value = (value * 2) + e\n",
      "    return chr(value)\n",
      "\n",
      "def list_to_string(p):\n",
      "    return ''.join(p)\n",
      "\n",
      "def bits_to_string(b):\n",
      "    return ''.join([bits_to_char(b[i:i + ASCII_BITS]) \n",
      "                    for i in range(0, len(b), ASCII_BITS)])\n"
     ],
     "language": "python",
     "metadata": {},
     "outputs": [],
     "prompt_number": 29
    },
    {
     "cell_type": "code",
     "collapsed": false,
     "input": [
      "from Crypto.Cipher import AES\n",
      "\n",
      "key = '0123456789abcdef'\n",
      "IV = 16 * '\\x00'           # Initialization vector: discussed later\n",
      "mode = AES.MODE_CBC\n",
      "encryptor = AES.new(key, mode, IV=IV)\n",
      "\n",
      "text = 'j' * 64 + 'i' * 128\n",
      "ciphertext = encryptor.encrypt(text)"
     ],
     "language": "python",
     "metadata": {},
     "outputs": [],
     "prompt_number": 1
    },
    {
     "cell_type": "code",
     "collapsed": false,
     "input": [
      "print(text)"
     ],
     "language": "python",
     "metadata": {},
     "outputs": [
      {
       "output_type": "stream",
       "stream": "stdout",
       "text": [
        "jjjjjjjjjjjjjjjjjjjjjjjjjjjjjjjjjjjjjjjjjjjjjjjjjjjjjjjjjjjjjjjjiiiiiiiiiiiiiiiiiiiiiiiiiiiiiiiiiiiiiiiiiiiiiiiiiiiiiiiiiiiiiiiiiiiiiiiiiiiiiiiiiiiiiiiiiiiiiiiiiiiiiiiiiiiiiiiiiiiiiiiiiiiiiiii\n"
       ]
      }
     ],
     "prompt_number": 2
    },
    {
     "cell_type": "code",
     "collapsed": false,
     "input": [
      "print(ciphertext)"
     ],
     "language": "python",
     "metadata": {},
     "outputs": [
      {
       "output_type": "stream",
       "stream": "stdout",
       "text": [
        "\u000f<\ufffd\ufffd\u0006\ufffdc^\ufffd9p\ufffdY\ufffd\u001c",
        ",\ufffd)\u001c",
        "E\ufffd\ufffd\ufffd\ufffdrz\u0774e\ufffd1\u012e@\ufffdA\n",
        "c\ufffd\ufffdJ5_~\u001bg-\ufffdo6b[\ufffdfnP\ufffd\u058e\ufffd;D\ufffd67\ufffd\u04863sB\r",
        "i\u000b",
        "\ufffd\ufffd8q\ufffd\ufffdU\ufffd\ufffdF\ufffdG\ufffd\ufffd\ufffd\u0012Y\ufffd{\ufffdNi\ufffdt3\u0000\"\ufffd\u007f\u0094\ufffdH\ufffd{\ufffd\u01c4\ufffd\ufffd#*\ufffd\ufffd\ufffd\u001c",
        "\ufffd\ufffd/\ufffd\u007f\ufffd\u05d2K\ufffd(\ufffdc('\ufffd\ufffd\u0139\ufffd\ufffd\ufffd\ufffd\ufffdb\ufffd\ufffd\ufffd&\u0005\u001e",
        "#C\ufffdZ}`\ufffd3<\ufffd\u0015\ufffdy\ufffdln\u000b",
        "aB&\ufffd\u0005\ufffd\ufffd\ufffds\u064a\ufffd\u000e\ufffd\ufffd\u0017\ufffd\n",
        "\ufffd\ufffdq \ufffd\n"
       ]
      }
     ],
     "prompt_number": 3
    },
    {
     "cell_type": "code",
     "collapsed": false,
     "input": [
      "import hashlib\n",
      "\n",
      "password = 'kitty'\n",
      "key = hashlib.sha256(password).digest()\n",
      "print(key)"
     ],
     "language": "python",
     "metadata": {},
     "outputs": [
      {
       "output_type": "stream",
       "stream": "stdout",
       "text": [
        "gs\u001f\ufffd\ufffd7\ufffd9q:\ufffd\u000e\ufffd3\ufffdL\ufffd\u001d",
        "T\u0018\ufffdB\ufffd\ufffd\u0015\ufffd\ufffd3\ufffdOm\n"
       ]
      }
     ],
     "prompt_number": 5
    },
    {
     "cell_type": "code",
     "collapsed": false,
     "input": [],
     "language": "python",
     "metadata": {},
     "outputs": []
    }
   ],
   "metadata": {}
  }
 ]
}