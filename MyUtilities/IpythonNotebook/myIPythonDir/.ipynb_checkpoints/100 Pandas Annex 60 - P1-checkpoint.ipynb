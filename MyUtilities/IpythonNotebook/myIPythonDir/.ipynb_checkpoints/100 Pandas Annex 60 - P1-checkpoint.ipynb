{
 "metadata": {
  "name": ""
 },
 "nbformat": 3,
 "nbformat_minor": 0,
 "worksheets": [
  {
   "cells": [
    {
     "cell_type": "heading",
     "level": 1,
     "metadata": {},
     "source": [
      "Python/Pandas  - 1 "
     ]
    },
    {
     "cell_type": "markdown",
     "metadata": {},
     "source": [
      "<ul>\n",
      "<li>Create a time - indexed frame\n",
      "<li>Break a frame down into components\n",
      "<li>Slice and plot\n",
      "</ul>"
     ]
    },
    {
     "cell_type": "markdown",
     "metadata": {},
     "source": [
      "<i>ANNEX 60 Task 1.4\n",
      "<p>M. Jones <p>Aug. 2013 / Apr. 2014\n",
      "</i>"
     ]
    },
    {
     "cell_type": "code",
     "collapsed": false,
     "input": [
      "import pandas as pd\n",
      "import numpy as np\n",
      "from __future__ import division\n",
      "print('Pandas', pd.__version__)\n",
      "print('Numpy', np.__version__)"
     ],
     "language": "python",
     "metadata": {},
     "outputs": [
      {
       "output_type": "stream",
       "stream": "stdout",
       "text": [
        "('Pandas', '0.13.1')\n",
        "('Numpy', '1.7.0')\n"
       ]
      }
     ],
     "prompt_number": 5
    },
    {
     "cell_type": "markdown",
     "metadata": {},
     "source": [
      "Create a DatetimeIndex "
     ]
    },
    {
     "cell_type": "code",
     "collapsed": false,
     "input": [
      "# N hours starting with midnight Jan 1st, 2011\n",
      "n_hours = 8760\n",
      "rng = pd.date_range('1/1/2014', periods=n_hours, freq='H')\n",
      "rng"
     ],
     "language": "python",
     "metadata": {},
     "outputs": [
      {
       "metadata": {},
       "output_type": "pyout",
       "prompt_number": 6,
       "text": [
        "<class 'pandas.tseries.index.DatetimeIndex'>\n",
        "[2014-01-01 00:00:00, ..., 2014-12-31 23:00:00]\n",
        "Length: 8760, Freq: H, Timezone: None"
       ]
      }
     ],
     "prompt_number": 6
    },
    {
     "cell_type": "markdown",
     "metadata": {},
     "source": [
      "And, some random data over 1 year"
     ]
    },
    {
     "cell_type": "code",
     "collapsed": false,
     "input": [
      "data_d = dict()\n",
      "# Sine function over hour of day\n",
      "data_d['A sine'] = np.sin(rng.hour/24) # The 'DatetimeIndex' can return i.e. hourly values\n",
      "# Randome noise\n",
      "data_d['Noise'] = np.random.standard_normal(len(rng))\n",
      "df1 = pd.DataFrame(data=data_d, index = rng)\n",
      "df1.head()"
     ],
     "language": "python",
     "metadata": {},
     "outputs": [
      {
       "html": [
        "<div style=\"max-height:1000px;max-width:1500px;overflow:auto;\">\n",
        "<table border=\"1\" class=\"dataframe\">\n",
        "  <thead>\n",
        "    <tr style=\"text-align: right;\">\n",
        "      <th></th>\n",
        "      <th>A sine</th>\n",
        "      <th>Noise</th>\n",
        "    </tr>\n",
        "  </thead>\n",
        "  <tbody>\n",
        "    <tr>\n",
        "      <th>2014-01-01 00:00:00</th>\n",
        "      <td> 0.000000</td>\n",
        "      <td>-1.318326</td>\n",
        "    </tr>\n",
        "    <tr>\n",
        "      <th>2014-01-01 01:00:00</th>\n",
        "      <td> 0.041655</td>\n",
        "      <td> 0.250211</td>\n",
        "    </tr>\n",
        "    <tr>\n",
        "      <th>2014-01-01 02:00:00</th>\n",
        "      <td> 0.083237</td>\n",
        "      <td> 1.387114</td>\n",
        "    </tr>\n",
        "    <tr>\n",
        "      <th>2014-01-01 03:00:00</th>\n",
        "      <td> 0.124675</td>\n",
        "      <td> 0.311958</td>\n",
        "    </tr>\n",
        "    <tr>\n",
        "      <th>2014-01-01 04:00:00</th>\n",
        "      <td> 0.165896</td>\n",
        "      <td> 0.954423</td>\n",
        "    </tr>\n",
        "  </tbody>\n",
        "</table>\n",
        "<p>5 rows \u00d7 2 columns</p>\n",
        "</div>"
       ],
       "metadata": {},
       "output_type": "pyout",
       "prompt_number": 7,
       "text": [
        "                       A sine     Noise\n",
        "2014-01-01 00:00:00  0.000000 -1.318326\n",
        "2014-01-01 01:00:00  0.041655  0.250211\n",
        "2014-01-01 02:00:00  0.083237  1.387114\n",
        "2014-01-01 03:00:00  0.124675  0.311958\n",
        "2014-01-01 04:00:00  0.165896  0.954423\n",
        "\n",
        "[5 rows x 2 columns]"
       ]
      }
     ],
     "prompt_number": 7
    },
    {
     "cell_type": "heading",
     "level": 2,
     "metadata": {},
     "source": [
      "What is a DataFrame made of?"
     ]
    },
    {
     "cell_type": "markdown",
     "metadata": {},
     "source": [
      "A DataFrame is composed of an index series and several columns. The columns are stored as a single array. (Confirm this?)"
     ]
    },
    {
     "cell_type": "code",
     "collapsed": false,
     "input": [
      "print(df1.values[0:5])\n",
      "print(type(df1.values))\n",
      "print(df1.values.dtype)"
     ],
     "language": "python",
     "metadata": {},
     "outputs": [
      {
       "output_type": "stream",
       "stream": "stdout",
       "text": [
        "[[ 0.         -1.31832623]\n",
        " [ 0.04165461  0.25021131]\n",
        " [ 0.08323692  1.38711402]\n",
        " [ 0.12467473  0.31195798]\n",
        " [ 0.16589613  0.95442254]]\n",
        "<type 'numpy.ndarray'>\n",
        "float64\n"
       ]
      }
     ],
     "prompt_number": 8
    },
    {
     "cell_type": "markdown",
     "metadata": {},
     "source": [
      "Pandas will convert based on underlying types. If a string column is added, the underlying array is up-converted into 'object'. (Confirm this? Will have performance impact if yes.)"
     ]
    },
    {
     "cell_type": "code",
     "collapsed": false,
     "input": [
      "df2 = df1\n",
      "df2['String'] = np.random.choice(['Yes','No','Maybe'],len(df2))\n",
      "print(df1.values[0:5])\n",
      "print(type(df1.values))\n",
      "print(df1.values.dtype)"
     ],
     "language": "python",
     "metadata": {},
     "outputs": [
      {
       "output_type": "stream",
       "stream": "stdout",
       "text": [
        "[[0.0 -1.3183262310940385 'Maybe']\n",
        " [0.041654611386019086 0.25021131023822757 'Maybe']\n",
        " [0.08323691620031025 1.3871140241380364 'Maybe']\n",
        " [0.12467473338522769 0.31195797979354306 'Maybe']\n",
        " [0.16589613269341502 0.9544225365059863 'Maybe']]\n",
        "<type 'numpy.ndarray'>\n",
        "object\n"
       ]
      }
     ],
     "prompt_number": 9
    },
    {
     "cell_type": "code",
     "collapsed": false,
     "input": [
      "# The underlying dtypes however remain\n",
      "df1.dtypes"
     ],
     "language": "python",
     "metadata": {},
     "outputs": [
      {
       "metadata": {},
       "output_type": "pyout",
       "prompt_number": 10,
       "text": [
        "A sine    float64\n",
        "Noise     float64\n",
        "String     object\n",
        "dtype: object"
       ]
      }
     ],
     "prompt_number": 10
    },
    {
     "cell_type": "markdown",
     "metadata": {},
     "source": [
      "A column refers to the index, and can be extracted from the frame as a seperate 'Series' object"
     ]
    },
    {
     "cell_type": "code",
     "collapsed": false,
     "input": [
      "this_col = df1['Noise']\n",
      "print('Columns are of class; {}'.format(type(this_col)))\n",
      "print('The index is of class; {}'.format(type(df1.index)))"
     ],
     "language": "python",
     "metadata": {},
     "outputs": [
      {
       "output_type": "stream",
       "stream": "stdout",
       "text": [
        "Columns are of class; <class 'pandas.core.series.Series'>\n",
        "The index is of class; <class 'pandas.tseries.index.DatetimeIndex'>\n"
       ]
      }
     ],
     "prompt_number": 11
    },
    {
     "cell_type": "markdown",
     "metadata": {},
     "source": [
      "Columns are 'Series' objects. What is a Series made of?\n",
      "<p>- A series is composed of two numpy arrays, one for values, one for indexing\n",
      "<p>- Of course when inside a DataFrame, each column refers to the common index"
     ]
    },
    {
     "cell_type": "markdown",
     "metadata": {},
     "source": [
      "First few values of a column Series"
     ]
    },
    {
     "cell_type": "code",
     "collapsed": false,
     "input": [
      "this_col.head()"
     ],
     "language": "python",
     "metadata": {},
     "outputs": [
      {
       "metadata": {},
       "output_type": "pyout",
       "prompt_number": 12,
       "text": [
        "2014-01-01 00:00:00   -1.318326\n",
        "2014-01-01 01:00:00    0.250211\n",
        "2014-01-01 02:00:00    1.387114\n",
        "2014-01-01 03:00:00    0.311958\n",
        "2014-01-01 04:00:00    0.954423\n",
        "Freq: H, Name: Noise, dtype: float64"
       ]
      }
     ],
     "prompt_number": 12
    },
    {
     "cell_type": "markdown",
     "metadata": {},
     "source": [
      "The Series class is essentially two numpy arrays"
     ]
    },
    {
     "cell_type": "code",
     "collapsed": false,
     "input": [
      "print(\"The Series index was copied from the original frame; \\n {}\".format(this_col.index))\n",
      "print(\"Some Series values; {}\".format(this_col.values[0:5]))\n",
      "print(\"The Series 'values' attribute is literally a Numpy array; {} {}\".format(type(this_col.values),this_col.values.dtype))"
     ],
     "language": "python",
     "metadata": {},
     "outputs": [
      {
       "output_type": "stream",
       "stream": "stdout",
       "text": [
        "The Series index was copied from the original frame; \n",
        " <class 'pandas.tseries.index.DatetimeIndex'>\n",
        "[2014-01-01 00:00:00, ..., 2014-12-31 23:00:00]\n",
        "Length: 8760, Freq: H, Timezone: None\n",
        "Some Series values; [-1.31832623  0.25021131  1.38711402  0.31195798  0.95442254]\n",
        "The Series 'values' attribute is literally a Numpy array; <type 'numpy.ndarray'> float64\n"
       ]
      }
     ],
     "prompt_number": 13
    },
    {
     "cell_type": "markdown",
     "metadata": {},
     "source": [
      "The index of of a column;"
     ]
    },
    {
     "cell_type": "code",
     "collapsed": false,
     "input": [
      "print(\"Some Index values; {}\".format(this_col.index.values[0:2]))\n",
      "print(\"The Index attribute is literally a Numpy array; {} {}\".format(type(this_col.index.values),this_col.index.values.dtype))"
     ],
     "language": "python",
     "metadata": {},
     "outputs": [
      {
       "output_type": "stream",
       "stream": "stdout",
       "text": [
        "Some Index values; ['2014-01-01T01:00:00.000000000+0100' '2014-01-01T02:00:00.000000000+0100']\n",
        "The Index attribute is literally a Numpy array; <type 'numpy.ndarray'> datetime64[ns]\n"
       ]
      }
     ],
     "prompt_number": 14
    },
    {
     "cell_type": "heading",
     "level": 2,
     "metadata": {},
     "source": [
      "Dataframe construct quick in-depth example"
     ]
    },
    {
     "cell_type": "markdown",
     "metadata": {},
     "source": [
      "For example, let's say we are interested in solar radiation during June weekend afternoons"
     ]
    },
    {
     "cell_type": "code",
     "collapsed": false,
     "input": [
      "# One way to get a subset is by boolean mask;\n",
      "mask_june = df1.index.month == 6\n",
      "mask_satsun = np.logical_or(df1.index.dayofweek == 1, df1.index.dayofweek == 2)\n",
      "# But Pandas has helper functions for many common subserts\n",
      "analysis_frame = df1[mask_june & mask_satsun].between_time('12:00', '18:00')\n",
      "analysis_frame.plot(style=['.','x'])"
     ],
     "language": "python",
     "metadata": {},
     "outputs": [
      {
       "metadata": {},
       "output_type": "pyout",
       "prompt_number": 15,
       "text": [
        "<matplotlib.axes.AxesSubplot at 0x9787940>"
       ]
      },
      {
       "metadata": {},
       "output_type": "display_data",
       "png": "[encoded data removed]",
       "text": [
        "<matplotlib.figure.Figure at 0x9787588>"
       ]
      }
     ],
     "prompt_number": 15
    },
    {
     "cell_type": "code",
     "collapsed": false,
     "input": [
      "analysis_frame.describe()"
     ],
     "language": "python",
     "metadata": {},
     "outputs": [
      {
       "html": [
        "<div style=\"max-height:1000px;max-width:1500px;overflow:auto;\">\n",
        "<table border=\"1\" class=\"dataframe\">\n",
        "  <thead>\n",
        "    <tr style=\"text-align: right;\">\n",
        "      <th></th>\n",
        "      <th>A sine</th>\n",
        "      <th>Noise</th>\n",
        "    </tr>\n",
        "  </thead>\n",
        "  <tbody>\n",
        "    <tr>\n",
        "      <th>count</th>\n",
        "      <td> 56.000000</td>\n",
        "      <td> 56.000000</td>\n",
        "    </tr>\n",
        "    <tr>\n",
        "      <th>mean</th>\n",
        "      <td>  0.583068</td>\n",
        "      <td>  0.263063</td>\n",
        "    </tr>\n",
        "    <tr>\n",
        "      <th>std</th>\n",
        "      <td>  0.068077</td>\n",
        "      <td>  1.029001</td>\n",
        "    </tr>\n",
        "    <tr>\n",
        "      <th>min</th>\n",
        "      <td>  0.479426</td>\n",
        "      <td> -2.460371</td>\n",
        "    </tr>\n",
        "    <tr>\n",
        "      <th>25%</th>\n",
        "      <td>  0.515565</td>\n",
        "      <td> -0.258041</td>\n",
        "    </tr>\n",
        "    <tr>\n",
        "      <th>50%</th>\n",
        "      <td>  0.585097</td>\n",
        "      <td>  0.222655</td>\n",
        "    </tr>\n",
        "    <tr>\n",
        "      <th>75%</th>\n",
        "      <td>  0.650569</td>\n",
        "      <td>  1.017512</td>\n",
        "    </tr>\n",
        "    <tr>\n",
        "      <th>max</th>\n",
        "      <td>  0.681639</td>\n",
        "      <td>  2.487514</td>\n",
        "    </tr>\n",
        "  </tbody>\n",
        "</table>\n",
        "<p>8 rows \u00d7 2 columns</p>\n",
        "</div>"
       ],
       "metadata": {},
       "output_type": "pyout",
       "prompt_number": 16,
       "text": [
        "          A sine      Noise\n",
        "count  56.000000  56.000000\n",
        "mean    0.583068   0.263063\n",
        "std     0.068077   1.029001\n",
        "min     0.479426  -2.460371\n",
        "25%     0.515565  -0.258041\n",
        "50%     0.585097   0.222655\n",
        "75%     0.650569   1.017512\n",
        "max     0.681639   2.487514\n",
        "\n",
        "[8 rows x 2 columns]"
       ]
      }
     ],
     "prompt_number": 16
    },
    {
     "cell_type": "code",
     "collapsed": false,
     "input": [
      "#analysis_frame.hist()"
     ],
     "language": "python",
     "metadata": {},
     "outputs": [],
     "prompt_number": 19
    }
   ],
   "metadata": {}
  }
 ]
}