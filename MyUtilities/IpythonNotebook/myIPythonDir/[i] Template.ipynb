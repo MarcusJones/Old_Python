{
 "metadata": {
  "name": "[i] Template"
 },
 "nbformat": 3,
 "nbformat_minor": 0,
 "worksheets": [
  {
   "cells": [
    {
     "cell_type": "heading",
     "level": 1,
     "metadata": {},
     "source": [
      "module[i] = Template"
     ]
    },
    {
     "cell_type": "markdown",
     "metadata": {},
     "source": [
      "<font size=\"2\" face=\"Georgia, Arial\" color=\"maroon\"><i>\n",
      "<p>\n",
      "Clayton Miller & Marcus Jones\n",
      "</p>\n",
      "<p>\n",
      "Python for energy modellers workshop\n",
      "\n",
      "    \n",
      "<p>\n",
      "August 27th 2013\n",
      "</i></font>"
     ]
    }
   ],
   "metadata": {}
  }
 ]
}