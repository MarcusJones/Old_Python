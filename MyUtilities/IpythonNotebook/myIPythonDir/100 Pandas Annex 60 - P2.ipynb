{
 "metadata": {
  "name": ""
 },
 "nbformat": 3,
 "nbformat_minor": 0,
 "worksheets": [
  {
   "cells": [
    {
     "cell_type": "heading",
     "level": 1,
     "metadata": {},
     "source": [
      "Python/Pandas  - 2"
     ]
    },
    {
     "cell_type": "markdown",
     "metadata": {},
     "source": [
      "<ul>\n",
      "<li>Create DataFrame with some 'metadata' a multi-index DataFrame\n",
      "<li>Slice\n",
      "<ul>"
     ]
    },
    {
     "cell_type": "markdown",
     "metadata": {},
     "source": [
      "<i>ANNEX 60 Task 1.4\n",
      "<p>M. Jones <p>Aug. 2013 / Apr. 2014\n",
      "</i>"
     ]
    },
    {
     "cell_type": "code",
     "collapsed": false,
     "input": [
      "import pandas as pd\n",
      "import numpy as np\n",
      "from __future__ import division\n",
      "import re\n",
      "print('Pandas', pd.__version__)\n",
      "print('Numpy', np.__version__)"
     ],
     "language": "python",
     "metadata": {},
     "outputs": [
      {
       "output_type": "stream",
       "stream": "stdout",
       "text": [
        "('Pandas', '0.13.1')\n",
        "('Numpy', '1.7.0')\n"
       ]
      }
     ],
     "prompt_number": 2
    },
    {
     "cell_type": "markdown",
     "metadata": {},
     "source": [
      "Let's say we have temperature and humidity sensor data for 3 rooms "
     ]
    },
    {
     "cell_type": "markdown",
     "metadata": {},
     "source": [
      "(Create some random data)"
     ]
    },
    {
     "cell_type": "code",
     "collapsed": false,
     "input": [
      "data = np.random.randn(24, 6)"
     ],
     "language": "python",
     "metadata": {},
     "outputs": [],
     "prompt_number": 3
    },
    {
     "cell_type": "markdown",
     "metadata": {},
     "source": [
      "The data is labelled in the datalogger with the sensor ID, units, and type"
     ]
    },
    {
     "cell_type": "code",
     "collapsed": false,
     "input": [
      "# Build a MultiIndex from rows of 'metadata', the room number, room location, the type of measure, and the units\n",
      "labels = ['sensor', 'location', 'units','types']\n",
      "sensor = [1,   1,    5,  5,     3,  3]\n",
      "location = ['Window',   'Window',    'Wall',  'Wall',     'Window',   'Window',]\n",
      "units = ['C','g',  'C','g',   'C','g']\n",
      "types = ['T','w',  'T','w', 'T','w',]\n",
      "# Combined into a 2D list\n",
      "indices = [sensor,location,units,types]\n",
      "# Now transpose, since the MI is in the header\n",
      "# The names match the second dimension\n",
      "indices = zip(*indices)\n",
      "m_index = pd.MultiIndex.from_tuples(indices, names = labels)\n",
      "print(m_index)"
     ],
     "language": "python",
     "metadata": {},
     "outputs": [
      {
       "output_type": "stream",
       "stream": "stdout",
       "text": [
        "sensor  location  units  types\n",
        "1       Window    C      T    \n",
        "                  g      w    \n",
        "5       Wall      C      T    \n",
        "                  g      w    \n",
        "3       Window    C      T    \n",
        "                  g      w    \n"
       ]
      }
     ],
     "prompt_number": 4
    },
    {
     "cell_type": "markdown",
     "metadata": {},
     "source": [
      "Create the df"
     ]
    },
    {
     "cell_type": "code",
     "collapsed": false,
     "input": [
      "df = pd.DataFrame(data, columns=m_index)\n",
      "df.head()"
     ],
     "language": "python",
     "metadata": {},
     "outputs": [
      {
       "html": [
        "<div style=\"max-height:1000px;max-width:1500px;overflow:auto;\">\n",
        "<table border=\"1\" class=\"dataframe\">\n",
        "  <thead>\n",
        "    <tr>\n",
        "      <th>sensor</th>\n",
        "      <th colspan=\"2\" halign=\"left\">1</th>\n",
        "      <th colspan=\"2\" halign=\"left\">5</th>\n",
        "      <th colspan=\"2\" halign=\"left\">3</th>\n",
        "    </tr>\n",
        "    <tr>\n",
        "      <th>location</th>\n",
        "      <th colspan=\"2\" halign=\"left\">Window</th>\n",
        "      <th colspan=\"2\" halign=\"left\">Wall</th>\n",
        "      <th colspan=\"2\" halign=\"left\">Window</th>\n",
        "    </tr>\n",
        "    <tr>\n",
        "      <th>units</th>\n",
        "      <th>C</th>\n",
        "      <th>g</th>\n",
        "      <th>C</th>\n",
        "      <th>g</th>\n",
        "      <th>C</th>\n",
        "      <th>g</th>\n",
        "    </tr>\n",
        "    <tr>\n",
        "      <th>types</th>\n",
        "      <th>T</th>\n",
        "      <th>w</th>\n",
        "      <th>T</th>\n",
        "      <th>w</th>\n",
        "      <th>T</th>\n",
        "      <th>w</th>\n",
        "    </tr>\n",
        "  </thead>\n",
        "  <tbody>\n",
        "    <tr>\n",
        "      <th>0</th>\n",
        "      <td>-0.153222</td>\n",
        "      <td> 0.220752</td>\n",
        "      <td>-1.104236</td>\n",
        "      <td>-0.437262</td>\n",
        "      <td>-1.029705</td>\n",
        "      <td> 0.675977</td>\n",
        "    </tr>\n",
        "    <tr>\n",
        "      <th>1</th>\n",
        "      <td> 0.831836</td>\n",
        "      <td> 0.166150</td>\n",
        "      <td> 1.214977</td>\n",
        "      <td>-0.556592</td>\n",
        "      <td> 1.351182</td>\n",
        "      <td> 1.611245</td>\n",
        "    </tr>\n",
        "    <tr>\n",
        "      <th>2</th>\n",
        "      <td> 0.652311</td>\n",
        "      <td> 0.434627</td>\n",
        "      <td> 1.041043</td>\n",
        "      <td> 0.259327</td>\n",
        "      <td>-2.384440</td>\n",
        "      <td> 0.433642</td>\n",
        "    </tr>\n",
        "    <tr>\n",
        "      <th>3</th>\n",
        "      <td> 0.808486</td>\n",
        "      <td>-0.690173</td>\n",
        "      <td>-0.248755</td>\n",
        "      <td> 1.904009</td>\n",
        "      <td> 0.103362</td>\n",
        "      <td> 1.507442</td>\n",
        "    </tr>\n",
        "    <tr>\n",
        "      <th>4</th>\n",
        "      <td>-0.502601</td>\n",
        "      <td> 0.749687</td>\n",
        "      <td>-0.729529</td>\n",
        "      <td>-1.132293</td>\n",
        "      <td>-0.965826</td>\n",
        "      <td>-1.949414</td>\n",
        "    </tr>\n",
        "  </tbody>\n",
        "</table>\n",
        "<p>5 rows \u00d7 6 columns</p>\n",
        "</div>"
       ],
       "metadata": {},
       "output_type": "pyout",
       "prompt_number": 5,
       "text": [
        "sensor           1                   5                   3          \n",
        "location    Window                Wall              Window          \n",
        "units            C         g         C         g         C         g\n",
        "types            T         w         T         w         T         w\n",
        "0        -0.153222  0.220752 -1.104236 -0.437262 -1.029705  0.675977\n",
        "1         0.831836  0.166150  1.214977 -0.556592  1.351182  1.611245\n",
        "2         0.652311  0.434627  1.041043  0.259327 -2.384440  0.433642\n",
        "3         0.808486 -0.690173 -0.248755  1.904009  0.103362  1.507442\n",
        "4        -0.502601  0.749687 -0.729529 -1.132293 -0.965826 -1.949414\n",
        "\n",
        "[5 rows x 6 columns]"
       ]
      }
     ],
     "prompt_number": 5
    },
    {
     "cell_type": "heading",
     "level": 2,
     "metadata": {},
     "source": [
      "Slicing a MultiIndex df"
     ]
    },
    {
     "cell_type": "markdown",
     "metadata": {},
     "source": [
      "Get sensor ID 5;"
     ]
    },
    {
     "cell_type": "code",
     "collapsed": false,
     "input": [
      "df[5].head()"
     ],
     "language": "python",
     "metadata": {},
     "outputs": [
      {
       "html": [
        "<div style=\"max-height:1000px;max-width:1500px;overflow:auto;\">\n",
        "<table border=\"1\" class=\"dataframe\">\n",
        "  <thead>\n",
        "    <tr>\n",
        "      <th>location</th>\n",
        "      <th colspan=\"2\" halign=\"left\">Wall</th>\n",
        "    </tr>\n",
        "    <tr>\n",
        "      <th>units</th>\n",
        "      <th>C</th>\n",
        "      <th>g</th>\n",
        "    </tr>\n",
        "    <tr>\n",
        "      <th>types</th>\n",
        "      <th>T</th>\n",
        "      <th>w</th>\n",
        "    </tr>\n",
        "  </thead>\n",
        "  <tbody>\n",
        "    <tr>\n",
        "      <th>0</th>\n",
        "      <td>-1.104236</td>\n",
        "      <td>-0.437262</td>\n",
        "    </tr>\n",
        "    <tr>\n",
        "      <th>1</th>\n",
        "      <td> 1.214977</td>\n",
        "      <td>-0.556592</td>\n",
        "    </tr>\n",
        "    <tr>\n",
        "      <th>2</th>\n",
        "      <td> 1.041043</td>\n",
        "      <td> 0.259327</td>\n",
        "    </tr>\n",
        "    <tr>\n",
        "      <th>3</th>\n",
        "      <td>-0.248755</td>\n",
        "      <td> 1.904009</td>\n",
        "    </tr>\n",
        "    <tr>\n",
        "      <th>4</th>\n",
        "      <td>-0.729529</td>\n",
        "      <td>-1.132293</td>\n",
        "    </tr>\n",
        "  </tbody>\n",
        "</table>\n",
        "<p>5 rows \u00d7 2 columns</p>\n",
        "</div>"
       ],
       "metadata": {},
       "output_type": "pyout",
       "prompt_number": 6,
       "text": [
        "location      Wall          \n",
        "units            C         g\n",
        "types            T         w\n",
        "0        -1.104236 -0.437262\n",
        "1         1.214977 -0.556592\n",
        "2         1.041043  0.259327\n",
        "3        -0.248755  1.904009\n",
        "4        -0.729529 -1.132293\n",
        "\n",
        "[5 rows x 2 columns]"
       ]
      }
     ],
     "prompt_number": 6
    },
    {
     "cell_type": "markdown",
     "metadata": {},
     "source": [
      "Getting more detail from a MultiIndex data frame can be very complicated, I created a helper function which includes full regex pattern matching on the metadata;"
     ]
    },
    {
     "cell_type": "code",
     "collapsed": false,
     "input": [
      "def get_mask_regex(frame, label, pattern):\n",
      "    \"\"\"On a column based multi-indexed DataFrame\n",
      "    return a boolean mask over the columns of the data frame in the label\n",
      "    label == pattern\n",
      "    To be used finally as df.iloc[:,mask]\n",
      "    \"\"\"\n",
      "    header_row = frame.columns.get_level_values(label)\n",
      "    regex = re.compile(pattern)\n",
      "    mask = np.array([bool(re.search(regex, head)) for head in header_row])\n",
      "    assert(mask.any()), \"Mask did not match items in {} headings\".format(label)\n",
      "    return mask"
     ],
     "language": "python",
     "metadata": {},
     "outputs": [],
     "prompt_number": 10
    },
    {
     "cell_type": "markdown",
     "metadata": {},
     "source": [
      "So now we can easily get all temperature sensors which are installed on a Window (or here with the substring 'Win')"
     ]
    },
    {
     "cell_type": "code",
     "collapsed": false,
     "input": [
      "mask1 = get_mask_regex(df, 'location', 'Win')\n",
      "mask2 = get_mask_regex(df, 'types', 'T')\n",
      "mask = mask1 & mask2\n",
      "mask"
     ],
     "language": "python",
     "metadata": {},
     "outputs": [
      {
       "metadata": {},
       "output_type": "pyout",
       "prompt_number": 11,
       "text": [
        "array([ True, False, False, False,  True, False], dtype=bool)"
       ]
      }
     ],
     "prompt_number": 11
    },
    {
     "cell_type": "code",
     "collapsed": true,
     "input": [
      "df.iloc[:,mask].head()"
     ],
     "language": "python",
     "metadata": {},
     "outputs": [
      {
       "html": [
        "<div style=\"max-height:1000px;max-width:1500px;overflow:auto;\">\n",
        "<table border=\"1\" class=\"dataframe\">\n",
        "  <thead>\n",
        "    <tr>\n",
        "      <th>sensor</th>\n",
        "      <th>1</th>\n",
        "      <th>3</th>\n",
        "    </tr>\n",
        "    <tr>\n",
        "      <th>location</th>\n",
        "      <th>Window</th>\n",
        "      <th>Window</th>\n",
        "    </tr>\n",
        "    <tr>\n",
        "      <th>units</th>\n",
        "      <th>C</th>\n",
        "      <th>C</th>\n",
        "    </tr>\n",
        "    <tr>\n",
        "      <th>types</th>\n",
        "      <th>T</th>\n",
        "      <th>T</th>\n",
        "    </tr>\n",
        "  </thead>\n",
        "  <tbody>\n",
        "    <tr>\n",
        "      <th>0</th>\n",
        "      <td>-0.153222</td>\n",
        "      <td>-1.029705</td>\n",
        "    </tr>\n",
        "    <tr>\n",
        "      <th>1</th>\n",
        "      <td> 0.831836</td>\n",
        "      <td> 1.351182</td>\n",
        "    </tr>\n",
        "    <tr>\n",
        "      <th>2</th>\n",
        "      <td> 0.652311</td>\n",
        "      <td>-2.384440</td>\n",
        "    </tr>\n",
        "    <tr>\n",
        "      <th>3</th>\n",
        "      <td> 0.808486</td>\n",
        "      <td> 0.103362</td>\n",
        "    </tr>\n",
        "    <tr>\n",
        "      <th>4</th>\n",
        "      <td>-0.502601</td>\n",
        "      <td>-0.965826</td>\n",
        "    </tr>\n",
        "  </tbody>\n",
        "</table>\n",
        "<p>5 rows \u00d7 2 columns</p>\n",
        "</div>"
       ],
       "metadata": {},
       "output_type": "pyout",
       "prompt_number": 12,
       "text": [
        "sensor           1         3\n",
        "location    Window    Window\n",
        "units            C         C\n",
        "types            T         T\n",
        "0        -0.153222 -1.029705\n",
        "1         0.831836  1.351182\n",
        "2         0.652311 -2.384440\n",
        "3         0.808486  0.103362\n",
        "4        -0.502601 -0.965826\n",
        "\n",
        "[5 rows x 2 columns]"
       ]
      }
     ],
     "prompt_number": 12
    },
    {
     "cell_type": "code",
     "collapsed": false,
     "input": [
      "df.iloc[:,mask].head().plot()"
     ],
     "language": "python",
     "metadata": {},
     "outputs": [
      {
       "metadata": {},
       "output_type": "pyout",
       "prompt_number": 13,
       "text": [
        "<matplotlib.axes.AxesSubplot at 0x8b8b860>"
       ]
      },
      {
       "metadata": {},
       "output_type": "display_data",
       "png": "[encoded data removed]",
       "text": [
        "<matplotlib.figure.Figure at 0x8b8b2b0>"
       ]
      }
     ],
     "prompt_number": 13
    },
    {
     "cell_type": "code",
     "collapsed": false,
     "input": [],
     "language": "python",
     "metadata": {},
     "outputs": []
    }
   ],
   "metadata": {}
  }
 ]
}