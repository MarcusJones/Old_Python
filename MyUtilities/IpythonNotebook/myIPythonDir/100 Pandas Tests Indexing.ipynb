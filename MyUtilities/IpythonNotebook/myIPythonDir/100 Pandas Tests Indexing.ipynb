{
 "metadata": {
  "name": ""
 },
 "nbformat": 3,
 "nbformat_minor": 0,
 "worksheets": [
  {
   "cells": [
    {
     "cell_type": "code",
     "collapsed": false,
     "input": [
      "import pandas as pd\n",
      "import numpy as np\n",
      "print('Pandas', pd.__version__)\n",
      "print('Numpy', np.__version__)"
     ],
     "language": "python",
     "metadata": {},
     "outputs": [
      {
       "output_type": "stream",
       "stream": "stdout",
       "text": [
        "('Pandas', '0.13.1')\n",
        "('Numpy', '1.7.0')\n"
       ]
      }
     ],
     "prompt_number": 12
    },
    {
     "cell_type": "code",
     "collapsed": false,
     "input": [
      "dates = pd.date_range('20130101',periods=6)\n",
      "df = pd.DataFrame(np.random.randn(6,4),index=dates,columns=list('ABCD'))\n",
      "print(df)\n",
      "print(\"Index type: {}\".format(type(df.index)))\n",
      "print(\"Columns type: {}\".format(type(df.columns)))\n",
      "print(\"Values type: {}\".format(type(df.values)))"
     ],
     "language": "python",
     "metadata": {},
     "outputs": [
      {
       "output_type": "stream",
       "stream": "stdout",
       "text": [
        "                   A         B         C         D\n",
        "2013-01-01 -0.837204 -0.349084 -0.816814 -0.048131\n",
        "2013-01-02 -0.031610 -0.162677  0.105680 -0.204730\n",
        "2013-01-03  0.267986  0.520757 -0.000704 -0.569300\n",
        "2013-01-04 -1.572452 -0.191764 -0.405669 -0.351841\n",
        "2013-01-05 -0.228368  1.739308 -0.576010  1.526426\n",
        "2013-01-06 -0.783324  1.025404  1.221423 -0.670475\n",
        "\n",
        "[6 rows x 4 columns]\n",
        "Index type: <class 'pandas.tseries.index.DatetimeIndex'>\n",
        "Columns type: <class 'pandas.core.index.Index'>\n",
        "Values type: <type 'numpy.ndarray'>\n"
       ]
      }
     ],
     "prompt_number": 13
    },
    {
     "cell_type": "markdown",
     "metadata": {},
     "source": [
      "Indexing"
     ]
    },
    {
     "cell_type": "code",
     "collapsed": false,
     "input": [
      "# Loc will look first at the index, then the columns\n",
      "print(df.loc['2013-01-02'])\n",
      "print(type(df.loc['2013-01-02',:]))"
     ],
     "language": "python",
     "metadata": {},
     "outputs": [
      {
       "output_type": "stream",
       "stream": "stdout",
       "text": [
        "A   -0.031610\n",
        "B   -0.162677\n",
        "C    0.105680\n",
        "D   -0.204730\n",
        "Name: 2013-01-02 00:00:00, dtype: float64\n",
        "<class 'pandas.core.series.Series'>\n"
       ]
      }
     ],
     "prompt_number": 14
    },
    {
     "cell_type": "code",
     "collapsed": false,
     "input": [
      "print(df.loc[:,'B'])\n",
      "print(type(df.loc[:,'B']))"
     ],
     "language": "python",
     "metadata": {},
     "outputs": [
      {
       "output_type": "stream",
       "stream": "stdout",
       "text": [
        "2013-01-01   -0.349084\n",
        "2013-01-02   -0.162677\n",
        "2013-01-03    0.520757\n",
        "2013-01-04   -0.191764\n",
        "2013-01-05    1.739308\n",
        "2013-01-06    1.025404\n",
        "Freq: D, Name: B, dtype: float64\n",
        "<class 'pandas.core.series.Series'>\n"
       ]
      }
     ],
     "prompt_number": 15
    },
    {
     "cell_type": "markdown",
     "metadata": {},
     "source": [
      "Adding data"
     ]
    },
    {
     "cell_type": "code",
     "collapsed": false,
     "input": [
      "df.loc['aa',:] = 1\n",
      "\n",
      "df.loc[:,'XX'] = 0\n",
      "df.loc[:,'ZZZ'] = range(df.shape[0])\n",
      "print(\"Index type: {}\".format(type(df.index)))\n",
      "print(\"Columns type: {}\".format(type(df.columns)))\n",
      "print(\"Values type: {}\".format(type(df.values)))\n",
      "df"
     ],
     "language": "python",
     "metadata": {},
     "outputs": [
      {
       "output_type": "stream",
       "stream": "stdout",
       "text": [
        "Index type: <class 'pandas.core.index.Index'>\n",
        "Columns type: <class 'pandas.core.index.Index'>\n",
        "Values type: <type 'numpy.ndarray'>\n"
       ]
      },
      {
       "html": [
        "<div style=\"max-height:1000px;max-width:1500px;overflow:auto;\">\n",
        "<table border=\"1\" class=\"dataframe\">\n",
        "  <thead>\n",
        "    <tr style=\"text-align: right;\">\n",
        "      <th></th>\n",
        "      <th>A</th>\n",
        "      <th>Fight</th>\n",
        "      <th>C</th>\n",
        "      <th>D</th>\n",
        "      <th>XX</th>\n",
        "      <th>ZZZ</th>\n",
        "    </tr>\n",
        "  </thead>\n",
        "  <tbody>\n",
        "    <tr>\n",
        "      <th>2013-01-01 00:00:00</th>\n",
        "      <td>-0.837204</td>\n",
        "      <td>-0.349084</td>\n",
        "      <td>-0.816814</td>\n",
        "      <td>-0.048131</td>\n",
        "      <td> 0</td>\n",
        "      <td> 0</td>\n",
        "    </tr>\n",
        "    <tr>\n",
        "      <th>2013-01-02 00:00:00</th>\n",
        "      <td>-0.031610</td>\n",
        "      <td>-0.162677</td>\n",
        "      <td> 0.105680</td>\n",
        "      <td>-0.204730</td>\n",
        "      <td> 0</td>\n",
        "      <td> 1</td>\n",
        "    </tr>\n",
        "    <tr>\n",
        "      <th>2013-01-03 00:00:00</th>\n",
        "      <td> 0.267986</td>\n",
        "      <td> 0.520757</td>\n",
        "      <td>-0.000704</td>\n",
        "      <td>-0.569300</td>\n",
        "      <td> 0</td>\n",
        "      <td> 2</td>\n",
        "    </tr>\n",
        "    <tr>\n",
        "      <th>2013-01-04 00:00:00</th>\n",
        "      <td>-1.572452</td>\n",
        "      <td>-0.191764</td>\n",
        "      <td>-0.405669</td>\n",
        "      <td>-0.351841</td>\n",
        "      <td> 0</td>\n",
        "      <td> 3</td>\n",
        "    </tr>\n",
        "    <tr>\n",
        "      <th>2013-01-05 00:00:00</th>\n",
        "      <td>-0.228368</td>\n",
        "      <td> 1.739308</td>\n",
        "      <td>-0.576010</td>\n",
        "      <td> 1.526426</td>\n",
        "      <td> 0</td>\n",
        "      <td> 4</td>\n",
        "    </tr>\n",
        "    <tr>\n",
        "      <th>2013-01-06 00:00:00</th>\n",
        "      <td>-0.783324</td>\n",
        "      <td> 1.025404</td>\n",
        "      <td> 1.221423</td>\n",
        "      <td>-0.670475</td>\n",
        "      <td> 0</td>\n",
        "      <td> 5</td>\n",
        "    </tr>\n",
        "    <tr>\n",
        "      <th>BBB</th>\n",
        "      <td> 1.000000</td>\n",
        "      <td> 1.000000</td>\n",
        "      <td> 1.000000</td>\n",
        "      <td> 1.000000</td>\n",
        "      <td> 0</td>\n",
        "      <td> 6</td>\n",
        "    </tr>\n",
        "    <tr>\n",
        "      <th>aa</th>\n",
        "      <td> 1.000000</td>\n",
        "      <td> 1.000000</td>\n",
        "      <td> 1.000000</td>\n",
        "      <td> 1.000000</td>\n",
        "      <td> 0</td>\n",
        "      <td> 7</td>\n",
        "    </tr>\n",
        "  </tbody>\n",
        "</table>\n",
        "<p>8 rows \u00d7 6 columns</p>\n",
        "</div>"
       ],
       "metadata": {},
       "output_type": "pyout",
       "prompt_number": 19,
       "text": [
        "                            A     Fight         C         D  XX  ZZZ\n",
        "2013-01-01 00:00:00 -0.837204 -0.349084 -0.816814 -0.048131   0    0\n",
        "2013-01-02 00:00:00 -0.031610 -0.162677  0.105680 -0.204730   0    1\n",
        "2013-01-03 00:00:00  0.267986  0.520757 -0.000704 -0.569300   0    2\n",
        "2013-01-04 00:00:00 -1.572452 -0.191764 -0.405669 -0.351841   0    3\n",
        "2013-01-05 00:00:00 -0.228368  1.739308 -0.576010  1.526426   0    4\n",
        "2013-01-06 00:00:00 -0.783324  1.025404  1.221423 -0.670475   0    5\n",
        "BBB                  1.000000  1.000000  1.000000  1.000000   0    6\n",
        "aa                   1.000000  1.000000  1.000000  1.000000   0    7\n",
        "\n",
        "[8 rows x 6 columns]"
       ]
      }
     ],
     "prompt_number": 19
    },
    {
     "cell_type": "code",
     "collapsed": false,
     "input": [
      "df2 = df.drop(['B','A'], axis =1)\n",
      "df2 = df2.drop(['aa'], axis =0)\n",
      "df2"
     ],
     "language": "python",
     "metadata": {},
     "outputs": [
      {
       "html": [
        "<div style=\"max-height:1000px;max-width:1500px;overflow:auto;\">\n",
        "<table border=\"1\" class=\"dataframe\">\n",
        "  <thead>\n",
        "    <tr style=\"text-align: right;\">\n",
        "      <th></th>\n",
        "      <th>C</th>\n",
        "      <th>D</th>\n",
        "      <th>XX</th>\n",
        "      <th>ZZZ</th>\n",
        "    </tr>\n",
        "  </thead>\n",
        "  <tbody>\n",
        "    <tr>\n",
        "      <th>2013-01-01</th>\n",
        "      <td>-0.816814</td>\n",
        "      <td>-0.048131</td>\n",
        "      <td> 0</td>\n",
        "      <td> 0</td>\n",
        "    </tr>\n",
        "    <tr>\n",
        "      <th>2013-01-02</th>\n",
        "      <td> 0.105680</td>\n",
        "      <td>-0.204730</td>\n",
        "      <td> 0</td>\n",
        "      <td> 1</td>\n",
        "    </tr>\n",
        "    <tr>\n",
        "      <th>2013-01-03</th>\n",
        "      <td>-0.000704</td>\n",
        "      <td>-0.569300</td>\n",
        "      <td> 0</td>\n",
        "      <td> 2</td>\n",
        "    </tr>\n",
        "    <tr>\n",
        "      <th>2013-01-04</th>\n",
        "      <td>-0.405669</td>\n",
        "      <td>-0.351841</td>\n",
        "      <td> 0</td>\n",
        "      <td> 3</td>\n",
        "    </tr>\n",
        "    <tr>\n",
        "      <th>2013-01-05</th>\n",
        "      <td>-0.576010</td>\n",
        "      <td> 1.526426</td>\n",
        "      <td> 0</td>\n",
        "      <td> 4</td>\n",
        "    </tr>\n",
        "    <tr>\n",
        "      <th>2013-01-06</th>\n",
        "      <td> 1.221423</td>\n",
        "      <td>-0.670475</td>\n",
        "      <td> 0</td>\n",
        "      <td> 5</td>\n",
        "    </tr>\n",
        "  </tbody>\n",
        "</table>\n",
        "<p>6 rows \u00d7 4 columns</p>\n",
        "</div>"
       ],
       "metadata": {},
       "output_type": "pyout",
       "prompt_number": 17,
       "text": [
        "                   C         D  XX  ZZZ\n",
        "2013-01-01 -0.816814 -0.048131   0    0\n",
        "2013-01-02  0.105680 -0.204730   0    1\n",
        "2013-01-03 -0.000704 -0.569300   0    2\n",
        "2013-01-04 -0.405669 -0.351841   0    3\n",
        "2013-01-05 -0.576010  1.526426   0    4\n",
        "2013-01-06  1.221423 -0.670475   0    5\n",
        "\n",
        "[6 rows x 4 columns]"
       ]
      }
     ],
     "prompt_number": 17
    },
    {
     "cell_type": "markdown",
     "metadata": {},
     "source": [
      "Renaming"
     ]
    },
    {
     "cell_type": "code",
     "collapsed": false,
     "input": [
      "# Renaming has a nice dictionary interface\n",
      "# Watch for inplace!\n",
      "df.rename(index={'aa' : \"BBB\"},inplace=True)\n",
      "df.rename(columns={'B' : \"Fight\"},inplace=True)\n",
      "df"
     ],
     "language": "python",
     "metadata": {},
     "outputs": [
      {
       "html": [
        "<div style=\"max-height:1000px;max-width:1500px;overflow:auto;\">\n",
        "<table border=\"1\" class=\"dataframe\">\n",
        "  <thead>\n",
        "    <tr style=\"text-align: right;\">\n",
        "      <th></th>\n",
        "      <th>A</th>\n",
        "      <th>Fight</th>\n",
        "      <th>C</th>\n",
        "      <th>D</th>\n",
        "      <th>XX</th>\n",
        "      <th>ZZZ</th>\n",
        "    </tr>\n",
        "  </thead>\n",
        "  <tbody>\n",
        "    <tr>\n",
        "      <th>2013-01-01 00:00:00</th>\n",
        "      <td>-0.837204</td>\n",
        "      <td>-0.349084</td>\n",
        "      <td>-0.816814</td>\n",
        "      <td>-0.048131</td>\n",
        "      <td> 0</td>\n",
        "      <td> 0</td>\n",
        "    </tr>\n",
        "    <tr>\n",
        "      <th>2013-01-02 00:00:00</th>\n",
        "      <td>-0.031610</td>\n",
        "      <td>-0.162677</td>\n",
        "      <td> 0.105680</td>\n",
        "      <td>-0.204730</td>\n",
        "      <td> 0</td>\n",
        "      <td> 1</td>\n",
        "    </tr>\n",
        "    <tr>\n",
        "      <th>2013-01-03 00:00:00</th>\n",
        "      <td> 0.267986</td>\n",
        "      <td> 0.520757</td>\n",
        "      <td>-0.000704</td>\n",
        "      <td>-0.569300</td>\n",
        "      <td> 0</td>\n",
        "      <td> 2</td>\n",
        "    </tr>\n",
        "    <tr>\n",
        "      <th>2013-01-04 00:00:00</th>\n",
        "      <td>-1.572452</td>\n",
        "      <td>-0.191764</td>\n",
        "      <td>-0.405669</td>\n",
        "      <td>-0.351841</td>\n",
        "      <td> 0</td>\n",
        "      <td> 3</td>\n",
        "    </tr>\n",
        "    <tr>\n",
        "      <th>2013-01-05 00:00:00</th>\n",
        "      <td>-0.228368</td>\n",
        "      <td> 1.739308</td>\n",
        "      <td>-0.576010</td>\n",
        "      <td> 1.526426</td>\n",
        "      <td> 0</td>\n",
        "      <td> 4</td>\n",
        "    </tr>\n",
        "    <tr>\n",
        "      <th>2013-01-06 00:00:00</th>\n",
        "      <td>-0.783324</td>\n",
        "      <td> 1.025404</td>\n",
        "      <td> 1.221423</td>\n",
        "      <td>-0.670475</td>\n",
        "      <td> 0</td>\n",
        "      <td> 5</td>\n",
        "    </tr>\n",
        "    <tr>\n",
        "      <th>BBB</th>\n",
        "      <td> 1.000000</td>\n",
        "      <td> 1.000000</td>\n",
        "      <td> 1.000000</td>\n",
        "      <td> 1.000000</td>\n",
        "      <td> 0</td>\n",
        "      <td> 6</td>\n",
        "    </tr>\n",
        "  </tbody>\n",
        "</table>\n",
        "<p>7 rows \u00d7 6 columns</p>\n",
        "</div>"
       ],
       "metadata": {},
       "output_type": "pyout",
       "prompt_number": 18,
       "text": [
        "                            A     Fight         C         D  XX  ZZZ\n",
        "2013-01-01 00:00:00 -0.837204 -0.349084 -0.816814 -0.048131   0    0\n",
        "2013-01-02 00:00:00 -0.031610 -0.162677  0.105680 -0.204730   0    1\n",
        "2013-01-03 00:00:00  0.267986  0.520757 -0.000704 -0.569300   0    2\n",
        "2013-01-04 00:00:00 -1.572452 -0.191764 -0.405669 -0.351841   0    3\n",
        "2013-01-05 00:00:00 -0.228368  1.739308 -0.576010  1.526426   0    4\n",
        "2013-01-06 00:00:00 -0.783324  1.025404  1.221423 -0.670475   0    5\n",
        "BBB                  1.000000  1.000000  1.000000  1.000000   0    6\n",
        "\n",
        "[7 rows x 6 columns]"
       ]
      }
     ],
     "prompt_number": 18
    },
    {
     "cell_type": "markdown",
     "metadata": {},
     "source": [
      "Multiindexing"
     ]
    },
    {
     "cell_type": "code",
     "collapsed": false,
     "input": [
      "# Build an MI from 3 rows, each row with 5 labels\n",
      "zones = [1,2,3,4,5]\n",
      "units = ['C','C','g','g','g']\n",
      "types = ['T','T','w','w','w']\n",
      "# Combined into a 2D list\n",
      "indices = [zones,units,types]\n",
      "# Now transpose, since the MI is in the header\n",
      "# The names match the second dimension\n",
      "indices = zip(*indices)\n",
      "print(indices)"
     ],
     "language": "python",
     "metadata": {},
     "outputs": [
      {
       "output_type": "stream",
       "stream": "stdout",
       "text": [
        "[(1, 'C', 'T'), (2, 'C', 'T'), (3, 'g', 'w'), (4, 'g', 'w'), (5, 'g', 'w')]\n"
       ]
      }
     ],
     "prompt_number": 20
    },
    {
     "cell_type": "markdown",
     "metadata": {},
     "source": [
      "Assembling"
     ]
    },
    {
     "cell_type": "code",
     "collapsed": false,
     "input": [
      "names=['zones', 'units','types']\n",
      "m_index = pd.MultiIndex.from_tuples(indices, names = names)\n",
      "print(m_index)\n",
      "print(m_index.names)"
     ],
     "language": "python",
     "metadata": {},
     "outputs": [
      {
       "output_type": "stream",
       "stream": "stdout",
       "text": [
        "zones  units  types\n",
        "1      C      T    \n",
        "2      C      T    \n",
        "3      g      w    \n",
        "4      g      w    \n",
        "5      g      w    \n",
        "[u'zones', u'units', u'types']\n"
       ]
      }
     ],
     "prompt_number": 22
    },
    {
     "cell_type": "code",
     "collapsed": false,
     "input": [
      "# A random array, 5 cols by 4 rows\n",
      "data = np.random.randn(4, 5)\n",
      "df = pd.DataFrame(data, columns=m_index)\n",
      "df"
     ],
     "language": "python",
     "metadata": {},
     "outputs": [
      {
       "html": [
        "<div style=\"max-height:1000px;max-width:1500px;overflow:auto;\">\n",
        "<table border=\"1\" class=\"dataframe\">\n",
        "  <thead>\n",
        "    <tr>\n",
        "      <th>zones</th>\n",
        "      <th>1</th>\n",
        "      <th>2</th>\n",
        "      <th>3</th>\n",
        "      <th>4</th>\n",
        "      <th>5</th>\n",
        "    </tr>\n",
        "    <tr>\n",
        "      <th>units</th>\n",
        "      <th>C</th>\n",
        "      <th>C</th>\n",
        "      <th>g</th>\n",
        "      <th>g</th>\n",
        "      <th>g</th>\n",
        "    </tr>\n",
        "    <tr>\n",
        "      <th>types</th>\n",
        "      <th>T</th>\n",
        "      <th>T</th>\n",
        "      <th>w</th>\n",
        "      <th>w</th>\n",
        "      <th>w</th>\n",
        "    </tr>\n",
        "  </thead>\n",
        "  <tbody>\n",
        "    <tr>\n",
        "      <th>0</th>\n",
        "      <td> 0.987197</td>\n",
        "      <td> 1.054974</td>\n",
        "      <td> 0.935739</td>\n",
        "      <td>-0.816520</td>\n",
        "      <td> 0.653533</td>\n",
        "    </tr>\n",
        "    <tr>\n",
        "      <th>1</th>\n",
        "      <td>-0.730950</td>\n",
        "      <td> 0.034177</td>\n",
        "      <td>-0.630495</td>\n",
        "      <td>-2.380754</td>\n",
        "      <td> 0.440427</td>\n",
        "    </tr>\n",
        "    <tr>\n",
        "      <th>2</th>\n",
        "      <td> 1.357165</td>\n",
        "      <td> 0.797578</td>\n",
        "      <td>-0.874229</td>\n",
        "      <td>-0.148793</td>\n",
        "      <td>-0.205665</td>\n",
        "    </tr>\n",
        "    <tr>\n",
        "      <th>3</th>\n",
        "      <td>-0.522192</td>\n",
        "      <td>-2.161382</td>\n",
        "      <td>-1.444430</td>\n",
        "      <td> 0.650961</td>\n",
        "      <td> 0.324741</td>\n",
        "    </tr>\n",
        "  </tbody>\n",
        "</table>\n",
        "<p>4 rows \u00d7 5 columns</p>\n",
        "</div>"
       ],
       "metadata": {},
       "output_type": "pyout",
       "prompt_number": 23,
       "text": [
        "zones         1         2         3         4         5\n",
        "units         C         C         g         g         g\n",
        "types         T         T         w         w         w\n",
        "0      0.987197  1.054974  0.935739 -0.816520  0.653533\n",
        "1     -0.730950  0.034177 -0.630495 -2.380754  0.440427\n",
        "2      1.357165  0.797578 -0.874229 -0.148793 -0.205665\n",
        "3     -0.522192 -2.161382 -1.444430  0.650961  0.324741\n",
        "\n",
        "[4 rows x 5 columns]"
       ]
      }
     ],
     "prompt_number": 23
    },
    {
     "cell_type": "code",
     "collapsed": false,
     "input": [
      "df.columns"
     ],
     "language": "python",
     "metadata": {},
     "outputs": [
      {
       "metadata": {},
       "output_type": "pyout",
       "prompt_number": 24,
       "text": [
        "MultiIndex(levels=[[1, 2, 3, 4, 5], [u'C', u'g'], [u'T', u'w']],\n",
        "           labels=[[0, 1, 2, 3, 4], [0, 0, 1, 1, 1], [0, 0, 1, 1, 1]],\n",
        "           names=[u'zones', u'units', u'types'])"
       ]
      }
     ],
     "prompt_number": 24
    },
    {
     "cell_type": "markdown",
     "metadata": {},
     "source": [
      "Indexing a Multiindex"
     ]
    },
    {
     "cell_type": "code",
     "collapsed": false,
     "input": [
      "df[C]"
     ],
     "language": "python",
     "metadata": {},
     "outputs": [
      {
       "ename": "NameError",
       "evalue": "name 'df' is not defined",
       "output_type": "pyerr",
       "traceback": [
        "\u001b[1;31m---------------------------------------------------------------------------\u001b[0m\n\u001b[1;31mNameError\u001b[0m                                 Traceback (most recent call last)",
        "\u001b[1;32m<ipython-input-1-5a1efa837a92>\u001b[0m in \u001b[0;36m<module>\u001b[1;34m()\u001b[0m\n\u001b[1;32m----> 1\u001b[1;33m \u001b[0mdf\u001b[0m\u001b[1;33m[\u001b[0m\u001b[0mC\u001b[0m\u001b[1;33m]\u001b[0m\u001b[1;33m\u001b[0m\u001b[0m\n\u001b[0m",
        "\u001b[1;31mNameError\u001b[0m: name 'df' is not defined"
       ]
      }
     ],
     "prompt_number": 1
    },
    {
     "cell_type": "markdown",
     "metadata": {},
     "source": [
      "Get level values returns the row in the column header"
     ]
    },
    {
     "cell_type": "code",
     "collapsed": false,
     "input": [
      "df.columns.get_level_values('units')\n",
      "#df.iloc[:, df.columns.get_level_values('A') == 1]"
     ],
     "language": "python",
     "metadata": {},
     "outputs": [
      {
       "metadata": {},
       "output_type": "pyout",
       "prompt_number": 33,
       "text": [
        "Index([u'C', u'C', u'g', u'g', u'g'], dtype='object')"
       ]
      }
     ],
     "prompt_number": 33
    },
    {
     "cell_type": "markdown",
     "metadata": {},
     "source": [
      "From this, a binary mask can be created"
     ]
    },
    {
     "cell_type": "code",
     "collapsed": false,
     "input": [
      "mask = df.columns.get_level_values('units') == 'C'\n",
      "mask"
     ],
     "language": "python",
     "metadata": {},
     "outputs": [
      {
       "metadata": {},
       "output_type": "pyout",
       "prompt_number": 36,
       "text": [
        "array([ True,  True, False, False, False], dtype=bool)"
       ]
      }
     ],
     "prompt_number": 36
    },
    {
     "cell_type": "markdown",
     "metadata": {},
     "source": [
      "And used to select rows in the df"
     ]
    },
    {
     "cell_type": "code",
     "collapsed": false,
     "input": [
      "df.iloc[:,mask]"
     ],
     "language": "python",
     "metadata": {},
     "outputs": [
      {
       "html": [
        "<div style=\"max-height:1000px;max-width:1500px;overflow:auto;\">\n",
        "<table border=\"1\" class=\"dataframe\">\n",
        "  <thead>\n",
        "    <tr>\n",
        "      <th>zones</th>\n",
        "      <th>1</th>\n",
        "      <th>2</th>\n",
        "    </tr>\n",
        "    <tr>\n",
        "      <th>units</th>\n",
        "      <th>C</th>\n",
        "      <th>C</th>\n",
        "    </tr>\n",
        "    <tr>\n",
        "      <th>types</th>\n",
        "      <th>T</th>\n",
        "      <th>T</th>\n",
        "    </tr>\n",
        "  </thead>\n",
        "  <tbody>\n",
        "    <tr>\n",
        "      <th>0</th>\n",
        "      <td> 0.987197</td>\n",
        "      <td> 1.054974</td>\n",
        "    </tr>\n",
        "    <tr>\n",
        "      <th>1</th>\n",
        "      <td>-0.730950</td>\n",
        "      <td> 0.034177</td>\n",
        "    </tr>\n",
        "    <tr>\n",
        "      <th>2</th>\n",
        "      <td> 1.357165</td>\n",
        "      <td> 0.797578</td>\n",
        "    </tr>\n",
        "    <tr>\n",
        "      <th>3</th>\n",
        "      <td>-0.522192</td>\n",
        "      <td>-2.161382</td>\n",
        "    </tr>\n",
        "  </tbody>\n",
        "</table>\n",
        "<p>4 rows \u00d7 2 columns</p>\n",
        "</div>"
       ],
       "metadata": {},
       "output_type": "pyout",
       "prompt_number": 39,
       "text": [
        "zones         1         2\n",
        "units         C         C\n",
        "types         T         T\n",
        "0      0.987197  1.054974\n",
        "1     -0.730950  0.034177\n",
        "2      1.357165  0.797578\n",
        "3     -0.522192 -2.161382\n",
        "\n",
        "[4 rows x 2 columns]"
       ]
      }
     ],
     "prompt_number": 39
    },
    {
     "cell_type": "markdown",
     "metadata": {},
     "source": [
      "This can be combined into a function"
     ]
    },
    {
     "cell_type": "code",
     "collapsed": false,
     "input": [
      "def get_mask(frame, label, match_value):\n",
      "    \"\"\"On a column based multi-indexed DataFrame\n",
      "    return a boolean mask over the columns of the data frame\n",
      "    To be used finally as a df.iloc[:,mask]\n",
      "    \"\"\"\n",
      "    return df.columns.get_level_values(label) == match_value"
     ],
     "language": "python",
     "metadata": {},
     "outputs": [],
     "prompt_number": 41
    },
    {
     "cell_type": "code",
     "collapsed": false,
     "input": [
      "get_mask(df, 'units', 'C')"
     ],
     "language": "python",
     "metadata": {},
     "outputs": [
      {
       "metadata": {},
       "output_type": "pyout",
       "prompt_number": 42,
       "text": [
        "array([ True,  True, False, False, False], dtype=bool)"
       ]
      }
     ],
     "prompt_number": 42
    },
    {
     "cell_type": "code",
     "collapsed": false,
     "input": [
      "print(df.ix[:,1])"
     ],
     "language": "python",
     "metadata": {},
     "outputs": [
      {
       "output_type": "stream",
       "stream": "stdout",
       "text": [
        "0   -0.328707\n",
        "1   -0.220498\n",
        "2   -1.264189\n",
        "3    0.702112\n",
        "Name: (2, C, T), dtype: float64\n"
       ]
      }
     ],
     "prompt_number": 77
    },
    {
     "cell_type": "code",
     "collapsed": false,
     "input": [
      "print(df.index)"
     ],
     "language": "python",
     "metadata": {},
     "outputs": [
      {
       "output_type": "stream",
       "stream": "stdout",
       "text": [
        "MultiIndex\n",
        "[(1, u'C', u'T'), (2, u'C', u'T'), (3, u'g', u'w'), (4, u'g', u'w'), (5, u'g', u'w')]\n"
       ]
      }
     ],
     "prompt_number": 49
    },
    {
     "cell_type": "code",
     "collapsed": false,
     "input": [
      "df.to_excel(r\"C:\\temp\\test.xls\")"
     ],
     "language": "python",
     "metadata": {},
     "outputs": [],
     "prompt_number": 17
    },
    {
     "cell_type": "code",
     "collapsed": false,
     "input": [
      "df"
     ],
     "language": "python",
     "metadata": {},
     "outputs": [
      {
       "html": [
        "<div style=\"max-height:1000px;max-width:1500px;overflow:auto;\">\n",
        "<table border=\"1\" class=\"dataframe\">\n",
        "  <thead>\n",
        "    <tr>\n",
        "      <th></th>\n",
        "      <th>1</th>\n",
        "      <th>2</th>\n",
        "      <th>3</th>\n",
        "      <th>4</th>\n",
        "      <th>5</th>\n",
        "    </tr>\n",
        "    <tr>\n",
        "      <th></th>\n",
        "      <th>C</th>\n",
        "      <th>C</th>\n",
        "      <th>g</th>\n",
        "      <th>g</th>\n",
        "      <th>g</th>\n",
        "    </tr>\n",
        "    <tr>\n",
        "      <th></th>\n",
        "      <th>T</th>\n",
        "      <th>T</th>\n",
        "      <th>w</th>\n",
        "      <th>w</th>\n",
        "      <th>w</th>\n",
        "    </tr>\n",
        "  </thead>\n",
        "  <tbody>\n",
        "    <tr>\n",
        "      <th>0</th>\n",
        "      <td>-1.138070</td>\n",
        "      <td>-0.569584</td>\n",
        "      <td>-0.279267</td>\n",
        "      <td> 0.025765</td>\n",
        "      <td> 0.217019</td>\n",
        "    </tr>\n",
        "    <tr>\n",
        "      <th>1</th>\n",
        "      <td>-1.448730</td>\n",
        "      <td>-0.244477</td>\n",
        "      <td> 0.557342</td>\n",
        "      <td>-1.155482</td>\n",
        "      <td>-0.052923</td>\n",
        "    </tr>\n",
        "    <tr>\n",
        "      <th>2</th>\n",
        "      <td>-0.522436</td>\n",
        "      <td> 1.293732</td>\n",
        "      <td> 1.222902</td>\n",
        "      <td>-0.992434</td>\n",
        "      <td>-2.321240</td>\n",
        "    </tr>\n",
        "    <tr>\n",
        "      <th>3</th>\n",
        "      <td>-1.158437</td>\n",
        "      <td> 1.379561</td>\n",
        "      <td> 0.367377</td>\n",
        "      <td> 0.551842</td>\n",
        "      <td>-0.902335</td>\n",
        "    </tr>\n",
        "  </tbody>\n",
        "</table>\n",
        "</div>"
       ],
       "output_type": "pyout",
       "prompt_number": 18,
       "text": [
        "          1         2         3         4         5\n",
        "          C         C         g         g         g\n",
        "          T         T         w         w         w\n",
        "0 -1.138070 -0.569584 -0.279267  0.025765  0.217019\n",
        "1 -1.448730 -0.244477  0.557342 -1.155482 -0.052923\n",
        "2 -0.522436  1.293732  1.222902 -0.992434 -2.321240\n",
        "3 -1.158437  1.379561  0.367377  0.551842 -0.902335"
       ]
      }
     ],
     "prompt_number": 18
    },
    {
     "cell_type": "code",
     "collapsed": false,
     "input": [
      "import sys\n",
      "sys.path.append('C:\\EclipseWorkspace\\MyUtilities\\src\\XLpandas2.py')\n"
     ],
     "language": "python",
     "metadata": {},
     "outputs": [],
     "prompt_number": 19
    },
    {
     "cell_type": "code",
     "collapsed": false,
     "input": [
      "from XLpandas2 import XLtable\n",
      "import xlwt"
     ],
     "language": "python",
     "metadata": {},
     "outputs": [],
     "prompt_number": 20
    },
    {
     "cell_type": "code",
     "collapsed": false,
     "input": [
      "wb = xlwt.Workbook()\n",
      "ws = wb.add_sheet('A Test Sheet')"
     ],
     "language": "python",
     "metadata": {},
     "outputs": []
    },
    {
     "cell_type": "code",
     "collapsed": false,
     "input": [
      "t = XLtable(df2)\n",
      "#t.place_table(ws=ws, row=5, col=5, dstyle=dstyle, rstyle=hstyle, cstyle=hstyle)\n",
      "t.place_table(ws=ws, row=1, col=1)"
     ],
     "language": "python",
     "metadata": {},
     "outputs": []
    },
    {
     "cell_type": "code",
     "collapsed": false,
     "input": [
      "conv = pd.io.parsers.ExcelWriter()\n",
      "hstyle_dict = {\"font\": {\"bold\": True},\n",
      "               \"border\": {\"top\": \"thin\",\n",
      "                          \"right\": \"thin\",\n",
      "                          \"bottom\": \"thin\",\n",
      "                          \"left\": \"thin\"},\n",
      "                \"pattern\": {\"pattern\": \"solid\",\n",
      "                            \"fore_colour\": 26},\n",
      "                \"align\": {\"horiz\": \"center\"}}\n",
      "hstyle = conv.to_xls(hstyle_dict)\n",
      "dstyle_dict = {\"border\":{\"top\": \"hair\",\n",
      "                        \"right\": \"hair\",\n",
      "                        \"bottom\": \"hair\",\n",
      "                        \"left\": \"hair\"}}\n",
      "dstyle = conv.to_xls(dstyle_dict)\n",
      "dstyle.num_format_str = '$#,##0.00'"
     ],
     "language": "python",
     "metadata": {},
     "outputs": []
    },
    {
     "cell_type": "code",
     "collapsed": false,
     "input": [],
     "language": "python",
     "metadata": {},
     "outputs": []
    }
   ],
   "metadata": {}
  }
 ]
}