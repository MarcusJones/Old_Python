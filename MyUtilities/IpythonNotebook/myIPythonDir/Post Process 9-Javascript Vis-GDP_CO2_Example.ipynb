{
 "metadata": {
  "name": "9-Javascript Vis-GDP_CO2_Example.ipynb"
 },
 "nbformat": 3,
 "nbformat_minor": 0,
 "worksheets": [
  {
   "cells": [
    {
     "cell_type": "markdown",
     "metadata": {},
     "source": [
      "#D3.js Visualization Example\n",
      "\n",
      "Created by Chris Shin (https://github.com/cschin/ipythonhttps://github.com/cschin/ipython_d3_mashup)\n",
      "\n",
      "Modified by Clayton Miller (miller.clayton@arch.ethz.ch) for the BS2013 Python Workshop - 29.Aug 2013"
     ]
    },
    {
     "cell_type": "markdown",
     "metadata": {},
     "source": [
      "## IPython + d3.js\n",
      "\n",
      "- What is IPython?\n",
      "\n",
      "- IPython has mutiple frontend including a web-based frontend\n",
      "\n",
      "- The web-based frontend is cool, but it is indeed nothing more than a html document\n",
      "\n",
      "- Poeple do all sort of tricks with web/html... Great visulization tool avaiable too, e.g. protovis, d3.js, etc.\n",
      "\n",
      "- What if we can combine both, IPython Notebook + d3.js?\n",
      "\n",
      "- Yes, one can display some new html element + javascript on the ipython notebook frontend\n",
      "\n",
      "- Yes, we can acutally call IPython kernel through Javascript...\n",
      "\n",
      "- Yes, it is possible to build some cool \"interactive\" Ipython Notebook\n",
      "\n",
      "- More work to be done, the fun is just starting."
     ]
    },
    {
     "cell_type": "markdown",
     "metadata": {},
     "source": [
      "**This note book currently works with the ipython fork on github \n",
      "https://github.com/cschin/ipython\n",
      "commit: 3a34d3b0c4d42bb1ef7b42660b12d429936cb287**"
     ]
    },
    {
     "cell_type": "markdown",
     "metadata": {},
     "source": [
      "## What is IPython?\n",
      "\n",
      "IPython has mutiple frontend including a web-based frontend (with cool latex support too, e.g. $S = k \\log \\Omega$.)"
     ]
    },
    {
     "cell_type": "code",
     "collapsed": false,
     "input": [
      "print \"Hello World\"\n",
      "print 1+1"
     ],
     "language": "python",
     "metadata": {},
     "outputs": []
    },
    {
     "cell_type": "markdown",
     "metadata": {},
     "source": [
      "One can display simple static plot throught `matplotlib/pylab`. (There is a html5 canvans frontend for `matplotlib` (http://code.google.com/p/mplh5canvas/) but I am not aware of any integration work with ipython notebook at this moment."
     ]
    },
    {
     "cell_type": "code",
     "collapsed": false,
     "input": [
      "#import numpy as np\n",
      "#x = np.array(range(100))*0.1\n",
      "#plot(x, sin(x))"
     ],
     "language": "python",
     "metadata": {},
     "outputs": []
    },
    {
     "cell_type": "markdown",
     "metadata": {},
     "source": [
      "## Poeple do all sort of tricks with web/html... Great visulization tool avaiable too, e.g. protovis, d3.js, etc.\n",
      "\n",
      "http://mbostock.github.com/d3/ #d3.js\n",
      "\n",
      "https://github.com/mrdoob/three.js/ #webGL\n",
      "\n",
      "http://www.meetup.com/VisualizeMyData/events/47408532/ #a number cool poeple show their visulization work in this meet-up."
     ]
    },
    {
     "cell_type": "markdown",
     "metadata": {},
     "source": [
      "## What if we can combine both, IPython Notebook + d3.js?\n",
      "\n",
      "http://mail.scipy.org/pipermail/ipython-dev/2012-January/008683.html"
     ]
    },
    {
     "cell_type": "markdown",
     "metadata": {},
     "source": [
      "Get some data first. (The original data is download from http://www.gapminder.org/)"
     ]
    },
    {
     "cell_type": "code",
     "collapsed": false,
     "input": [
      "import time\n",
      "\n",
      "kdata = {}\n",
      "\n",
      "def get_data(kd, fn, n):\n",
      "    with open(fn) as f:\n",
      "        head = f.readline()\n",
      "        years = head.strip().split(\",\")[1:]\n",
      "        for l in f:\n",
      "            l = l.strip().split(\",\")\n",
      "            country_name, rdata = l[0],l[1:]\n",
      "            for i in range(len(rdata)):\n",
      "                try:\n",
      "                    year = years[i]\n",
      "                    d = float(rdata[i])\n",
      "                    key = country_name, year\n",
      "                    kd.setdefault(key,[None]*3)\n",
      "                    kd[key][n] = d\n",
      "                except:\n",
      "                    pass\n",
      "                \n",
      "get_data(kdata, \"GDPpercapitaconstant2000US.csv\", 0)\n",
      "get_data(kdata, \"indicatorCDIACcarbon_dioxide_emissions_per_capita.csv\", 1)\n",
      "get_data(kdata, \"indicatorgapminderpopulation.csv\", 2)"
     ],
     "language": "python",
     "metadata": {},
     "outputs": []
    },
    {
     "cell_type": "markdown",
     "metadata": {},
     "source": [
      "The data directionary is a simple map from (country, year) to three numbers, GDP per capita, CO2 emissions per capita and population."
     ]
    },
    {
     "cell_type": "code",
     "collapsed": false,
     "input": [
      "kdata.items()[200:210]"
     ],
     "language": "python",
     "metadata": {},
     "outputs": []
    },
    {
     "cell_type": "markdown",
     "metadata": {},
     "source": [
      "## Yes, one can display some new html element + javascript on the ipython notebook frontend"
     ]
    },
    {
     "cell_type": "code",
     "collapsed": true,
     "input": [
      "from IPython.core.display import display_javascript, display_html"
     ],
     "language": "python",
     "metadata": {},
     "outputs": []
    },
    {
     "cell_type": "markdown",
     "metadata": {},
     "source": [
      "Load d3.js (You need to have a d3.js in your ipython installation.) Wait two second to make sure the brower loads it."
     ]
    },
    {
     "cell_type": "code",
     "collapsed": false,
     "input": [
      "%install_ext https://raw.github.com/cschin/ipython_d3_mashup/master/extension/visutils.py\n",
      "%reload_ext visutils\n",
      "vis.run_js(\"$.getScript('http://d3js.org/d3.v2.js')\")\n",
      "vis.run_js(\"$.getScript('https://raw.github.com/cschin/ipython_d3_mashup/master/extension/vis_extension.js')\")\n",
      "time.sleep(2)\n",
      "vis.run_js(\"IPython.vis_init();\")"
     ],
     "language": "python",
     "metadata": {},
     "outputs": []
    },
    {
     "cell_type": "markdown",
     "metadata": {},
     "source": [
      "Get some place in the ipython notebook to display the plot. Some better design for get some space for a plotting widget should be considered."
     ]
    },
    {
     "cell_type": "code",
     "collapsed": false,
     "input": [
      "js = \"\"\"\n",
      "IPython.vis_init();\n",
      "IPython.vis_utils.insert_vis_cell(\"vis\");\n",
      "var vc = IPython.vis_utils.name_to_viscell[\"vis\"];\n",
      "\"\"\"\n",
      "display_javascript(js, raw=True)"
     ],
     "language": "python",
     "metadata": {},
     "outputs": []
    },
    {
     "cell_type": "code",
     "collapsed": false,
     "input": [
      "display_javascript(\"\"\"$(\"#notebook\").width(750);\"\"\", raw=True)\n",
      "#display_html(\"\"\"<div id=\"chart\" style=\"position:absolute;top:0px;width:500px;left:750px;height:450px;border:2px solid;\"></div>\"\"\", raw=True)\n",
      "\n",
      "js=\"\"\"\n",
      "var svg = d3.select(\"#vis\")\n",
      "    .append(\"svg\")\n",
      "    .attr(\"width\", 500)\n",
      "    .attr(\"height\", 450);\n",
      "\"\"\"\n",
      "display_javascript(js, raw=True)"
     ],
     "language": "python",
     "metadata": {},
     "outputs": []
    },
    {
     "cell_type": "markdown",
     "metadata": {},
     "source": [
      "set up the scales for d3.js ( example from http://www.12devsofxmas.co.uk/2012/01/data-visualisation/ )"
     ]
    },
    {
     "cell_type": "code",
     "collapsed": false,
     "input": [
      "maxx = max( d[0] for d in kdata.values() )\n",
      "maxy = max( d[1] for d in kdata.values() )\n",
      "\n",
      "js = \"\"\"\n",
      "var vc = IPython.vis_utils.name_to_viscell[\"vis\"];\n",
      "vc.data.maxx = %f;\n",
      "vc.data.maxy = %f; \"\"\" % (maxx, maxy)\n",
      "\n",
      "js+=\"\"\"\n",
      "var vis = d3.select(\"#vis svg\");\n",
      "var maxx = vc.data.maxx;\n",
      "var maxy = vc.data.maxy;\n",
      "var WIDTH = 500;\n",
      "var HEIGHT = 400;\n",
      "var MARGINS = {top: 20, right: 20, bottom: 20, left: 100};\n",
      "\n",
      "vc.data.xRange = d3.scale\n",
      "           .log()\n",
      "           .range ([MARGINS.left, WIDTH - MARGINS.right])\n",
      "           .domain([10, maxx]);\n",
      "\n",
      "vc.data.yRange = d3.scale\n",
      "           .log()\n",
      "           .range ([HEIGHT - MARGINS.top, MARGINS.bottom])\n",
      "           .domain([0.001, maxy*5]);\n",
      "\n",
      "var xAxis = d3.svg.axis() // generate an axis\n",
      ".scale(vc.data.xRange) // set the range of the axis\n",
      ".tickSize(5) // height of the ticks\n",
      ".tickSubdivide(false); // display ticks between text labels\n",
      "\n",
      "var yAxis = d3.svg.axis() // generate an axis\n",
      ".scale(vc.data.yRange) // set the range of the axis\n",
      ".tickSize(5) // width of the ticks\n",
      ".orient(\"left\") // have the text labels on the left hand side\n",
      ".tickSubdivide(false); // display ticks between text labels\n",
      "\n",
      "vis.append(\"svg:g\") // add a container for the axis\n",
      ".attr(\"class\", \"x axis\") // add some classes so we can style it\n",
      ".attr(\"transform\", \"translate(0,\" + (HEIGHT - MARGINS.bottom) + \")\") // move it into position\n",
      ".call(xAxis); // finally, add the axis to the visualisation\n",
      "\n",
      "vis.append(\"svg:g\")\n",
      ".attr(\"class\", \"y axis\")\n",
      ".attr(\"transform\", \"translate(\" + (MARGINS.left) + \",0)\")\n",
      ".call(yAxis);\n",
      "\n",
      "var vis = d3.select(\"#vis svg\");\n",
      "vis.append(\"g\").attr(\"id\", \"datapoints\");\n",
      "\n",
      "vis.append(\"text\")\n",
      "   .attr(\"id\",\"countryname\")\n",
      "   .attr(\"x\", \"200\")\n",
      "   .attr(\"y\", \"50\")\n",
      "   .text(function(d){return \"country\"});\n",
      "vis.append(\"text\")\n",
      "   .attr(\"id\",\"year\")\n",
      "   .attr(\"x\", \"200\")\n",
      "   .attr(\"y\", \"70\")\n",
      "   .text(function(d){return \"year\"});\n",
      "\"\"\"\n",
      "\n",
      "display_javascript(js, raw=True)"
     ],
     "language": "python",
     "metadata": {},
     "outputs": []
    },
    {
     "cell_type": "markdown",
     "metadata": {},
     "source": [
      "Set up two text elements to show country name and the year."
     ]
    },
    {
     "cell_type": "code",
     "collapsed": false,
     "input": [
      "js = \"\"\"\n",
      "var vc = IPython.vis_utils.name_to_viscell[\"vis\"];\n",
      "vc.data.update_countryname = function(name) {\n",
      "    var vis = d3.select(\"#vis svg\");\n",
      "    vis.selectAll(\"#countryname\")\n",
      "       .data([name])\n",
      "       .transition()\n",
      "       .text(function(d){return d});\n",
      "}\n",
      "\"\"\"\n",
      "display_javascript(js, raw=True)  "
     ],
     "language": "python",
     "metadata": {},
     "outputs": []
    },
    {
     "cell_type": "markdown",
     "metadata": {},
     "source": [
      "The `show_data_for_year()` is a python function that runs on the ipython kernel but ouputs to the ipython notebook fronend. "
     ]
    },
    {
     "cell_type": "code",
     "collapsed": true,
     "input": [
      "import json\n",
      "\n",
      "def show_data_for_year(y):\n",
      "    data_to_show = []\n",
      "    for k in kdata:\n",
      "        if k[1] != y:\n",
      "            continue\n",
      "        d = kdata[k]\n",
      "        if d[0] == None: continue\n",
      "        if d[1] == None: continue\n",
      "        data_to_show.append([k[0], d[0], d[1]])\n",
      "\n",
      "    js=\"\"\"\n",
      "    var vc = IPython.vis_utils.name_to_viscell[\"vis\"];\n",
      "    var vis = d3.select(\"#vis svg\");\n",
      "    var circles = vis.selectAll(\"g#datapoints\")\n",
      "                 .selectAll(\"circle\")\n",
      "                 .data(%s, function(d) {return d[0];});\n",
      "    \n",
      "    circles.enter()\n",
      "           .insert(\"circle\")\n",
      "           .attr(\"cx\", function(d){return vc.data.xRange(d[1]);})\n",
      "           .attr(\"cy\", function(d){return vc.data.yRange(d[2]);})\n",
      "           .attr(\"r\", function(d){return 6;})\n",
      "           .attr(\"fill-opacity\", function(d){return 0.5;})\n",
      "           .style(\"fill\", \"red\")\n",
      "           .on(\"mouseover\", function(d) { return vc.data.update_countryname(d[0]) ;})\n",
      "           .on(\"mouseout\", function(d) { return vc.data.update_countryname(\"\") ;}) ;\n",
      "\n",
      "    circles.transition()\n",
      "           .duration(1000)\n",
      "           .attr(\"cx\", function (d) { return vc.data.xRange(d[1]); })\n",
      "           .attr(\"cy\", function (d) { return vc.data.yRange(d[2]); })\n",
      "           .attr(\"r\", function (d) { return 6; })\n",
      "           .style(\"fill\", \"blue\");\n",
      "    \n",
      "    circles.exit ()\n",
      "           .transition().duration(1000)\n",
      "           .attr(\"r\", 0)\n",
      "           .remove();\n",
      "\n",
      "    vis.selectAll(\"#year\")\n",
      "       .data([%s])\n",
      "       .transition()\n",
      "       .text(function(d){return d});\n",
      "\n",
      "    \"\"\" % (json.dumps(data_to_show), y)\n",
      "    display_javascript(js, raw=True)"
     ],
     "language": "python",
     "metadata": {},
     "outputs": []
    },
    {
     "cell_type": "markdown",
     "metadata": {},
     "source": [
      "Loop through the years and call the python function `show_data_for_year()` to generate an animation.  This demostrates how to control the frontend html presentation from the python code."
     ]
    },
    {
     "cell_type": "code",
     "collapsed": false,
     "input": [
      "years = set()\n",
      "for k in kdata:\n",
      "    if k[1] not in years:\n",
      "        years.add(k[1])\n",
      "years = list(years)\n",
      "years.sort()\n",
      "\n",
      "for y in years[-50:-5:2]:\n",
      "    show_data_for_year(y)\n",
      "    time.sleep(1)"
     ],
     "language": "python",
     "metadata": {},
     "outputs": []
    },
    {
     "cell_type": "markdown",
     "metadata": {},
     "source": [
      "We can call the python function from the javascript from the browser too.\n",
      "\n",
      "The cell below create a number of buttons so one can update the graph by clicking the buttons using the javascript function `IPython.notebook.kernel.execute()`. The function allows one to execute a python function from the javascript. This is acutally how ipython notebook works. When you excute a cell in the ipython notebook, a `IPython.notebook.kernel.execute` is called and the python code is passed to the ipython kernel through websocker + zeromq. \n",
      "\n",
      "The current 0.13-dev branch dose not process any `IPython.notebook.kernel.execute()` call that is not initiated from a \"code cell\". Thus, I have to modify `the notebook.js` and `codecell.js` (https://github.com/cschin/ipython/commit/3a34d3b0c4d42bb1ef7b42660b12d429936cb287) to let the notebook frontend to excute the call directly without using a \"code cell\"."
     ]
    },
    {
     "cell_type": "code",
     "collapsed": false,
     "input": [
      "for y in range(1965,2006,5):\n",
      "    y = str(y)\n",
      "    display_javascript(\"\"\"$(\"div#vis\").append(\"<button id='%s'>%s</button>\") \"\"\" % (y, y), raw=True)\n",
      "    display_javascript(\"\"\"var vc = IPython.vis_utils.name_to_viscell[\"vis\"];\n",
      "$(\"button#%s\")[0].onclick= \n",
      "function () {vc.execute_py('show_data_for_year(\"%s\")');};\"\"\" % (y,y), raw=True)"
     ],
     "language": "python",
     "metadata": {},
     "outputs": []
    },
    {
     "cell_type": "code",
     "collapsed": false,
     "input": [
      "display_javascript(\"\"\"var vc = IPython.vis_utils.name_to_viscell[\"vis\"];\n",
      "vc.execute_py('show_data_for_year(\"1990\")')\"\"\", raw=True)"
     ],
     "language": "python",
     "metadata": {},
     "outputs": []
    },
    {
     "cell_type": "markdown",
     "metadata": {},
     "source": [
      "## More work to be done, the fun is just starting\n",
      "\n",
      "Andy Wilson has a nice more tightly intergration of d3.js and ipython notebook. See https://github.com/wilsaj/ipython/tree/d3plots \n",
      "\n",
      "\n",
      "## some other examples (mostly experimental, need various different setups.)\n",
      "https://github.com/cschin/IPython-Notebook---d3.js-mashup\n",
      "\n",
      "\n",
      "# Why? \n",
      "\n",
      "The whole exercise here is mostly on exploring the possibility to have really dynamic frontend for developing visulizations or demostrations.  The ipython notebook provides a really nice way to integrate web technologies with the powerful backend python processes.  This will make dynamic data exploratory work with python easier in the furture using mostly open-source software.  We can eventually integrate a lots of other cool web technologies (e.g. webGL, html5 video, canvas) together. \n",
      "\n",
      "# What's next\n",
      "\n",
      "In this example, I use bare-bone python functions / javascript functions for the work. I think the reasonable next step is to see what is the right kind of framework for mapping the javascript objects and python objects (e.g. something like https://github.com/mikedewar/d3py for ipython notebook or Andy Wilson's d3plots approach.)  Eventually, we may develope a standard set of widgets or integrate some concept of the \"Grammar of Graphics\" (http://www.amazon.com/Grammar-Graphics-Leland-Wilkinson/dp/0387987746) and ggplot2-like features (http://had.co.nz/ggplot2/) as python notebook libraries. \n",
      "\n",
      "--Jason Chin, Feb 26, 2012"
     ]
    },
    {
     "cell_type": "code",
     "collapsed": true,
     "input": [
      "# Here we show we can re-define the function and have the javascript calls the\n",
      "# the re-defined function immediately \n",
      "# The code below plots the circles using the sizes propotional to the log of the\n",
      "# population of each country\n",
      "# One you execute this cell, you can see the changes by click the buttons\n",
      "# in the display area\n",
      "\n",
      "import json\n",
      "\n",
      "def show_data_for_year(y):\n",
      "    data_to_show = []\n",
      "    for k in kdata:\n",
      "        if k[1] != y:\n",
      "            continue\n",
      "        d = kdata[k]\n",
      "        if d[0] == None: continue\n",
      "        if d[1] == None: continue\n",
      "        if d[2] == None:\n",
      "            pop = 1000\n",
      "        else:\n",
      "            pop = d[2]\n",
      "        data_to_show.append([k[0], d[0], d[1], pop])\n",
      "\n",
      "    js=\"\"\"\n",
      "    var vc = IPython.vis_utils.name_to_viscell[\"vis\"];\n",
      "    var vis = d3.select(\"#vis svg\");\n",
      "    var circles = vis.selectAll(\"g#datapoints\")\n",
      "                 .selectAll(\"circle\")\n",
      "                 .data(%s, function(d) {return d[0];});\n",
      "    \n",
      "    circles.enter()\n",
      "           .insert(\"circle\")\n",
      "           .attr(\"cx\", function(d){return vc.data.xRange(d[1]);})\n",
      "           .attr(\"cy\", function(d){return vc.data.yRange(d[2]);})\n",
      "           .attr(\"r\", function(d){return 0.7*Math.log(d[3])/Math.log(10);})\n",
      "           .attr(\"fill-opacity\", function(d){return 0.5;})\n",
      "           .style(\"fill\", \"red\")\n",
      "           .on(\"mouseover\", function(d) { return vc.data.update_countryname(d[0]) ;}) \n",
      "           .on(\"mouseout\", function(d) { return vc.data.update_countryname(\"\") ;});\n",
      "\n",
      "    circles.transition()\n",
      "           .duration(1000)\n",
      "           .attr(\"cx\", function (d) { return vc.data.xRange(d[1]); })\n",
      "           .attr(\"cy\", function (d) { return vc.data.yRange(d[2]); })\n",
      "           .attr(\"r\", function(d){return 0.7*Math.log(d[3])/Math.log(10);})\n",
      "           .style(\"fill\", \"blue\");\n",
      "    \n",
      "    circles.exit ()\n",
      "           .transition().duration(1000)\n",
      "           .attr(\"r\", 0)\n",
      "           .remove();\n",
      "\n",
      "    vis.selectAll(\"#year\")\n",
      "       .data([%s])\n",
      "       .transition()\n",
      "       .text(function(d){return d});\n",
      "\n",
      "    \"\"\" % (json.dumps(data_to_show), y)\n",
      "    \n",
      "    display_javascript(js, raw=True)"
     ],
     "language": "python",
     "metadata": {},
     "outputs": []
    },
    {
     "cell_type": "code",
     "collapsed": false,
     "input": [],
     "language": "python",
     "metadata": {},
     "outputs": []
    }
   ],
   "metadata": {}
  }
 ]
}