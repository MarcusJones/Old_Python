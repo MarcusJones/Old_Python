{
 "metadata": {
  "name": "8-Loading Data from PDF"
 },
 "nbformat": 3,
 "nbformat_minor": 0,
 "worksheets": [
  {
   "cells": [
    {
     "cell_type": "markdown",
     "metadata": {},
     "source": [
      "#Example of loading data from PDF files\n",
      "\n",
      "Created by Clayton Miller (miller.clayton@arch.ethz.ch) for the BS2013 Python Workshop - 29.Aug 2013\n",
      "\n",
      "###This analysis is based on the challenge of extracting data from a PDF file"
     ]
    },
    {
     "cell_type": "code",
     "collapsed": false,
     "input": [
      "#Define the libraries needed\n",
      "import os\n",
      "import pandas as pd\n",
      "from pdfminer.pdfinterp import PDFResourceManager, process_pdf\n",
      "from pdfminer.converter import TextConverter\n",
      "from pdfminer.layout import LAParams\n",
      "from cStringIO import StringIO"
     ],
     "language": "python",
     "metadata": {},
     "outputs": []
    },
    {
     "cell_type": "code",
     "collapsed": false,
     "input": [
      "#This function extracts the data from the PDFs and stores that intermediately in a csv file\n",
      "def convert_pdf(path):\n",
      "\n",
      "    rsrcmgr = PDFResourceManager()\n",
      "    retstr = StringIO()\n",
      "    codec = 'utf-8'\n",
      "    laparams = LAParams()\n",
      "    device = TextConverter(rsrcmgr, retstr, codec=codec, laparams=laparams)\n",
      "\n",
      "    fp = open(path, 'rb')\n",
      "    process_pdf(rsrcmgr, device, fp)\n",
      "    fp.close()\n",
      "    device.close()\n",
      "\n",
      "    stringlist = retstr.getvalue().splitlines()\n",
      "    stringlistnospaces = []\n",
      "    for line in stringlist:\n",
      "        if line != '':\n",
      "            stringlistnospaces.append(line)\n",
      "    retstr.close()\n",
      "    \n",
      "    return stringlistnospaces"
     ],
     "language": "python",
     "metadata": {},
     "outputs": []
    },
    {
     "cell_type": "code",
     "collapsed": false,
     "input": [
      "ls"
     ],
     "language": "python",
     "metadata": {},
     "outputs": []
    },
    {
     "cell_type": "code",
     "collapsed": false,
     "input": [
      "cd ExamplePDF/PDF/"
     ],
     "language": "python",
     "metadata": {},
     "outputs": []
    },
    {
     "cell_type": "code",
     "collapsed": false,
     "input": [
      "filelist = os.listdir(\"./\")"
     ],
     "language": "python",
     "metadata": {},
     "outputs": []
    },
    {
     "cell_type": "code",
     "collapsed": false,
     "input": [
      "filelist"
     ],
     "language": "python",
     "metadata": {},
     "outputs": []
    },
    {
     "cell_type": "code",
     "collapsed": false,
     "input": [
      "for file in filelist[1:]:\n",
      "    print file+' Loading'\n",
      "    try:\n",
      "        filedata = convert_pdf(file)\n",
      "        fileframe = pd.Series(filedata)\n",
      "        fileframe.to_csv('/Users/millerc/Dropbox/20130828 IBPSA Python Workshop/PythonWorkshop_Part2Postprocessing/ExamplePDF/processedtxt/'+file[:-4]+'.csv')\n",
      "    except:\n",
      "        continue"
     ],
     "language": "python",
     "metadata": {},
     "outputs": []
    },
    {
     "cell_type": "code",
     "collapsed": false,
     "input": [
      "cd .."
     ],
     "language": "python",
     "metadata": {},
     "outputs": []
    },
    {
     "cell_type": "code",
     "collapsed": false,
     "input": [
      "cd processedtxt/"
     ],
     "language": "python",
     "metadata": {},
     "outputs": []
    },
    {
     "cell_type": "code",
     "collapsed": false,
     "input": [
      "ls"
     ],
     "language": "python",
     "metadata": {},
     "outputs": []
    },
    {
     "cell_type": "code",
     "collapsed": false,
     "input": [
      "def columnizer(test, testfilename):\n",
      "    counter = 1\n",
      "    #[0,0,0,0,0],columns=['PointName','Timestamp','TrendFlags','Status','Value']\n",
      "    templist = []\n",
      "    while counter <= len(test):\n",
      "        if test[counter][-3:] == 'CDT':\n",
      "            #print test[counter]\n",
      "            internalloopcounter = 1\n",
      "            if test[counter+1][-3:] == 'CDT':\n",
      "                while test[counter+internalloopcounter][-3:] == 'CDT':\n",
      "                    internalloopcounter +=1\n",
      "                #print internalloopcounter\n",
      "                tempcounter = 0\n",
      "                while tempcounter < internalloopcounter:\n",
      "                    timestamp = test[counter+tempcounter]\n",
      "                    trendflag = test[counter+internalloopcounter+tempcounter]\n",
      "                    status = test[counter+tempcounter+internalloopcounter*2]\n",
      "                    try:\n",
      "                        value = float(test[counter+tempcounter+internalloopcounter*3])\n",
      "                    except:\n",
      "                        value = 'NaN'\n",
      "                    templist.append({'PointName':testfilename,'timestamp':timestamp,'TrendFlag': trendflag,'Status':status,'Value':value})\n",
      "                    tempcounter += 1\n",
      "            counter += internalloopcounter\n",
      "        counter += 1\n",
      "    return templist"
     ],
     "language": "python",
     "metadata": {},
     "outputs": []
    },
    {
     "cell_type": "code",
     "collapsed": false,
     "input": [
      "rawcsvdir = '/Users/millerc/Dropbox/20130828 IBPSA Python Workshop/PythonWorkshop_Part2Postprocessing/ExamplePDF/processedtxt/'\n",
      "columnizedcsvdir = '/Users/millerc/Dropbox/20130828 IBPSA Python Workshop/PythonWorkshop_Part2Postprocessing/ExamplePDF/columnizedcsv/'\n",
      "os.chdir(rawcsvdir)\n",
      "filelist = os.listdir(rawcsvdir)"
     ],
     "language": "python",
     "metadata": {},
     "outputs": []
    },
    {
     "cell_type": "code",
     "collapsed": false,
     "input": [
      "for file in filelist[:1]:\n",
      "    filename = file[:-4]\n",
      "    interstepframe = pd.read_csv(file,index_col=[0],squeeze=True)\n",
      "    try:\n",
      "        intersteplist = columnizer(interstepframe,filename)\n",
      "    except TypeError:\n",
      "        print TypeError\n",
      "    columnizedframe = pd.DataFrame(intersteplist)\n",
      "    columnizedframe.to_csv(columnizedcsvdir+file)"
     ],
     "language": "python",
     "metadata": {},
     "outputs": []
    },
    {
     "cell_type": "code",
     "collapsed": false,
     "input": [
      "os.chdir(columnizedcsvdir)\n",
      "filelist = os.listdir(columnizedcsvdir)\n"
     ],
     "language": "python",
     "metadata": {},
     "outputs": []
    },
    {
     "cell_type": "code",
     "collapsed": false,
     "input": [
      "TotalRaw = pd.read_csv(filelist[0],parse_dates=True).drop(['Unnamed: 0'],axis=1)\n",
      "for file in filelist[1:]:\n",
      "    tempframe1 = pd.read_csv(file,parse_dates=True).drop(['Unnamed: 0'],axis=1)\n",
      "    TotalRaw = TotalRaw.append(tempframe1)"
     ],
     "language": "python",
     "metadata": {},
     "outputs": []
    },
    {
     "cell_type": "code",
     "collapsed": false,
     "input": [
      "TotalRaw.reindex()"
     ],
     "language": "python",
     "metadata": {},
     "outputs": []
    },
    {
     "cell_type": "code",
     "collapsed": false,
     "input": [
      "TotalRaw.plot()"
     ],
     "language": "python",
     "metadata": {},
     "outputs": []
    },
    {
     "cell_type": "code",
     "collapsed": false,
     "input": [
      "TotalRaw.to_csv('TotaldatafromPDF.csv')"
     ],
     "language": "python",
     "metadata": {},
     "outputs": []
    },
    {
     "cell_type": "code",
     "collapsed": false,
     "input": [
      "TotalRaw2 = pd.read_csv('TotaldatafromPDF.csv',parse_dates=[5])"
     ],
     "language": "python",
     "metadata": {},
     "outputs": []
    },
    {
     "cell_type": "code",
     "collapsed": false,
     "input": [
      "RawPivoted = pd.pivot_table(TotalRaw2,values='Value',rows='timestamp',cols='PointName').resample('H')"
     ],
     "language": "python",
     "metadata": {},
     "outputs": []
    },
    {
     "cell_type": "code",
     "collapsed": false,
     "input": [
      "RawPivoted.to_csv('TotalMeterData.csv')"
     ],
     "language": "python",
     "metadata": {},
     "outputs": []
    },
    {
     "cell_type": "code",
     "collapsed": false,
     "input": [
      "RawPivoted"
     ],
     "language": "python",
     "metadata": {},
     "outputs": []
    },
    {
     "cell_type": "code",
     "collapsed": false,
     "input": [
      "#RawPivoted = RawPivoted.fillna(0)"
     ],
     "language": "python",
     "metadata": {},
     "outputs": []
    },
    {
     "cell_type": "code",
     "collapsed": false,
     "input": [
      "RawPivoted.plot(figsize=(20,60),subplots=True)"
     ],
     "language": "python",
     "metadata": {},
     "outputs": []
    },
    {
     "cell_type": "code",
     "collapsed": false,
     "input": [
      "len(RawPivoted.columns)"
     ],
     "language": "python",
     "metadata": {},
     "outputs": []
    },
    {
     "cell_type": "code",
     "collapsed": false,
     "input": [
      "from matplotlib.backends.backend_pdf import PdfPages"
     ],
     "language": "python",
     "metadata": {},
     "outputs": []
    },
    {
     "cell_type": "code",
     "collapsed": false,
     "input": [
      "ls"
     ],
     "language": "python",
     "metadata": {},
     "outputs": []
    },
    {
     "cell_type": "code",
     "collapsed": false,
     "input": [
      "numberofcols = len(RawPivoted.columns)\n",
      "filecount = 1\n",
      "rowcount = 0\n",
      "\n",
      "while numberofcols > 0:\n",
      "    rowcountend = rowcount + 20\n",
      "    RawPivoted.ix[:,rowcount:rowcountend].plot(figsize=(20,30),subplots=True)\n",
      "    filename = 'plot'+str(filecount)+'.pdf'\n",
      "    plt.savefig(filename)\n",
      "    print filename+' complete'\n",
      "    filecount += 1\n",
      "    rowcount = rowcountend\n",
      "    numberofcols -= 20\n"
     ],
     "language": "python",
     "metadata": {},
     "outputs": []
    }
   ],
   "metadata": {}
  }
 ]
}