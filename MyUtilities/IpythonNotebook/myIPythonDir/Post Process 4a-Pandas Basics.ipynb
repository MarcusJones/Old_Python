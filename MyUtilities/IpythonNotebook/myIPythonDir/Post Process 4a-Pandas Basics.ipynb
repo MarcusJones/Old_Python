{
 "metadata": {
  "name": "Post Process 4a-Pandas Basics"
 },
 "nbformat": 3,
 "nbformat_minor": 0,
 "worksheets": [
  {
   "cells": [
    {
     "cell_type": "markdown",
     "metadata": {},
     "source": [
      "#Pandas - Data Analysis Library for Python - Part 1 Basics\n",
      "\n",
      "Original by Wes McKinney http://www.youtube.com/watch?v=w26x-z-BdWQ&feature=youtu.be \n",
      "    \n",
      "Modified by Clayton Miller (miller.clayton@arch.ethz.ch) for the BS2013 Python Workshop - 29.Aug 2013\n",
      "\n",
      "Modified by Marcus Jones for personal taste\n"
     ]
    },
    {
     "cell_type": "code",
     "collapsed": true,
     "input": [
      "import pandas as pd\n",
      "import numpy as np\n",
      "\n",
      "#def side_by_side(*objs, **kwds):\n",
      "#    from pd.core.common import adjoin\n",
      "#    space = kwds.get('space', 4)\n",
      "#    reprs = [repr(obj).split('\\n') for obj in objs]\n",
      "#    print adjoin(space, *reprs)\n",
      "\n",
      "#plt.rc('figure', figsize=(10, 6))\n",
      "#pd.set_option('notebook_repr_html',False)"
     ],
     "language": "python",
     "metadata": {},
     "outputs": [],
     "prompt_number": 1
    },
    {
     "cell_type": "markdown",
     "metadata": {},
     "source": [
      "Pandas Series Object: 1 dimensional data container\n",
      "======"
     ]
    },
    {
     "cell_type": "code",
     "collapsed": false,
     "input": [
      "s = pd.Series(np.random.randn(5))\n",
      "s"
     ],
     "language": "python",
     "metadata": {},
     "outputs": [
      {
       "output_type": "pyout",
       "prompt_number": 2,
       "text": [
        "0    0.585143\n",
        "1    0.285587\n",
        "2   -0.045460\n",
        "3    0.098075\n",
        "4    0.665770\n",
        "dtype: float64"
       ]
      }
     ],
     "prompt_number": 2
    },
    {
     "cell_type": "code",
     "collapsed": false,
     "input": [
      "labels = ['a', 'b', 'c', 'd', 'e']\n",
      "s = pd.Series(np.random.randn(5), index = labels)\n",
      "s"
     ],
     "language": "python",
     "metadata": {},
     "outputs": [
      {
       "output_type": "pyout",
       "prompt_number": 3,
       "text": [
        "a    0.842122\n",
        "b   -1.722267\n",
        "c   -0.305827\n",
        "d   -0.316237\n",
        "e    0.533195\n",
        "dtype: float64"
       ]
      }
     ],
     "prompt_number": 3
    },
    {
     "cell_type": "markdown",
     "metadata": {},
     "source": [
      "Indexing"
     ]
    },
    {
     "cell_type": "code",
     "collapsed": false,
     "input": [
      "'b' in s"
     ],
     "language": "python",
     "metadata": {},
     "outputs": [
      {
       "output_type": "pyout",
       "prompt_number": 4,
       "text": [
        "True"
       ]
      }
     ],
     "prompt_number": 4
    },
    {
     "cell_type": "code",
     "collapsed": false,
     "input": [
      "s['b']"
     ],
     "language": "python",
     "metadata": {},
     "outputs": [
      {
       "output_type": "pyout",
       "prompt_number": 5,
       "text": [
        "-1.7222669159541084"
       ]
      }
     ],
     "prompt_number": 5
    },
    {
     "cell_type": "code",
     "collapsed": false,
     "input": [
      "s[3]"
     ],
     "language": "python",
     "metadata": {},
     "outputs": [
      {
       "output_type": "pyout",
       "prompt_number": 6,
       "text": [
        "-0.3162373048747536"
       ]
      }
     ],
     "prompt_number": 6
    },
    {
     "cell_type": "code",
     "collapsed": false,
     "input": [
      "s[2:]"
     ],
     "language": "python",
     "metadata": {},
     "outputs": [
      {
       "output_type": "pyout",
       "prompt_number": 7,
       "text": [
        "c   -0.305827\n",
        "d   -0.316237\n",
        "e    0.533195\n",
        "dtype: float64"
       ]
      }
     ],
     "prompt_number": 7
    },
    {
     "cell_type": "code",
     "collapsed": false,
     "input": [
      "s[[0,4]]"
     ],
     "language": "python",
     "metadata": {},
     "outputs": [
      {
       "output_type": "pyout",
       "prompt_number": 8,
       "text": [
        "a    0.842122\n",
        "e    0.533195\n",
        "dtype: float64"
       ]
      }
     ],
     "prompt_number": 8
    },
    {
     "cell_type": "markdown",
     "metadata": {},
     "source": [
      "Showing to_dict"
     ]
    },
    {
     "cell_type": "code",
     "collapsed": false,
     "input": [
      "mapping = s.to_dict()\n",
      "mapping"
     ],
     "language": "python",
     "metadata": {},
     "outputs": [
      {
       "output_type": "pyout",
       "prompt_number": 9,
       "text": [
        "{'a': 0.84212228024906,\n",
        " 'b': -1.7222669159541084,\n",
        " 'c': -0.30582678608447716,\n",
        " 'd': -0.3162373048747536,\n",
        " 'e': 0.53319512771644606}"
       ]
      }
     ],
     "prompt_number": 9
    },
    {
     "cell_type": "markdown",
     "metadata": {},
     "source": [
      "And back from dict to series"
     ]
    },
    {
     "cell_type": "code",
     "collapsed": false,
     "input": [
      "s = pd.Series(mapping)\n",
      "s"
     ],
     "language": "python",
     "metadata": {},
     "outputs": [
      {
       "output_type": "pyout",
       "prompt_number": 10,
       "text": [
        "a    0.842122\n",
        "b   -1.722267\n",
        "c   -0.305827\n",
        "d   -0.316237\n",
        "e    0.533195\n",
        "dtype: float64"
       ]
      }
     ],
     "prompt_number": 10
    },
    {
     "cell_type": "code",
     "collapsed": false,
     "input": [
      "s.index"
     ],
     "language": "python",
     "metadata": {},
     "outputs": [
      {
       "output_type": "pyout",
       "prompt_number": 11,
       "text": [
        "Index([u'a', u'b', u'c', u'd', u'e'], dtype=object)"
       ]
      }
     ],
     "prompt_number": 11
    },
    {
     "cell_type": "markdown",
     "metadata": {},
     "source": [
      "DataFrame: 2D collection of Series\n",
      "=================================="
     ]
    },
    {
     "cell_type": "code",
     "collapsed": false,
     "input": [
      "df = pd.DataFrame({'a': np.random.randn(6),\n",
      "                'b': ['foo', 'bar'] * 3,\n",
      "                'c': np.random.randn(6)})\n",
      "df"
     ],
     "language": "python",
     "metadata": {},
     "outputs": [
      {
       "html": [
        "<div style=\"max-height:1000px;max-width:1500px;overflow:auto;\">\n",
        "<table border=\"1\" class=\"dataframe\">\n",
        "  <thead>\n",
        "    <tr style=\"text-align: right;\">\n",
        "      <th></th>\n",
        "      <th>a</th>\n",
        "      <th>b</th>\n",
        "      <th>c</th>\n",
        "    </tr>\n",
        "  </thead>\n",
        "  <tbody>\n",
        "    <tr>\n",
        "      <th>0</th>\n",
        "      <td>-1.306861</td>\n",
        "      <td> foo</td>\n",
        "      <td> 0.788739</td>\n",
        "    </tr>\n",
        "    <tr>\n",
        "      <th>1</th>\n",
        "      <td> 0.460920</td>\n",
        "      <td> bar</td>\n",
        "      <td> 0.361964</td>\n",
        "    </tr>\n",
        "    <tr>\n",
        "      <th>2</th>\n",
        "      <td> 0.006387</td>\n",
        "      <td> foo</td>\n",
        "      <td>-0.054812</td>\n",
        "    </tr>\n",
        "    <tr>\n",
        "      <th>3</th>\n",
        "      <td> 0.627348</td>\n",
        "      <td> bar</td>\n",
        "      <td>-0.966323</td>\n",
        "    </tr>\n",
        "    <tr>\n",
        "      <th>4</th>\n",
        "      <td> 0.662346</td>\n",
        "      <td> foo</td>\n",
        "      <td> 0.536873</td>\n",
        "    </tr>\n",
        "    <tr>\n",
        "      <th>5</th>\n",
        "      <td>-0.533929</td>\n",
        "      <td> bar</td>\n",
        "      <td>-0.475332</td>\n",
        "    </tr>\n",
        "  </tbody>\n",
        "</table>\n",
        "</div>"
       ],
       "output_type": "pyout",
       "prompt_number": 12,
       "text": [
        "          a    b         c\n",
        "0 -1.306861  foo  0.788739\n",
        "1  0.460920  bar  0.361964\n",
        "2  0.006387  foo -0.054812\n",
        "3  0.627348  bar -0.966323\n",
        "4  0.662346  foo  0.536873\n",
        "5 -0.533929  bar -0.475332"
       ]
      }
     ],
     "prompt_number": 12
    },
    {
     "cell_type": "code",
     "collapsed": false,
     "input": [
      "df.index"
     ],
     "language": "python",
     "metadata": {},
     "outputs": [
      {
       "output_type": "pyout",
       "prompt_number": 13,
       "text": [
        "Int64Index([0, 1, 2, 3, 4, 5], dtype=int64)"
       ]
      }
     ],
     "prompt_number": 13
    },
    {
     "cell_type": "code",
     "collapsed": false,
     "input": [
      "# Assigning an index \n",
      "df = pd.DataFrame({'a': np.random.randn(6),\n",
      "                'b': ['foo', 'bar'] * 3,\n",
      "                'c': np.random.randn(6)},\n",
      "               index = pd.date_range('1/1/2000', periods=6))\n",
      "df"
     ],
     "language": "python",
     "metadata": {},
     "outputs": [
      {
       "html": [
        "<div style=\"max-height:1000px;max-width:1500px;overflow:auto;\">\n",
        "<table border=\"1\" class=\"dataframe\">\n",
        "  <thead>\n",
        "    <tr style=\"text-align: right;\">\n",
        "      <th></th>\n",
        "      <th>a</th>\n",
        "      <th>b</th>\n",
        "      <th>c</th>\n",
        "    </tr>\n",
        "  </thead>\n",
        "  <tbody>\n",
        "    <tr>\n",
        "      <th>2000-01-01</th>\n",
        "      <td>-0.798711</td>\n",
        "      <td> foo</td>\n",
        "      <td>-0.387111</td>\n",
        "    </tr>\n",
        "    <tr>\n",
        "      <th>2000-01-02</th>\n",
        "      <td>-0.504737</td>\n",
        "      <td> bar</td>\n",
        "      <td> 0.763000</td>\n",
        "    </tr>\n",
        "    <tr>\n",
        "      <th>2000-01-03</th>\n",
        "      <td>-0.145673</td>\n",
        "      <td> foo</td>\n",
        "      <td> 0.498121</td>\n",
        "    </tr>\n",
        "    <tr>\n",
        "      <th>2000-01-04</th>\n",
        "      <td>-0.566660</td>\n",
        "      <td> bar</td>\n",
        "      <td> 0.560854</td>\n",
        "    </tr>\n",
        "    <tr>\n",
        "      <th>2000-01-05</th>\n",
        "      <td>-0.675917</td>\n",
        "      <td> foo</td>\n",
        "      <td>-0.155256</td>\n",
        "    </tr>\n",
        "    <tr>\n",
        "      <th>2000-01-06</th>\n",
        "      <td>-1.504209</td>\n",
        "      <td> bar</td>\n",
        "      <td> 0.198376</td>\n",
        "    </tr>\n",
        "  </tbody>\n",
        "</table>\n",
        "</div>"
       ],
       "output_type": "pyout",
       "prompt_number": 24,
       "text": [
        "                   a    b         c\n",
        "2000-01-01 -0.798711  foo -0.387111\n",
        "2000-01-02 -0.504737  bar  0.763000\n",
        "2000-01-03 -0.145673  foo  0.498121\n",
        "2000-01-04 -0.566660  bar  0.560854\n",
        "2000-01-05 -0.675917  foo -0.155256\n",
        "2000-01-06 -1.504209  bar  0.198376"
       ]
      }
     ],
     "prompt_number": 24
    },
    {
     "cell_type": "code",
     "collapsed": false,
     "input": [
      "# Assigning columns\n",
      "df = pd.DataFrame({'a': np.random.randn(6),\n",
      "                'b': ['foo', 'bar'] * 3,\n",
      "                'c': np.random.randn(6)},\n",
      "               columns=['a', 'b', 'c', 'd'])\n",
      "df"
     ],
     "language": "python",
     "metadata": {},
     "outputs": [
      {
       "html": [
        "<div style=\"max-height:1000px;max-width:1500px;overflow:auto;\">\n",
        "<table border=\"1\" class=\"dataframe\">\n",
        "  <thead>\n",
        "    <tr style=\"text-align: right;\">\n",
        "      <th></th>\n",
        "      <th>a</th>\n",
        "      <th>b</th>\n",
        "      <th>c</th>\n",
        "      <th>d</th>\n",
        "    </tr>\n",
        "  </thead>\n",
        "  <tbody>\n",
        "    <tr>\n",
        "      <th>0</th>\n",
        "      <td>-2.207867</td>\n",
        "      <td> foo</td>\n",
        "      <td>-1.154869</td>\n",
        "      <td> NaN</td>\n",
        "    </tr>\n",
        "    <tr>\n",
        "      <th>1</th>\n",
        "      <td>-0.445227</td>\n",
        "      <td> bar</td>\n",
        "      <td> 0.114935</td>\n",
        "      <td> NaN</td>\n",
        "    </tr>\n",
        "    <tr>\n",
        "      <th>2</th>\n",
        "      <td> 0.791571</td>\n",
        "      <td> foo</td>\n",
        "      <td>-1.938548</td>\n",
        "      <td> NaN</td>\n",
        "    </tr>\n",
        "    <tr>\n",
        "      <th>3</th>\n",
        "      <td>-0.479771</td>\n",
        "      <td> bar</td>\n",
        "      <td>-0.430569</td>\n",
        "      <td> NaN</td>\n",
        "    </tr>\n",
        "    <tr>\n",
        "      <th>4</th>\n",
        "      <td> 0.603881</td>\n",
        "      <td> foo</td>\n",
        "      <td>-0.054552</td>\n",
        "      <td> NaN</td>\n",
        "    </tr>\n",
        "    <tr>\n",
        "      <th>5</th>\n",
        "      <td> 0.593588</td>\n",
        "      <td> bar</td>\n",
        "      <td> 1.235322</td>\n",
        "      <td> NaN</td>\n",
        "    </tr>\n",
        "  </tbody>\n",
        "</table>\n",
        "</div>"
       ],
       "output_type": "pyout",
       "prompt_number": 25,
       "text": [
        "          a    b         c    d\n",
        "0 -2.207867  foo -1.154869  NaN\n",
        "1 -0.445227  bar  0.114935  NaN\n",
        "2  0.791571  foo -1.938548  NaN\n",
        "3 -0.479771  bar -0.430569  NaN\n",
        "4  0.603881  foo -0.054552  NaN\n",
        "5  0.593588  bar  1.235322  NaN"
       ]
      }
     ],
     "prompt_number": 25
    },
    {
     "cell_type": "markdown",
     "metadata": {},
     "source": [
      "Creation from nested dicts\n",
      "--------------------------\n",
      "\n",
      "These arise naturally in Python code"
     ]
    },
    {
     "cell_type": "code",
     "collapsed": false,
     "input": [
      "data = {}\n",
      "for col in ['foo', 'bar', 'baz']:\n",
      "    for row in ['a', 'b', 'c', 'd']:\n",
      "        data.setdefault(col, {})[row] = np.random.randn()\n",
      "data"
     ],
     "language": "python",
     "metadata": {},
     "outputs": [
      {
       "output_type": "pyout",
       "prompt_number": 26,
       "text": [
        "{'bar': {'a': 1.919441058797687,\n",
        "  'b': -0.7759198762147296,\n",
        "  'c': 0.6423114344451972,\n",
        "  'd': 1.0892662318670157},\n",
        " 'baz': {'a': 0.5663309998556592,\n",
        "  'b': -1.4457446687082478,\n",
        "  'c': 0.9335215646328654,\n",
        "  'd': -1.138831989561317},\n",
        " 'foo': {'a': 1.0668694735901858,\n",
        "  'b': -1.9027624923685909,\n",
        "  'c': 1.6447047672294177,\n",
        "  'd': 0.19081034742919362}}"
       ]
      }
     ],
     "prompt_number": 26
    },
    {
     "cell_type": "code",
     "collapsed": false,
     "input": [
      "pd.DataFrame(data)"
     ],
     "language": "python",
     "metadata": {},
     "outputs": [
      {
       "html": [
        "<div style=\"max-height:1000px;max-width:1500px;overflow:auto;\">\n",
        "<table border=\"1\" class=\"dataframe\">\n",
        "  <thead>\n",
        "    <tr style=\"text-align: right;\">\n",
        "      <th></th>\n",
        "      <th>bar</th>\n",
        "      <th>baz</th>\n",
        "      <th>foo</th>\n",
        "    </tr>\n",
        "  </thead>\n",
        "  <tbody>\n",
        "    <tr>\n",
        "      <th>a</th>\n",
        "      <td> 1.919441</td>\n",
        "      <td> 0.566331</td>\n",
        "      <td> 1.066869</td>\n",
        "    </tr>\n",
        "    <tr>\n",
        "      <th>b</th>\n",
        "      <td>-0.775920</td>\n",
        "      <td>-1.445745</td>\n",
        "      <td>-1.902762</td>\n",
        "    </tr>\n",
        "    <tr>\n",
        "      <th>c</th>\n",
        "      <td> 0.642311</td>\n",
        "      <td> 0.933522</td>\n",
        "      <td> 1.644705</td>\n",
        "    </tr>\n",
        "    <tr>\n",
        "      <th>d</th>\n",
        "      <td> 1.089266</td>\n",
        "      <td>-1.138832</td>\n",
        "      <td> 0.190810</td>\n",
        "    </tr>\n",
        "  </tbody>\n",
        "</table>\n",
        "</div>"
       ],
       "output_type": "pyout",
       "prompt_number": 27,
       "text": [
        "        bar       baz       foo\n",
        "a  1.919441  0.566331  1.066869\n",
        "b -0.775920 -1.445745 -1.902762\n",
        "c  0.642311  0.933522  1.644705\n",
        "d  1.089266 -1.138832  0.190810"
       ]
      }
     ],
     "prompt_number": 27
    },
    {
     "cell_type": "markdown",
     "metadata": {},
     "source": [
      "Data alignment\n",
      "=============="
     ]
    },
    {
     "cell_type": "code",
     "collapsed": false,
     "input": [
      "x = read"
     ],
     "language": "python",
     "metadata": {},
     "outputs": []
    },
    {
     "cell_type": "code",
     "collapsed": true,
     "input": [
      "close_px = read_csv('stock_data.csv', index_col=0, parse_dates=True)"
     ],
     "language": "python",
     "metadata": {},
     "outputs": [],
     "prompt_number": 129
    },
    {
     "cell_type": "code",
     "collapsed": false,
     "input": [
      "close_px"
     ],
     "language": "python",
     "metadata": {},
     "outputs": [
      {
       "output_type": "pyout",
       "prompt_number": 132,
       "text": [
        "<class 'pandas.core.frame.DataFrame'>\n",
        "DatetimeIndex: 1000 entries, 2007-10-29 00:00:00 to 2011-10-14 00:00:00\n",
        "Data columns (total 9 columns):\n",
        "AA      1000  non-null values\n",
        "AAPL    1000  non-null values\n",
        "GE      1000  non-null values\n",
        "IBM     1000  non-null values\n",
        "JNJ     1000  non-null values\n",
        "MSFT    1000  non-null values\n",
        "PEP     1000  non-null values\n",
        "SPX     1000  non-null values\n",
        "XOM     1000  non-null values\n",
        "dtypes: float64(9)"
       ]
      }
     ],
     "prompt_number": 132
    },
    {
     "cell_type": "code",
     "collapsed": false,
     "input": [
      "s1 = close_px['AAPL'][-20:]\n",
      "s2 = close_px['AAPL'][-25:-10]\n",
      "side_by_side(s1, s2)"
     ],
     "language": "python",
     "metadata": {},
     "outputs": [
      {
       "output_type": "stream",
       "stream": "stdout",
       "text": [
        "2011-09-19    411.63          2011-09-12    379.94      \n",
        "2011-09-20    413.45          2011-09-13    384.62      \n",
        "2011-09-21    412.14          2011-09-14    389.30      \n",
        "2011-09-22    401.82          2011-09-15    392.96      \n",
        "2011-09-23    404.30          2011-09-16    400.50      \n",
        "2011-09-26    403.17          2011-09-19    411.63      \n",
        "2011-09-27    399.26          2011-09-20    413.45      \n",
        "2011-09-28    397.01          2011-09-21    412.14      \n",
        "2011-09-29    390.57          2011-09-22    401.82      \n",
        "2011-09-30    381.32          2011-09-23    404.30      \n",
        "2011-10-03    374.60          2011-09-26    403.17      \n",
        "2011-10-04    372.50          2011-09-27    399.26      \n",
        "2011-10-05    378.25          2011-09-28    397.01      \n",
        "2011-10-06    377.37          2011-09-29    390.57      \n",
        "2011-10-07    369.80          2011-09-30    381.32      \n",
        "2011-10-10    388.81          Name: AAPL, dtype: float64\n",
        "2011-10-11    400.29                                    \n",
        "2011-10-12    402.19                                    \n",
        "2011-10-13    408.43                                    \n",
        "2011-10-14    422.00                                    \n",
        "Name: AAPL, dtype: float64                              \n"
       ]
      }
     ],
     "prompt_number": 133
    },
    {
     "cell_type": "code",
     "collapsed": false,
     "input": [
      "s1 + s2"
     ],
     "language": "python",
     "metadata": {},
     "outputs": [
      {
       "output_type": "pyout",
       "prompt_number": 134,
       "text": [
        "2011-09-12       NaN\n",
        "2011-09-13       NaN\n",
        "2011-09-14       NaN\n",
        "2011-09-15       NaN\n",
        "2011-09-16       NaN\n",
        "2011-09-19    823.26\n",
        "2011-09-20    826.90\n",
        "2011-09-21    824.28\n",
        "2011-09-22    803.64\n",
        "2011-09-23    808.60\n",
        "2011-09-26    806.34\n",
        "2011-09-27    798.52\n",
        "2011-09-28    794.02\n",
        "2011-09-29    781.14\n",
        "2011-09-30    762.64\n",
        "2011-10-03       NaN\n",
        "2011-10-04       NaN\n",
        "2011-10-05       NaN\n",
        "2011-10-06       NaN\n",
        "2011-10-07       NaN\n",
        "2011-10-10       NaN\n",
        "2011-10-11       NaN\n",
        "2011-10-12       NaN\n",
        "2011-10-13       NaN\n",
        "2011-10-14       NaN\n",
        "Name: AAPL, dtype: float64"
       ]
      }
     ],
     "prompt_number": 134
    },
    {
     "cell_type": "code",
     "collapsed": false,
     "input": [
      "df = close_px.ix[-10:, :3]\n",
      "df"
     ],
     "language": "python",
     "metadata": {},
     "outputs": [
      {
       "output_type": "pyout",
       "prompt_number": 135,
       "text": [
        "               AA    AAPL     GE\n",
        "2011-10-03   8.90  374.60  14.69\n",
        "2011-10-04   9.12  372.50  14.86\n",
        "2011-10-05   9.37  378.25  15.27\n",
        "2011-10-06   9.88  377.37  15.53\n",
        "2011-10-07   9.71  369.80  15.50\n",
        "2011-10-10  10.09  388.81  16.14\n",
        "2011-10-11  10.30  400.29  16.14\n",
        "2011-10-12  10.05  402.19  16.40\n",
        "2011-10-13  10.10  408.43  16.22\n",
        "2011-10-14  10.26  422.00  16.60"
       ]
      }
     ],
     "prompt_number": 135
    },
    {
     "cell_type": "code",
     "collapsed": false,
     "input": [
      "side_by_side(s1.reindex(s2.index), s2)"
     ],
     "language": "python",
     "metadata": {},
     "outputs": [
      {
       "output_type": "stream",
       "stream": "stdout",
       "text": [
        "2011-09-12       NaN          2011-09-12    379.94      \n",
        "2011-09-13       NaN          2011-09-13    384.62      \n",
        "2011-09-14       NaN          2011-09-14    389.30      \n",
        "2011-09-15       NaN          2011-09-15    392.96      \n",
        "2011-09-16       NaN          2011-09-16    400.50      \n",
        "2011-09-19    411.63          2011-09-19    411.63      \n",
        "2011-09-20    413.45          2011-09-20    413.45      \n",
        "2011-09-21    412.14          2011-09-21    412.14      \n",
        "2011-09-22    401.82          2011-09-22    401.82      \n",
        "2011-09-23    404.30          2011-09-23    404.30      \n",
        "2011-09-26    403.17          2011-09-26    403.17      \n",
        "2011-09-27    399.26          2011-09-27    399.26      \n",
        "2011-09-28    397.01          2011-09-28    397.01      \n",
        "2011-09-29    390.57          2011-09-29    390.57      \n",
        "2011-09-30    381.32          2011-09-30    381.32      \n",
        "Name: AAPL, dtype: float64    Name: AAPL, dtype: float64\n"
       ]
      }
     ],
     "prompt_number": 136
    },
    {
     "cell_type": "code",
     "collapsed": false,
     "input": [
      "b, c  = s1.align(s2, join='inner')\n",
      "side_by_side(b, c)"
     ],
     "language": "python",
     "metadata": {},
     "outputs": [
      {
       "output_type": "stream",
       "stream": "stdout",
       "text": [
        "2011-09-19    411.63          2011-09-19    411.63      \n",
        "2011-09-20    413.45          2011-09-20    413.45      \n",
        "2011-09-21    412.14          2011-09-21    412.14      \n",
        "2011-09-22    401.82          2011-09-22    401.82      \n",
        "2011-09-23    404.30          2011-09-23    404.30      \n",
        "2011-09-26    403.17          2011-09-26    403.17      \n",
        "2011-09-27    399.26          2011-09-27    399.26      \n",
        "2011-09-28    397.01          2011-09-28    397.01      \n",
        "2011-09-29    390.57          2011-09-29    390.57      \n",
        "2011-09-30    381.32          2011-09-30    381.32      \n",
        "Name: AAPL, dtype: float64    Name: AAPL, dtype: float64\n"
       ]
      }
     ],
     "prompt_number": 137
    },
    {
     "cell_type": "code",
     "collapsed": false,
     "input": [
      "b, c  = s1.align(s2, join='outer')\n",
      "side_by_side(b, c)"
     ],
     "language": "python",
     "metadata": {},
     "outputs": [
      {
       "output_type": "stream",
       "stream": "stdout",
       "text": [
        "2011-09-12       NaN          2011-09-12    379.94      \n",
        "2011-09-13       NaN          2011-09-13    384.62      \n",
        "2011-09-14       NaN          2011-09-14    389.30      \n",
        "2011-09-15       NaN          2011-09-15    392.96      \n",
        "2011-09-16       NaN          2011-09-16    400.50      \n",
        "2011-09-19    411.63          2011-09-19    411.63      \n",
        "2011-09-20    413.45          2011-09-20    413.45      \n",
        "2011-09-21    412.14          2011-09-21    412.14      \n",
        "2011-09-22    401.82          2011-09-22    401.82      \n",
        "2011-09-23    404.30          2011-09-23    404.30      \n",
        "2011-09-26    403.17          2011-09-26    403.17      \n",
        "2011-09-27    399.26          2011-09-27    399.26      \n",
        "2011-09-28    397.01          2011-09-28    397.01      \n",
        "2011-09-29    390.57          2011-09-29    390.57      \n",
        "2011-09-30    381.32          2011-09-30    381.32      \n",
        "2011-10-03    374.60          2011-10-03       NaN      \n",
        "2011-10-04    372.50          2011-10-04       NaN      \n",
        "2011-10-05    378.25          2011-10-05       NaN      \n",
        "2011-10-06    377.37          2011-10-06       NaN      \n",
        "2011-10-07    369.80          2011-10-07       NaN      \n",
        "2011-10-10    388.81          2011-10-10       NaN      \n",
        "2011-10-11    400.29          2011-10-11       NaN      \n",
        "2011-10-12    402.19          2011-10-12       NaN      \n",
        "2011-10-13    408.43          2011-10-13       NaN      \n",
        "2011-10-14    422.00          2011-10-14       NaN      \n",
        "Name: AAPL, dtype: float64    Name: AAPL, dtype: float64\n"
       ]
      }
     ],
     "prompt_number": 138
    },
    {
     "cell_type": "code",
     "collapsed": false,
     "input": [
      "b, c  = s1.align(s2, join='right')\n",
      "side_by_side(b, c)"
     ],
     "language": "python",
     "metadata": {},
     "outputs": [
      {
       "output_type": "stream",
       "stream": "stdout",
       "text": [
        "2011-09-12       NaN          2011-09-12    379.94      \n",
        "2011-09-13       NaN          2011-09-13    384.62      \n",
        "2011-09-14       NaN          2011-09-14    389.30      \n",
        "2011-09-15       NaN          2011-09-15    392.96      \n",
        "2011-09-16       NaN          2011-09-16    400.50      \n",
        "2011-09-19    411.63          2011-09-19    411.63      \n",
        "2011-09-20    413.45          2011-09-20    413.45      \n",
        "2011-09-21    412.14          2011-09-21    412.14      \n",
        "2011-09-22    401.82          2011-09-22    401.82      \n",
        "2011-09-23    404.30          2011-09-23    404.30      \n",
        "2011-09-26    403.17          2011-09-26    403.17      \n",
        "2011-09-27    399.26          2011-09-27    399.26      \n",
        "2011-09-28    397.01          2011-09-28    397.01      \n",
        "2011-09-29    390.57          2011-09-29    390.57      \n",
        "2011-09-30    381.32          2011-09-30    381.32      \n",
        "Name: AAPL, dtype: float64    Name: AAPL, dtype: float64\n"
       ]
      }
     ],
     "prompt_number": 139
    },
    {
     "cell_type": "code",
     "collapsed": false,
     "input": [
      "df = close_px.ix[-10:, ['AAPL', 'IBM', 'MSFT']]\n",
      "df"
     ],
     "language": "python",
     "metadata": {},
     "outputs": [
      {
       "output_type": "pyout",
       "prompt_number": 140,
       "text": [
        "              AAPL     IBM   MSFT\n",
        "2011-10-03  374.60  173.29  24.53\n",
        "2011-10-04  372.50  174.74  25.34\n",
        "2011-10-05  378.25  176.85  25.89\n",
        "2011-10-06  377.37  181.69  26.34\n",
        "2011-10-07  369.80  182.39  26.25\n",
        "2011-10-10  388.81  186.62  26.94\n",
        "2011-10-11  400.29  185.00  27.00\n",
        "2011-10-12  402.19  186.12  26.96\n",
        "2011-10-13  408.43  186.82  27.18\n",
        "2011-10-14  422.00  190.53  27.27"
       ]
      }
     ],
     "prompt_number": 140
    },
    {
     "cell_type": "code",
     "collapsed": false,
     "input": [
      "df2 = df.ix[::2, ['IBM', 'MSFT']]\n",
      "side_by_side(df, df2)"
     ],
     "language": "python",
     "metadata": {},
     "outputs": [
      {
       "output_type": "stream",
       "stream": "stdout",
       "text": [
        "              AAPL     IBM   MSFT                   IBM   MSFT\n",
        "2011-10-03  374.60  173.29  24.53    2011-10-03  173.29  24.53\n",
        "2011-10-04  372.50  174.74  25.34    2011-10-05  176.85  25.89\n",
        "2011-10-05  378.25  176.85  25.89    2011-10-07  182.39  26.25\n",
        "2011-10-06  377.37  181.69  26.34    2011-10-11  185.00  27.00\n",
        "2011-10-07  369.80  182.39  26.25    2011-10-13  186.82  27.18\n",
        "2011-10-10  388.81  186.62  26.94                             \n",
        "2011-10-11  400.29  185.00  27.00                             \n",
        "2011-10-12  402.19  186.12  26.96                             \n",
        "2011-10-13  408.43  186.82  27.18                             \n",
        "2011-10-14  422.00  190.53  27.27                             \n"
       ]
      }
     ],
     "prompt_number": 141
    },
    {
     "cell_type": "code",
     "collapsed": false,
     "input": [
      "df + df2"
     ],
     "language": "python",
     "metadata": {},
     "outputs": [
      {
       "output_type": "pyout",
       "prompt_number": 142,
       "text": [
        "            AAPL     IBM   MSFT\n",
        "2011-10-03   NaN  346.58  49.06\n",
        "2011-10-04   NaN     NaN    NaN\n",
        "2011-10-05   NaN  353.70  51.78\n",
        "2011-10-06   NaN     NaN    NaN\n",
        "2011-10-07   NaN  364.78  52.50\n",
        "2011-10-10   NaN     NaN    NaN\n",
        "2011-10-11   NaN  370.00  54.00\n",
        "2011-10-12   NaN     NaN    NaN\n",
        "2011-10-13   NaN  373.64  54.36\n",
        "2011-10-14   NaN     NaN    NaN"
       ]
      }
     ],
     "prompt_number": 142
    },
    {
     "cell_type": "code",
     "collapsed": false,
     "input": [
      "b, c = df.align(df2, join='inner')\n",
      "side_by_side(b, c) "
     ],
     "language": "python",
     "metadata": {},
     "outputs": [
      {
       "output_type": "stream",
       "stream": "stdout",
       "text": [
        "               IBM   MSFT                   IBM   MSFT\n",
        "2011-10-03  173.29  24.53    2011-10-03  173.29  24.53\n",
        "2011-10-05  176.85  25.89    2011-10-05  176.85  25.89\n",
        "2011-10-07  182.39  26.25    2011-10-07  182.39  26.25\n",
        "2011-10-11  185.00  27.00    2011-10-11  185.00  27.00\n",
        "2011-10-13  186.82  27.18    2011-10-13  186.82  27.18\n"
       ]
      }
     ],
     "prompt_number": 143
    },
    {
     "cell_type": "markdown",
     "metadata": {},
     "source": [
      "##Truncation - clipping a datetime indexed object"
     ]
    },
    {
     "cell_type": "code",
     "collapsed": false,
     "input": [
      "df"
     ],
     "language": "python",
     "metadata": {},
     "outputs": [
      {
       "output_type": "pyout",
       "prompt_number": 144,
       "text": [
        "              AAPL     IBM   MSFT\n",
        "2011-10-03  374.60  173.29  24.53\n",
        "2011-10-04  372.50  174.74  25.34\n",
        "2011-10-05  378.25  176.85  25.89\n",
        "2011-10-06  377.37  181.69  26.34\n",
        "2011-10-07  369.80  182.39  26.25\n",
        "2011-10-10  388.81  186.62  26.94\n",
        "2011-10-11  400.29  185.00  27.00\n",
        "2011-10-12  402.19  186.12  26.96\n",
        "2011-10-13  408.43  186.82  27.18\n",
        "2011-10-14  422.00  190.53  27.27"
       ]
      }
     ],
     "prompt_number": 144
    },
    {
     "cell_type": "code",
     "collapsed": false,
     "input": [
      "df.truncate(before='2011-10-05')"
     ],
     "language": "python",
     "metadata": {},
     "outputs": [
      {
       "output_type": "pyout",
       "prompt_number": 145,
       "text": [
        "              AAPL     IBM   MSFT\n",
        "2011-10-05  378.25  176.85  25.89\n",
        "2011-10-06  377.37  181.69  26.34\n",
        "2011-10-07  369.80  182.39  26.25\n",
        "2011-10-10  388.81  186.62  26.94\n",
        "2011-10-11  400.29  185.00  27.00\n",
        "2011-10-12  402.19  186.12  26.96\n",
        "2011-10-13  408.43  186.82  27.18\n",
        "2011-10-14  422.00  190.53  27.27"
       ]
      }
     ],
     "prompt_number": 145
    },
    {
     "cell_type": "code",
     "collapsed": false,
     "input": [
      "df.truncate(before='2011-10-05',after='2011-10-12')"
     ],
     "language": "python",
     "metadata": {},
     "outputs": [
      {
       "output_type": "pyout",
       "prompt_number": 146,
       "text": [
        "              AAPL     IBM   MSFT\n",
        "2011-10-05  378.25  176.85  25.89\n",
        "2011-10-06  377.37  181.69  26.34\n",
        "2011-10-07  369.80  182.39  26.25\n",
        "2011-10-10  388.81  186.62  26.94\n",
        "2011-10-11  400.29  185.00  27.00\n",
        "2011-10-12  402.19  186.12  26.96"
       ]
      }
     ],
     "prompt_number": 146
    },
    {
     "cell_type": "markdown",
     "metadata": {},
     "source": [
      "##Resampling - Useful time series aggregation"
     ]
    },
    {
     "cell_type": "code",
     "collapsed": false,
     "input": [
      "df"
     ],
     "language": "python",
     "metadata": {},
     "outputs": [
      {
       "output_type": "pyout",
       "prompt_number": 147,
       "text": [
        "              AAPL     IBM   MSFT\n",
        "2011-10-03  374.60  173.29  24.53\n",
        "2011-10-04  372.50  174.74  25.34\n",
        "2011-10-05  378.25  176.85  25.89\n",
        "2011-10-06  377.37  181.69  26.34\n",
        "2011-10-07  369.80  182.39  26.25\n",
        "2011-10-10  388.81  186.62  26.94\n",
        "2011-10-11  400.29  185.00  27.00\n",
        "2011-10-12  402.19  186.12  26.96\n",
        "2011-10-13  408.43  186.82  27.18\n",
        "2011-10-14  422.00  190.53  27.27"
       ]
      }
     ],
     "prompt_number": 147
    },
    {
     "cell_type": "code",
     "collapsed": false,
     "input": [
      "df.resample('M')"
     ],
     "language": "python",
     "metadata": {},
     "outputs": [
      {
       "output_type": "pyout",
       "prompt_number": 148,
       "text": [
        "               AAPL      IBM   MSFT\n",
        "2011-10-31  389.424  182.405  26.37"
       ]
      }
     ],
     "prompt_number": 148
    },
    {
     "cell_type": "code",
     "collapsed": false,
     "input": [
      "df.resample('5D')"
     ],
     "language": "python",
     "metadata": {},
     "outputs": [
      {
       "output_type": "pyout",
       "prompt_number": 149,
       "text": [
        "                  AAPL         IBM       MSFT\n",
        "2011-10-03  374.504000  177.792000  25.670000\n",
        "2011-10-08  397.096667  185.913333  26.966667\n",
        "2011-10-13  415.215000  188.675000  27.225000"
       ]
      }
     ],
     "prompt_number": 149
    },
    {
     "cell_type": "code",
     "collapsed": false,
     "input": [
      "df.resample('5D', how=np.max)"
     ],
     "language": "python",
     "metadata": {},
     "outputs": [
      {
       "output_type": "pyout",
       "prompt_number": 150,
       "text": [
        "              AAPL     IBM   MSFT\n",
        "2011-10-03  378.25  182.39  26.34\n",
        "2011-10-08  402.19  186.62  27.00\n",
        "2011-10-13  422.00  190.53  27.27"
       ]
      }
     ],
     "prompt_number": 150
    },
    {
     "cell_type": "markdown",
     "metadata": {},
     "source": [
      "##Missing Data - Filling in the Gaps"
     ]
    },
    {
     "cell_type": "code",
     "collapsed": false,
     "input": [
      "dfgaps = df.resample('D')\n",
      "dfgaps"
     ],
     "language": "python",
     "metadata": {},
     "outputs": [
      {
       "output_type": "pyout",
       "prompt_number": 151,
       "text": [
        "              AAPL     IBM   MSFT\n",
        "2011-10-03  374.60  173.29  24.53\n",
        "2011-10-04  372.50  174.74  25.34\n",
        "2011-10-05  378.25  176.85  25.89\n",
        "2011-10-06  377.37  181.69  26.34\n",
        "2011-10-07  369.80  182.39  26.25\n",
        "2011-10-08     NaN     NaN    NaN\n",
        "2011-10-09     NaN     NaN    NaN\n",
        "2011-10-10  388.81  186.62  26.94\n",
        "2011-10-11  400.29  185.00  27.00\n",
        "2011-10-12  402.19  186.12  26.96\n",
        "2011-10-13  408.43  186.82  27.18\n",
        "2011-10-14  422.00  190.53  27.27"
       ]
      }
     ],
     "prompt_number": 151
    },
    {
     "cell_type": "code",
     "collapsed": false,
     "input": [
      "dfgaps.dropna()"
     ],
     "language": "python",
     "metadata": {},
     "outputs": [
      {
       "output_type": "pyout",
       "prompt_number": 152,
       "text": [
        "              AAPL     IBM   MSFT\n",
        "2011-10-03  374.60  173.29  24.53\n",
        "2011-10-04  372.50  174.74  25.34\n",
        "2011-10-05  378.25  176.85  25.89\n",
        "2011-10-06  377.37  181.69  26.34\n",
        "2011-10-07  369.80  182.39  26.25\n",
        "2011-10-10  388.81  186.62  26.94\n",
        "2011-10-11  400.29  185.00  27.00\n",
        "2011-10-12  402.19  186.12  26.96\n",
        "2011-10-13  408.43  186.82  27.18\n",
        "2011-10-14  422.00  190.53  27.27"
       ]
      }
     ],
     "prompt_number": 152
    },
    {
     "cell_type": "code",
     "collapsed": false,
     "input": [
      "dfgaps.fillna(method = 'bfill')"
     ],
     "language": "python",
     "metadata": {},
     "outputs": [
      {
       "output_type": "pyout",
       "prompt_number": 153,
       "text": [
        "              AAPL     IBM   MSFT\n",
        "2011-10-03  374.60  173.29  24.53\n",
        "2011-10-04  372.50  174.74  25.34\n",
        "2011-10-05  378.25  176.85  25.89\n",
        "2011-10-06  377.37  181.69  26.34\n",
        "2011-10-07  369.80  182.39  26.25\n",
        "2011-10-08  388.81  186.62  26.94\n",
        "2011-10-09  388.81  186.62  26.94\n",
        "2011-10-10  388.81  186.62  26.94\n",
        "2011-10-11  400.29  185.00  27.00\n",
        "2011-10-12  402.19  186.12  26.96\n",
        "2011-10-13  408.43  186.82  27.18\n",
        "2011-10-14  422.00  190.53  27.27"
       ]
      }
     ],
     "prompt_number": 153
    },
    {
     "cell_type": "markdown",
     "metadata": {},
     "source": [
      "Transposing: no copy if all columns are same type\n",
      "-------------------------------------------------"
     ]
    },
    {
     "cell_type": "code",
     "collapsed": false,
     "input": [
      "df[:5].T"
     ],
     "language": "python",
     "metadata": {},
     "outputs": [
      {
       "output_type": "pyout",
       "prompt_number": 154,
       "text": [
        "      2011-10-03  2011-10-04  2011-10-05  2011-10-06  2011-10-07\n",
        "AAPL      374.60      372.50      378.25      377.37      369.80\n",
        "IBM       173.29      174.74      176.85      181.69      182.39\n",
        "MSFT       24.53       25.34       25.89       26.34       26.25"
       ]
      }
     ],
     "prompt_number": 154
    },
    {
     "cell_type": "markdown",
     "metadata": {},
     "source": [
      "Columns can be any type\n",
      "-----------------------"
     ]
    },
    {
     "cell_type": "code",
     "collapsed": false,
     "input": [
      "n = 10\n",
      "foo = DataFrame(index=range(n))\n",
      "foo['floats'] = np.random.randn(n)\n",
      "foo['ints'] = np.arange(n)\n",
      "foo['strings'] = ['foo', 'bar'] * (n / 2)\n",
      "foo['bools'] = foo['floats'] > 0\n",
      "foo['objects'] = DateRange('1/1/2000', periods=n)\n",
      "foo"
     ],
     "language": "python",
     "metadata": {},
     "outputs": [
      {
       "output_type": "pyout",
       "prompt_number": 155,
       "text": [
        "     floats  ints strings  bools             objects\n",
        "0  0.628045     0     foo   True 2000-01-03 00:00:00\n",
        "1 -0.647350     1     bar  False 2000-01-04 00:00:00\n",
        "2  0.024348     2     foo   True 2000-01-05 00:00:00\n",
        "3 -0.501561     3     bar  False 2000-01-06 00:00:00\n",
        "4 -0.221261     4     foo  False 2000-01-07 00:00:00\n",
        "5  0.314357     5     bar   True 2000-01-10 00:00:00\n",
        "6 -0.014080     6     foo  False 2000-01-11 00:00:00\n",
        "7  2.069942     7     bar   True 2000-01-12 00:00:00\n",
        "8  0.742725     8     foo   True 2000-01-13 00:00:00\n",
        "9 -1.109559     9     bar  False 2000-01-14 00:00:00"
       ]
      }
     ],
     "prompt_number": 155
    },
    {
     "cell_type": "code",
     "collapsed": false,
     "input": [
      "foo.dtypes"
     ],
     "language": "python",
     "metadata": {},
     "outputs": [
      {
       "output_type": "pyout",
       "prompt_number": 156,
       "text": [
        "floats            float64\n",
        "ints                int64\n",
        "strings            object\n",
        "bools                bool\n",
        "objects    datetime64[ns]\n",
        "dtype: object"
       ]
      }
     ],
     "prompt_number": 156
    },
    {
     "cell_type": "markdown",
     "metadata": {},
     "source": [
      "N.B. transposing is not roundtrippable in this case (column-oriented data structure)"
     ]
    },
    {
     "cell_type": "code",
     "collapsed": false,
     "input": [
      "foo.T.T"
     ],
     "language": "python",
     "metadata": {},
     "outputs": [
      {
       "output_type": "pyout",
       "prompt_number": 157,
       "text": [
        "       floats ints strings  bools              objects\n",
        "0   0.6280448    0     foo   True  2000-01-03 00:00:00\n",
        "1  -0.6473498    1     bar  False  2000-01-04 00:00:00\n",
        "2  0.02434764    2     foo   True  2000-01-05 00:00:00\n",
        "3  -0.5015613    3     bar  False  2000-01-06 00:00:00\n",
        "4  -0.2212607    4     foo  False  2000-01-07 00:00:00\n",
        "5   0.3143568    5     bar   True  2000-01-10 00:00:00\n",
        "6 -0.01408045    6     foo  False  2000-01-11 00:00:00\n",
        "7    2.069942    7     bar   True  2000-01-12 00:00:00\n",
        "8   0.7427246    8     foo   True  2000-01-13 00:00:00\n",
        "9   -1.109559    9     bar  False  2000-01-14 00:00:00"
       ]
      }
     ],
     "prompt_number": 157
    },
    {
     "cell_type": "code",
     "collapsed": false,
     "input": [
      "foo.T.T.dtypes"
     ],
     "language": "python",
     "metadata": {},
     "outputs": [
      {
       "output_type": "pyout",
       "prompt_number": 158,
       "text": [
        "floats     object\n",
        "ints       object\n",
        "strings    object\n",
        "bools      object\n",
        "objects    object\n",
        "dtype: object"
       ]
      }
     ],
     "prompt_number": 158
    },
    {
     "cell_type": "markdown",
     "metadata": {},
     "source": [
      "##Function application\n",
      "\n",
      "You can apply arbitrary functions to the rows or columns of a DataFrame"
     ]
    },
    {
     "cell_type": "code",
     "collapsed": false,
     "input": [
      "df.apply(np.mean)"
     ],
     "language": "python",
     "metadata": {},
     "outputs": [
      {
       "output_type": "pyout",
       "prompt_number": 159,
       "text": [
        "AAPL    389.424\n",
        "IBM     182.405\n",
        "MSFT     26.370\n",
        "dtype: float64"
       ]
      }
     ],
     "prompt_number": 159
    },
    {
     "cell_type": "code",
     "collapsed": false,
     "input": [
      "df.apply(np.mean, axis=1)"
     ],
     "language": "python",
     "metadata": {},
     "outputs": [
      {
       "output_type": "pyout",
       "prompt_number": 160,
       "text": [
        "2011-10-03    190.806667\n",
        "2011-10-04    190.860000\n",
        "2011-10-05    193.663333\n",
        "2011-10-06    195.133333\n",
        "2011-10-07    192.813333\n",
        "2011-10-10    200.790000\n",
        "2011-10-11    204.096667\n",
        "2011-10-12    205.090000\n",
        "2011-10-13    207.476667\n",
        "2011-10-14    213.266667\n",
        "dtype: float64"
       ]
      }
     ],
     "prompt_number": 160
    },
    {
     "cell_type": "markdown",
     "metadata": {},
     "source": [
      "You can get as fancy as you want"
     ]
    },
    {
     "cell_type": "code",
     "collapsed": false,
     "input": [
      "close_px"
     ],
     "language": "python",
     "metadata": {},
     "outputs": [
      {
       "output_type": "pyout",
       "prompt_number": 161,
       "text": [
        "<class 'pandas.core.frame.DataFrame'>\n",
        "DatetimeIndex: 1000 entries, 2007-10-29 00:00:00 to 2011-10-14 00:00:00\n",
        "Data columns (total 9 columns):\n",
        "AA      1000  non-null values\n",
        "AAPL    1000  non-null values\n",
        "GE      1000  non-null values\n",
        "IBM     1000  non-null values\n",
        "JNJ     1000  non-null values\n",
        "MSFT    1000  non-null values\n",
        "PEP     1000  non-null values\n",
        "SPX     1000  non-null values\n",
        "XOM     1000  non-null values\n",
        "dtypes: float64(9)"
       ]
      }
     ],
     "prompt_number": 161
    },
    {
     "cell_type": "code",
     "collapsed": false,
     "input": [
      "def peak_date(series):\n",
      "    return series.index[series.argmax()]\n",
      "close_px.apply(peak_date)"
     ],
     "language": "python",
     "metadata": {},
     "outputs": [
      {
       "output_type": "pyout",
       "prompt_number": 162,
       "text": [
        "AA     2008-05-19 00:00:00\n",
        "AAPL   2011-10-14 00:00:00\n",
        "GE     2007-10-31 00:00:00\n",
        "IBM    2011-10-14 00:00:00\n",
        "JNJ    2011-07-07 00:00:00\n",
        "MSFT   2007-11-01 00:00:00\n",
        "PEP    2008-01-10 00:00:00\n",
        "SPX    2007-10-31 00:00:00\n",
        "XOM    2008-05-20 00:00:00\n",
        "dtype: datetime64[ns]"
       ]
      }
     ],
     "prompt_number": 162
    },
    {
     "cell_type": "code",
     "collapsed": false,
     "input": [
      "df.apply(lambda x: x.max() - x.min()) # np.ptp"
     ],
     "language": "python",
     "metadata": {},
     "outputs": [
      {
       "output_type": "pyout",
       "prompt_number": 163,
       "text": [
        "AAPL    52.20\n",
        "IBM     17.24\n",
        "MSFT     2.74\n",
        "dtype: float64"
       ]
      }
     ],
     "prompt_number": 163
    },
    {
     "cell_type": "code",
     "collapsed": false,
     "input": [
      "np.log(close_px)"
     ],
     "language": "python",
     "metadata": {},
     "outputs": [
      {
       "output_type": "pyout",
       "prompt_number": 165,
       "text": [
        "<class 'pandas.core.frame.DataFrame'>\n",
        "DatetimeIndex: 1000 entries, 2007-10-29 00:00:00 to 2011-10-14 00:00:00\n",
        "Data columns (total 9 columns):\n",
        "AA      1000  non-null values\n",
        "AAPL    1000  non-null values\n",
        "GE      1000  non-null values\n",
        "IBM     1000  non-null values\n",
        "JNJ     1000  non-null values\n",
        "MSFT    1000  non-null values\n",
        "PEP     1000  non-null values\n",
        "SPX     1000  non-null values\n",
        "XOM     1000  non-null values\n",
        "dtypes: float64(9)"
       ]
      }
     ],
     "prompt_number": 165
    },
    {
     "cell_type": "markdown",
     "metadata": {},
     "source": [
      "##Plotting\n",
      "\n",
      "Some basic plotting integration with matplotlib in Series / DataFrame"
     ]
    },
    {
     "cell_type": "code",
     "collapsed": false,
     "input": [
      "close_px[['AAPL', 'IBM', 'MSFT', 'XOM']].plot()"
     ],
     "language": "python",
     "metadata": {},
     "outputs": [
      {
       "output_type": "pyout",
       "prompt_number": 166,
       "text": [
        "<matplotlib.axes.AxesSubplot at 0x10ff67990>"
       ]
      },
      {
       "output_type": "display_data",
       "png": "[encoded data removed]",
       "text": [
        "<matplotlib.figure.Figure at 0x10ff67750>"
       ]
      }
     ],
     "prompt_number": 166
    },
    {
     "cell_type": "code",
     "collapsed": false,
     "input": [
      "close_px.ix[-1].plot(kind='bar')\n",
      "title('Prices on %s' % close_px.index[-1])\n",
      "axhline(0)"
     ],
     "language": "python",
     "metadata": {},
     "outputs": [
      {
       "output_type": "pyout",
       "prompt_number": 167,
       "text": [
        "<matplotlib.lines.Line2D at 0x10fe46410>"
       ]
      },
      {
       "output_type": "display_data",
       "png": "[encoded data removed]",
       "text": [
        "<matplotlib.figure.Figure at 0x10fe46f50>"
       ]
      }
     ],
     "prompt_number": 167
    },
    {
     "cell_type": "markdown",
     "metadata": {},
     "source": [
      "Hierarchical indexing\n",
      "---------------------"
     ]
    },
    {
     "cell_type": "code",
     "collapsed": false,
     "input": [
      "index = MultiIndex(levels=[['foo', 'bar', 'baz', 'qux'],\n",
      "                                   ['one', 'two', 'three']],\n",
      "                           labels=[[0, 0, 0, 1, 1, 2, 2, 3, 3, 3],\n",
      "                                   [0, 1, 2, 0, 1, 1, 2, 0, 1, 2]])\n",
      "hdf = DataFrame(np.random.randn(10, 3), index=index,\n",
      "                columns=['A', 'B', 'C'])\n",
      "hdf"
     ],
     "language": "python",
     "metadata": {},
     "outputs": [
      {
       "ename": "NameError",
       "evalue": "name 'MultiIndex' is not defined",
       "output_type": "pyerr",
       "traceback": [
        "\u001b[1;31m---------------------------------------------------------------------------\u001b[0m\n\u001b[1;31mNameError\u001b[0m                                 Traceback (most recent call last)",
        "\u001b[1;32m<ipython-input-28-5fdcc860ed30>\u001b[0m in \u001b[0;36m<module>\u001b[1;34m()\u001b[0m\n\u001b[1;32m----> 1\u001b[1;33m index = MultiIndex(levels=[['foo', 'bar', 'baz', 'qux'],\n\u001b[0m\u001b[0;32m      2\u001b[0m                                    ['one', 'two', 'three']],\n\u001b[0;32m      3\u001b[0m                            labels=[[0, 0, 0, 1, 1, 2, 2, 3, 3, 3],\n\u001b[0;32m      4\u001b[0m                                    [0, 1, 2, 0, 1, 1, 2, 0, 1, 2]])\n\u001b[0;32m      5\u001b[0m hdf = DataFrame(np.random.randn(10, 3), index=index,\n",
        "\u001b[1;31mNameError\u001b[0m: name 'MultiIndex' is not defined"
       ]
      }
     ],
     "prompt_number": 28
    },
    {
     "cell_type": "code",
     "collapsed": false,
     "input": [
      "hdf.ix['foo']"
     ],
     "language": "python",
     "metadata": {},
     "outputs": [
      {
       "output_type": "pyout",
       "prompt_number": 169,
       "text": [
        "              A         B         C\n",
        "one    0.015659 -1.464802  1.321546\n",
        "two   -1.769809  0.903992  0.310933\n",
        "three -0.129386 -0.239459  0.303841"
       ]
      }
     ],
     "prompt_number": 169
    },
    {
     "cell_type": "code",
     "collapsed": false,
     "input": [
      "hdf.ix['foo'] = 0\n",
      "hdf"
     ],
     "language": "python",
     "metadata": {},
     "outputs": [
      {
       "output_type": "pyout",
       "prompt_number": 170,
       "text": [
        "                  A         B         C\n",
        "foo one    0.000000  0.000000  0.000000\n",
        "    two    0.000000  0.000000  0.000000\n",
        "    three  0.000000  0.000000  0.000000\n",
        "bar one   -0.687976 -0.686374 -1.086105\n",
        "    two   -1.248066 -0.597228 -0.447603\n",
        "baz two   -0.979589 -0.913752 -0.086405\n",
        "    three -0.633654  0.097051 -0.796656\n",
        "qux one   -0.385125  0.604025 -0.378500\n",
        "    two   -0.359284 -1.525953  0.334638\n",
        "    three -1.008981  0.463064 -0.065529"
       ]
      }
     ],
     "prompt_number": 170
    },
    {
     "cell_type": "code",
     "collapsed": false,
     "input": [
      "hdf.ix['foo', 'three']"
     ],
     "language": "python",
     "metadata": {},
     "outputs": [
      {
       "output_type": "pyout",
       "prompt_number": 171,
       "text": [
        "A    0\n",
        "B    0\n",
        "C    0\n",
        "Name: (foo, three), dtype: float64"
       ]
      }
     ],
     "prompt_number": 171
    },
    {
     "cell_type": "markdown",
     "metadata": {},
     "source": [
      "Stacking and unstacking\n",
      "-----------------------"
     ]
    },
    {
     "cell_type": "code",
     "collapsed": false,
     "input": [
      "tuples = zip(*[['bar', 'bar', 'baz', 'baz',\n",
      "                'foo', 'foo', 'qux', 'qux'],\n",
      "               ['one', 'two', 'one', 'two',\n",
      "                'one', 'two', 'one', 'two']])\n",
      "index = MultiIndex.from_tuples(tuples)\n",
      "columns = MultiIndex.from_tuples([('A', 'cat'), ('B', 'dog'),\n",
      "                                  ('B', 'cat'), ('A', 'dog')])\n",
      "df = DataFrame(randn(8, 4), index=index, columns=columns)\n",
      "df"
     ],
     "language": "python",
     "metadata": {},
     "outputs": [
      {
       "output_type": "pyout",
       "prompt_number": 172,
       "text": [
        "                A         B                   A\n",
        "              cat       dog       cat       dog\n",
        "bar one  0.527533  0.424378 -0.159643 -0.831816\n",
        "    two -0.102669 -0.407373  1.105939  0.681519\n",
        "baz one  0.232652 -0.386381 -1.341042 -1.336999\n",
        "    two -0.611893 -0.010235 -0.374725  1.196355\n",
        "foo one  1.443484 -0.537953  1.442005  0.709560\n",
        "    two  0.773952 -0.868320  1.432658  0.283148\n",
        "qux one  0.181867  2.123185  1.000848  1.061552\n",
        "    two  0.442159 -0.411445 -1.351713  0.531188"
       ]
      }
     ],
     "prompt_number": 172
    },
    {
     "cell_type": "code",
     "collapsed": false,
     "input": [
      "df2 = df.ix[[0, 1, 2, 4, 5, 7]]\n",
      "df2"
     ],
     "language": "python",
     "metadata": {},
     "outputs": [
      {
       "output_type": "pyout",
       "prompt_number": 173,
       "text": [
        "                A         B                   A\n",
        "              cat       dog       cat       dog\n",
        "bar one  0.527533  0.424378 -0.159643 -0.831816\n",
        "    two -0.102669 -0.407373  1.105939  0.681519\n",
        "baz one  0.232652 -0.386381 -1.341042 -1.336999\n",
        "foo one  1.443484 -0.537953  1.442005  0.709560\n",
        "    two  0.773952 -0.868320  1.432658  0.283148\n",
        "qux two  0.442159 -0.411445 -1.351713  0.531188"
       ]
      }
     ],
     "prompt_number": 173
    },
    {
     "cell_type": "code",
     "collapsed": false,
     "input": [
      "df.unstack()['B']"
     ],
     "language": "python",
     "metadata": {},
     "outputs": [
      {
       "output_type": "pyout",
       "prompt_number": 174,
       "text": [
        "          dog                 cat          \n",
        "          one       two       one       two\n",
        "bar  0.424378 -0.407373 -0.159643  1.105939\n",
        "baz -0.386381 -0.010235 -1.341042 -0.374725\n",
        "foo -0.537953 -0.868320  1.442005  1.432658\n",
        "qux  2.123185 -0.411445  1.000848 -1.351713"
       ]
      }
     ],
     "prompt_number": 174
    },
    {
     "cell_type": "markdown",
     "metadata": {},
     "source": [
      "##GroupBy\n"
     ]
    },
    {
     "cell_type": "code",
     "collapsed": false,
     "input": [
      "df = DataFrame({'A' : ['foo', 'bar', 'foo', 'bar',\n",
      "                       'foo', 'bar', 'foo', 'foo'],\n",
      "                'B' : ['one', 'one', 'two', 'three',\n",
      "                       'two', 'two', 'one', 'three'],\n",
      "                'C' : np.random.randn(8),\n",
      "                'D' : np.random.randn(8)})\n",
      "df"
     ],
     "language": "python",
     "metadata": {},
     "outputs": [
      {
       "output_type": "pyout",
       "prompt_number": 175,
       "text": [
        "     A      B         C         D\n",
        "0  foo    one  1.584003  0.100797\n",
        "1  bar    one -0.997658  1.089300\n",
        "2  foo    two  0.308238  1.438247\n",
        "3  bar  three  0.944694  0.015536\n",
        "4  foo    two  0.739794 -1.868332\n",
        "5  bar    two -0.308595  0.072893\n",
        "6  foo    one  1.391480 -0.573968\n",
        "7  foo  three -0.316440  0.750702"
       ]
      }
     ],
     "prompt_number": 175
    },
    {
     "cell_type": "code",
     "collapsed": false,
     "input": [
      "for key, group in df.groupby('A'):\n",
      "    print key\n",
      "    print group"
     ],
     "language": "python",
     "metadata": {},
     "outputs": [
      {
       "output_type": "stream",
       "stream": "stdout",
       "text": [
        "bar\n",
        "     A      B         C         D\n",
        "1  bar    one -0.997658  1.089300\n",
        "3  bar  three  0.944694  0.015536\n",
        "5  bar    two -0.308595  0.072893\n",
        "foo\n",
        "     A      B         C         D\n",
        "0  foo    one  1.584003  0.100797\n",
        "2  foo    two  0.308238  1.438247\n",
        "4  foo    two  0.739794 -1.868332\n",
        "6  foo    one  1.391480 -0.573968\n",
        "7  foo  three -0.316440  0.750702\n"
       ]
      }
     ],
     "prompt_number": 176
    },
    {
     "cell_type": "code",
     "collapsed": false,
     "input": [
      "df.groupby('A')['C'].describe().T"
     ],
     "language": "python",
     "metadata": {},
     "outputs": [
      {
       "output_type": "pyout",
       "prompt_number": 177,
       "text": [
        "A         \n",
        "bar  count    3.000000\n",
        "     mean    -0.120520\n",
        "     std      0.984740\n",
        "     min     -0.997658\n",
        "     25%     -0.653127\n",
        "     50%     -0.308595\n",
        "     75%      0.318049\n",
        "     max      0.944694\n",
        "foo  count    5.000000\n",
        "     mean     0.741415\n",
        "     std      0.780903\n",
        "     min     -0.316440\n",
        "     25%      0.308238\n",
        "     50%      0.739794\n",
        "     75%      1.391480\n",
        "     max      1.584003\n",
        "dtype: float64"
       ]
      }
     ],
     "prompt_number": 177
    },
    {
     "cell_type": "code",
     "collapsed": false,
     "input": [
      "df.groupby('A').mean()"
     ],
     "language": "python",
     "metadata": {},
     "outputs": [
      {
       "output_type": "pyout",
       "prompt_number": 178,
       "text": [
        "            C         D\n",
        "A                      \n",
        "bar -0.120520  0.392576\n",
        "foo  0.741415 -0.030511"
       ]
      }
     ],
     "prompt_number": 178
    },
    {
     "cell_type": "code",
     "collapsed": false,
     "input": [
      "for key, group in df.groupby('A'):\n",
      "    print key\n",
      "    print group"
     ],
     "language": "python",
     "metadata": {},
     "outputs": [
      {
       "output_type": "stream",
       "stream": "stdout",
       "text": [
        "bar\n",
        "     A      B         C         D\n",
        "1  bar    one -0.997658  1.089300\n",
        "3  bar  three  0.944694  0.015536\n",
        "5  bar    two -0.308595  0.072893\n",
        "foo\n",
        "     A      B         C         D\n",
        "0  foo    one  1.584003  0.100797\n",
        "2  foo    two  0.308238  1.438247\n",
        "4  foo    two  0.739794 -1.868332\n",
        "6  foo    one  1.391480 -0.573968\n",
        "7  foo  three -0.316440  0.750702\n"
       ]
      }
     ],
     "prompt_number": 179
    },
    {
     "cell_type": "code",
     "collapsed": false,
     "input": [
      "df.groupby(['A', 'B']).mean()"
     ],
     "language": "python",
     "metadata": {},
     "outputs": [
      {
       "output_type": "pyout",
       "prompt_number": 180,
       "text": [
        "                  C         D\n",
        "A   B                        \n",
        "bar one   -0.997658  1.089300\n",
        "    three  0.944694  0.015536\n",
        "    two   -0.308595  0.072893\n",
        "foo one    1.487741 -0.236586\n",
        "    three -0.316440  0.750702\n",
        "    two    0.524016 -0.215042"
       ]
      }
     ],
     "prompt_number": 180
    },
    {
     "cell_type": "code",
     "collapsed": false,
     "input": [
      "df.groupby(['A', 'B'], as_index=False).mean()"
     ],
     "language": "python",
     "metadata": {},
     "outputs": [
      {
       "output_type": "pyout",
       "prompt_number": 181,
       "text": [
        "     A      B         C         D\n",
        "0  bar    one -0.997658  1.089300\n",
        "1  bar  three  0.944694  0.015536\n",
        "2  bar    two -0.308595  0.072893\n",
        "3  foo    one  1.487741 -0.236586\n",
        "4  foo  three -0.316440  0.750702\n",
        "5  foo    two  0.524016 -0.215042"
       ]
      }
     ],
     "prompt_number": 181
    },
    {
     "cell_type": "markdown",
     "metadata": {},
     "source": [
      "GroupBy with hierarchical indexing\n",
      "----------------------------------"
     ]
    },
    {
     "cell_type": "code",
     "collapsed": false,
     "input": [
      "tuples = zip(*[['bar', 'bar', 'baz', 'baz',\n",
      "                'foo', 'foo', 'qux', 'qux'],\n",
      "               ['one', 'two', 'one', 'two',\n",
      "                'one', 'two', 'one', 'two']])\n",
      "index = MultiIndex.from_tuples(tuples)\n",
      "columns = MultiIndex.from_tuples([('A', 'cat'), ('B', 'dog'),\n",
      "                                  ('B', 'cat'), ('A', 'dog')])\n",
      "df = DataFrame(randn(8, 4), index=index, columns=columns)\n",
      "df"
     ],
     "language": "python",
     "metadata": {},
     "outputs": [
      {
       "output_type": "pyout",
       "prompt_number": 182,
       "text": [
        "                A         B                   A\n",
        "              cat       dog       cat       dog\n",
        "bar one -0.006082 -0.757356  0.252807  0.327701\n",
        "    two -1.482884 -0.356889  0.693546  0.135814\n",
        "baz one  0.706988 -0.279801 -0.217308 -0.083695\n",
        "    two  0.589525  1.081498 -1.179672  0.628903\n",
        "foo one -0.728834 -1.855064 -0.798612 -0.083000\n",
        "    two -1.158755  1.025087 -0.391731  0.281976\n",
        "qux one -0.714098  1.050225 -0.187125  1.109529\n",
        "    two  0.311855  1.448206  0.019132 -1.023324"
       ]
      }
     ],
     "prompt_number": 182
    },
    {
     "cell_type": "code",
     "collapsed": false,
     "input": [
      "df.groupby(level=0, axis=0).mean()"
     ],
     "language": "python",
     "metadata": {},
     "outputs": [
      {
       "output_type": "pyout",
       "prompt_number": 183,
       "text": [
        "            A         B                   A\n",
        "          cat       dog       cat       dog\n",
        "bar -0.744483 -0.557122  0.473176  0.231758\n",
        "baz  0.648256  0.400849 -0.698490  0.272604\n",
        "foo -0.943795 -0.414989 -0.595172  0.099488\n",
        "qux -0.201122  1.249216 -0.083997  0.043103"
       ]
      }
     ],
     "prompt_number": 183
    },
    {
     "cell_type": "code",
     "collapsed": false,
     "input": [
      "df.stack()"
     ],
     "language": "python",
     "metadata": {},
     "outputs": [
      {
       "output_type": "pyout",
       "prompt_number": 184,
       "text": [
        "                    A         B\n",
        "bar one cat -0.006082  0.252807\n",
        "        dog  0.327701 -0.757356\n",
        "    two cat -1.482884  0.693546\n",
        "        dog  0.135814 -0.356889\n",
        "baz one cat  0.706988 -0.217308\n",
        "        dog -0.083695 -0.279801\n",
        "    two cat  0.589525 -1.179672\n",
        "        dog  0.628903  1.081498\n",
        "foo one cat -0.728834 -0.798612\n",
        "        dog -0.083000 -1.855064\n",
        "    two cat -1.158755 -0.391731\n",
        "        dog  0.281976  1.025087\n",
        "qux one cat -0.714098 -0.187125\n",
        "        dog  1.109529  1.050225\n",
        "    two cat  0.311855  0.019132\n",
        "        dog -1.023324  1.448206"
       ]
      }
     ],
     "prompt_number": 184
    },
    {
     "cell_type": "code",
     "collapsed": false,
     "input": [
      "df.stack().mean(1).unstack()"
     ],
     "language": "python",
     "metadata": {},
     "outputs": [
      {
       "output_type": "pyout",
       "prompt_number": 185,
       "text": [
        "              cat       dog\n",
        "bar one  0.123363 -0.214827\n",
        "    two -0.394669 -0.110538\n",
        "baz one  0.244840 -0.181748\n",
        "    two -0.295073  0.855200\n",
        "foo one -0.763723 -0.969032\n",
        "    two -0.775243  0.653531\n",
        "qux one -0.450612  1.079877\n",
        "    two  0.165493  0.212441"
       ]
      }
     ],
     "prompt_number": 185
    },
    {
     "cell_type": "code",
     "collapsed": false,
     "input": [
      "# could also have done\n",
      "df.groupby(level=1, axis=1).mean()"
     ],
     "language": "python",
     "metadata": {},
     "outputs": [
      {
       "output_type": "pyout",
       "prompt_number": 186,
       "text": [
        "              cat       dog\n",
        "bar one  0.123363 -0.214827\n",
        "    two -0.394669 -0.110538\n",
        "baz one  0.244840 -0.181748\n",
        "    two -0.295073  0.855200\n",
        "foo one -0.763723 -0.969032\n",
        "    two -0.775243  0.653531\n",
        "qux one -0.450612  1.079877\n",
        "    two  0.165493  0.212441"
       ]
      }
     ],
     "prompt_number": 186
    },
    {
     "cell_type": "code",
     "collapsed": true,
     "input": [],
     "language": "python",
     "metadata": {},
     "outputs": []
    }
   ],
   "metadata": {}
  }
 ]
}