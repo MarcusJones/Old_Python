{
 "metadata": {
  "name": "4b-Pandas Example - NYCPython_FoodDB.ipynb"
 },
 "nbformat": 3,
 "nbformat_minor": 0,
 "worksheets": [
  {
   "cells": [
    {
     "cell_type": "markdown",
     "metadata": {},
     "source": [
      "#Pandas - Data Analysis Library for Python - Part 2 Food Example\n",
      "\n",
      "By Wes McKinney http://www.youtube.com/watch?v=w26x-z-BdWQ&feature=youtu.be \n",
      "    \n",
      "Modified by Clayton Miller (miller.clayton@arch.ethz.ch) for the BS2013 Python Workshop - 29.Aug 2013\n"
     ]
    },
    {
     "cell_type": "code",
     "collapsed": false,
     "input": [
      "from pandas import *\n",
      "import simplejson as json\n",
      "db_path = 'foods-2011-10-03.json'\n",
      "db = json.load(open(db_path))\n",
      "set_printoptions(max_columns=10, notebook_repr_html=False)"
     ],
     "language": "python",
     "metadata": {},
     "outputs": []
    },
    {
     "cell_type": "code",
     "collapsed": false,
     "input": [
      "len(db)"
     ],
     "language": "python",
     "metadata": {},
     "outputs": []
    },
    {
     "cell_type": "code",
     "collapsed": false,
     "input": [
      "df = DataFrame(db[0]['nutrients'])"
     ],
     "language": "python",
     "metadata": {},
     "outputs": []
    },
    {
     "cell_type": "code",
     "collapsed": false,
     "input": [
      "df"
     ],
     "language": "python",
     "metadata": {},
     "outputs": []
    },
    {
     "cell_type": "code",
     "collapsed": false,
     "input": [
      "id_keys = ['description', 'group', 'id', 'manufacturer']\n",
      "info = DataFrame(db, columns=id_keys)\n",
      "print info[:50].to_string()"
     ],
     "language": "python",
     "metadata": {},
     "outputs": []
    },
    {
     "cell_type": "code",
     "collapsed": false,
     "input": [
      "info['group']"
     ],
     "language": "python",
     "metadata": {},
     "outputs": []
    },
    {
     "cell_type": "code",
     "collapsed": false,
     "input": [
      "plt.figure(figsize=(15, 6))\n",
      "info.group.value_counts().plot(kind='bar', rot=90)"
     ],
     "language": "python",
     "metadata": {},
     "outputs": []
    },
    {
     "cell_type": "code",
     "collapsed": false,
     "input": [
      "info.group"
     ],
     "language": "python",
     "metadata": {},
     "outputs": []
    },
    {
     "cell_type": "code",
     "collapsed": false,
     "input": [
      "info.dtypes"
     ],
     "language": "python",
     "metadata": {},
     "outputs": []
    },
    {
     "cell_type": "code",
     "collapsed": false,
     "input": [
      "info"
     ],
     "language": "python",
     "metadata": {},
     "outputs": []
    },
    {
     "cell_type": "code",
     "collapsed": false,
     "input": [
      "col_mapping = {'description' : 'food',\n",
      "               'group'       : 'fgroup'}\n",
      "info = info.rename(columns=col_mapping, copy=False)\n",
      "info"
     ],
     "language": "python",
     "metadata": {},
     "outputs": []
    },
    {
     "cell_type": "code",
     "collapsed": false,
     "input": [
      "DataFrame(db[0]['nutrients'])"
     ],
     "language": "python",
     "metadata": {},
     "outputs": []
    },
    {
     "cell_type": "code",
     "collapsed": true,
     "input": [
      "all_nutrients = []\n",
      "for rec in db:\n",
      "    nutrients = DataFrame(rec['nutrients'])\n",
      "    nutrients['id'] = rec['id']\n",
      "    all_nutrients.append(nutrients)\n",
      "all_nutrients = concat(all_nutrients, ignore_index=True)"
     ],
     "language": "python",
     "metadata": {},
     "outputs": []
    },
    {
     "cell_type": "code",
     "collapsed": false,
     "input": [
      "all_nutrients[:50]"
     ],
     "language": "python",
     "metadata": {},
     "outputs": []
    },
    {
     "cell_type": "code",
     "collapsed": true,
     "input": [
      "all_nutrients = all_nutrients.drop_duplicates()"
     ],
     "language": "python",
     "metadata": {},
     "outputs": []
    },
    {
     "cell_type": "code",
     "collapsed": false,
     "input": [
      "all_nutrients"
     ],
     "language": "python",
     "metadata": {},
     "outputs": []
    },
    {
     "cell_type": "code",
     "collapsed": false,
     "input": [
      "col_mapping = {'description' : 'nutrient',\n",
      "               'group' : 'nutgroup'}\n",
      "all_nutrients = all_nutrients.rename(columns=col_mapping)\n",
      "all_nutrients"
     ],
     "language": "python",
     "metadata": {},
     "outputs": []
    },
    {
     "cell_type": "code",
     "collapsed": false,
     "input": [
      "all_nutrients[:100]"
     ],
     "language": "python",
     "metadata": {},
     "outputs": []
    },
    {
     "cell_type": "code",
     "collapsed": false,
     "input": [
      "info"
     ],
     "language": "python",
     "metadata": {},
     "outputs": []
    },
    {
     "cell_type": "code",
     "collapsed": false,
     "input": [
      "nd = merge(all_nutrients, info, on='id', how='outer')\n",
      "nd"
     ],
     "language": "python",
     "metadata": {},
     "outputs": []
    },
    {
     "cell_type": "code",
     "collapsed": true,
     "input": [],
     "language": "python",
     "metadata": {},
     "outputs": []
    },
    {
     "cell_type": "code",
     "collapsed": false,
     "input": [
      "nd[:10]"
     ],
     "language": "python",
     "metadata": {},
     "outputs": []
    },
    {
     "cell_type": "code",
     "collapsed": false,
     "input": [
      "result = nd.groupby(['nutrient', 'fgroup'])['value'].quantile(0.5)"
     ],
     "language": "python",
     "metadata": {},
     "outputs": []
    },
    {
     "cell_type": "code",
     "collapsed": false,
     "input": [
      "result['Zinc, Zn'].order().plot(kind='bar', rot=90)"
     ],
     "language": "python",
     "metadata": {},
     "outputs": []
    },
    {
     "cell_type": "code",
     "collapsed": false,
     "input": [
      "from scipy.stats import scoreatpercentile\n",
      "\n",
      "grouped = nd.groupby(['nutrient', 'fgroup'])['value']\n",
      "\n",
      "result = grouped.max()\n",
      "\n",
      "nd.groupby('nutrient')['value'].describe()\n",
      "\n",
      "grouped.apply(lambda x: scoreatpercentile(x.dropna().values, 1)).ix['Protein']"
     ],
     "language": "python",
     "metadata": {},
     "outputs": []
    },
    {
     "cell_type": "code",
     "collapsed": false,
     "input": [
      "result.ix[:, 'Sweets']"
     ],
     "language": "python",
     "metadata": {},
     "outputs": []
    },
    {
     "cell_type": "code",
     "collapsed": false,
     "input": [
      "# kCal and kJ\n",
      "crit = (nd.nutrient == 'Energy') & (nd.units == 'kJ')\n",
      "nd = nd[-crit]\n",
      "nd = nd.sort_index(by=['id', 'nutrient'])\n",
      "nd"
     ],
     "language": "python",
     "metadata": {},
     "outputs": []
    },
    {
     "cell_type": "code",
     "collapsed": false,
     "input": [
      "ind = nd.set_index(['id', 'nutrient'])\n",
      "ind"
     ],
     "language": "python",
     "metadata": {},
     "outputs": []
    },
    {
     "cell_type": "code",
     "collapsed": true,
     "input": [],
     "language": "python",
     "metadata": {},
     "outputs": []
    },
    {
     "cell_type": "code",
     "collapsed": false,
     "input": [
      "ind.ix[1079]"
     ],
     "language": "python",
     "metadata": {},
     "outputs": []
    },
    {
     "cell_type": "code",
     "collapsed": true,
     "input": [
      "ndg = nd[nd.units == 'g']\n",
      "table = pivot_table(ndg, 'value', rows=['nutgroup', 'nutrient'], cols=['fgroup'])"
     ],
     "language": "python",
     "metadata": {},
     "outputs": []
    },
    {
     "cell_type": "code",
     "collapsed": false,
     "input": [
      "table.columns.name"
     ],
     "language": "python",
     "metadata": {},
     "outputs": []
    },
    {
     "cell_type": "code",
     "collapsed": false,
     "input": [
      "table[['Breakfast Cereals', 'Fast Foods', 'Sweets', 'Snacks']]"
     ],
     "language": "python",
     "metadata": {},
     "outputs": []
    },
    {
     "cell_type": "code",
     "collapsed": false,
     "input": [
      "ndg = nd[nd.units == 'g']\n",
      "table = pivot_table(ndg, 'value', rows=['nutgroup', 'nutrient'], cols=['fgroup'],\n",
      "                    aggfunc=np.max)\n",
      "table[['Breakfast Cereals', 'Fast Foods', 'Sweets', 'Snacks']]"
     ],
     "language": "python",
     "metadata": {},
     "outputs": []
    },
    {
     "cell_type": "code",
     "collapsed": true,
     "input": [
      "portions = []\n",
      "for rec in db:\n",
      "    portion = DataFrame(rec['portions'])\n",
      "    portion['id'] = rec['id']\n",
      "    portions.append(portion)\n",
      "portions = concat(portions, ignore_index=True)"
     ],
     "language": "python",
     "metadata": {},
     "outputs": []
    },
    {
     "cell_type": "code",
     "collapsed": false,
     "input": [
      "portions"
     ],
     "language": "python",
     "metadata": {},
     "outputs": []
    },
    {
     "cell_type": "code",
     "collapsed": false,
     "input": [
      "portions[:50]"
     ],
     "language": "python",
     "metadata": {},
     "outputs": []
    },
    {
     "cell_type": "code",
     "collapsed": false,
     "input": [
      "db[0]"
     ],
     "language": "python",
     "metadata": {},
     "outputs": []
    },
    {
     "cell_type": "code",
     "collapsed": false,
     "input": [
      "for rec in db:\n",
      "    if len(rec['portions']) > 1:\n",
      "        break\n",
      "nuts = DataFrame(rec['nutrients']).sort_index(by='description').drop_duplicates()\n",
      "nuts\n",
      "nuts[nuts.units == 'g']['value'].sum()"
     ],
     "language": "python",
     "metadata": {},
     "outputs": []
    },
    {
     "cell_type": "code",
     "collapsed": false,
     "input": [
      "tots = []\n",
      "for rec in db:\n",
      "    #if len(rec['portions']) > 1:\n",
      "    #    break\n",
      "    nuts = DataFrame(rec['nutrients']).sort_index(by='description').drop_duplicates()\n",
      "    nuts\n",
      "    tots.append(nuts[nuts.units == 'g']['value'].sum())\n",
      "print np.mean(tots)"
     ],
     "language": "python",
     "metadata": {},
     "outputs": []
    },
    {
     "cell_type": "code",
     "collapsed": false,
     "input": [
      "nd.nutrient.value_counts().index"
     ],
     "language": "python",
     "metadata": {},
     "outputs": []
    },
    {
     "cell_type": "code",
     "collapsed": true,
     "input": [
      "kinds = ['Protein', 'Total lipid (fat)', 'Carbohydrate, by difference',\n",
      "         'Fiber, total dietary']\n",
      "for_plot = nd[nd.nutrient.isin(kinds)]"
     ],
     "language": "python",
     "metadata": {},
     "outputs": []
    },
    {
     "cell_type": "code",
     "collapsed": false,
     "input": [
      "import pandas.tools.plotting as foo\n",
      "reload(foo)\n",
      "from pandas.tools.plotting import grouped_hist\n",
      "for_plot['logv'] = np.log(for_plot['value'])\n",
      "grouped_hist(for_plot, 'logv', by='nutrient')"
     ],
     "language": "python",
     "metadata": {},
     "outputs": []
    },
    {
     "cell_type": "code",
     "collapsed": true,
     "input": [
      "grouped_hist(for_plot, 'value', by='nutrient')"
     ],
     "language": "python",
     "metadata": {},
     "outputs": []
    },
    {
     "cell_type": "markdown",
     "metadata": {},
     "source": [
      "Um, need to deal with units??\n",
      "============================="
     ]
    },
    {
     "cell_type": "code",
     "collapsed": false,
     "input": [
      "uniques = nd[['nutrient', 'units']].drop_duplicates().sort_index(by='nutrient')\n",
      "uniques[:20]\n",
      "# uniques.nutrient.value_counts()"
     ],
     "language": "python",
     "metadata": {},
     "outputs": []
    },
    {
     "cell_type": "code",
     "collapsed": false,
     "input": [
      "nd.irow(nd.value.argmin())"
     ],
     "language": "python",
     "metadata": {},
     "outputs": []
    },
    {
     "cell_type": "code",
     "collapsed": false,
     "input": [
      "by_nutrient = nd.groupby(['nutgroup', 'nutrient'])\n",
      "\n",
      "\n",
      "# by_nutrient = nd.groupby([['nutrient'])\n",
      "get_maximum = lambda x: x.xs(x.value.idxmax())\n",
      "get_minimum = lambda x: x.xs(x.value.idxmin())\n",
      "\n",
      "max_foods = by_nutrient.apply(get_maximum)[['value', 'food']]\n",
      "\n",
      "# make the food a little smaller\n",
      "max_foods['food'] = [x[:50] for x in max_foods['food']]\n",
      "max_foods"
     ],
     "language": "python",
     "metadata": {},
     "outputs": []
    },
    {
     "cell_type": "code",
     "collapsed": false,
     "input": [
      "mcdonalds = nd[['mcdonald' in x.lower() for x in nd.food]]\n",
      "\n",
      "by_nutrient = mcdonalds.groupby(['nutgroup', 'nutrient'])\n",
      "# by_nutrient = nd.groupby([['nutrient'])\n",
      "get_maximum = lambda x: x.xs(x.index[x.value.argmax()])\n",
      "get_minimum = lambda x: x.xs(x.index[x.value.argmin()])\n",
      "\n",
      "max_foods = by_nutrient.apply(get_maximum)[['value', 'food']]\n",
      "\n",
      "# make the food a little smaller\n",
      "max_foods['food'] = [x[:50] for x in max_foods['food']]\n",
      "max_foods"
     ],
     "language": "python",
     "metadata": {},
     "outputs": []
    },
    {
     "cell_type": "code",
     "collapsed": true,
     "input": [
      "wendys = nd[['wendy' in x.lower() for x in nd.food]]\n",
      "\n",
      "by_nutrient = wendys.groupby(['nutgroup', 'nutrient'])\n",
      "# by_nutrient = nd.groupby([['nutrient'])\n",
      "get_maximum = lambda x: x.xs(x.index[x.value.argmax()])\n",
      "get_minimum = lambda x: x.xs(x.index[x.value.argmin()])\n",
      "\n",
      "max_foods = by_nutrient.apply(get_maximum)[['value', 'food']]\n",
      "\n",
      "# make the food a little smaller\n",
      "max_foods['food'] = [x[:50] for x in max_foods['food']]\n",
      "max_foods"
     ],
     "language": "python",
     "metadata": {},
     "outputs": []
    },
    {
     "cell_type": "code",
     "collapsed": true,
     "input": [
      "wendys"
     ],
     "language": "python",
     "metadata": {},
     "outputs": []
    },
    {
     "cell_type": "code",
     "collapsed": false,
     "input": [],
     "language": "python",
     "metadata": {},
     "outputs": []
    }
   ],
   "metadata": {}
  }
 ]
}