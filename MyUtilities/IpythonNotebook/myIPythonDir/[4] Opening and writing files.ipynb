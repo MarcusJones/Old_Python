{
 "metadata": {
  "name": "[4] Opening and writing files"
 },
 "nbformat": 3,
 "nbformat_minor": 0,
 "worksheets": [
  {
   "cells": [
    {
     "cell_type": "markdown",
     "metadata": {},
     "source": [
      "Excercise:\n",
      "    Given an IDF file with a Chiller object, use Python to create several parameterized versions with varying COP's"
     ]
    },
    {
     "cell_type": "markdown",
     "metadata": {},
     "source": [
      "We first clearly specify where the files (in and out) are located"
     ]
    },
    {
     "cell_type": "code",
     "collapsed": false,
     "input": [
      "file_path = r\"c:\\PythonTemp\\AirChillerSimple.idf\"\n",
      "file_output = r\"c:\\PythonTemp\\output.idf\""
     ],
     "language": "python",
     "metadata": {},
     "outputs": [],
     "prompt_number": 159
    },
    {
     "cell_type": "markdown",
     "metadata": {},
     "source": [
      "Files are opened with <b>file()</b>, and the mode is specified (read or write)"
     ]
    },
    {
     "cell_type": "code",
     "collapsed": false,
     "input": [
      "input_handle = file(file_path, 'r')\n",
      "output_handle = file(file_output,'w')"
     ],
     "language": "python",
     "metadata": {},
     "outputs": [],
     "prompt_number": 222
    },
    {
     "cell_type": "code",
     "collapsed": false,
     "input": [
      "print(input_handle)\n",
      "print(output_handle)"
     ],
     "language": "python",
     "metadata": {},
     "outputs": [
      {
       "output_type": "stream",
       "stream": "stdout",
       "text": [
        "<open file 'c:\\PythonTemp\\AirChillerSimple.idf', mode 'r' at 0x000000000583B300>\n",
        "<open file 'c:\\PythonTemp\\output.idf', mode 'w' at 0x00000000057BE5D0>\n"
       ]
      }
     ],
     "prompt_number": 224
    },
    {
     "cell_type": "markdown",
     "metadata": {},
     "source": [
      "There are many ways to read the file into memory..."
     ]
    },
    {
     "cell_type": "code",
     "collapsed": false,
     "input": [
      "# Just read and print directly\n",
      "print(input_handle.read())"
     ],
     "language": "python",
     "metadata": {},
     "outputs": [
      {
       "output_type": "stream",
       "stream": "stdout",
       "text": [
        "! AirCooledElectricChiller.idf\n",
        "\n",
        "  Chiller:Electric,\n",
        "    Big Chiller,             !- Name\n",
        "    AirCooled,               !- Condenser Type\n",
        "    100000,                  !- Nominal Capacity {W}\n",
        "    2.58,                    !- Nominal COP {W/W}\n",
        "    Big Chiller Inlet Node,  !- Chilled Water Inlet Node Name\n",
        "    Big Chiller Outlet Node, !- Chilled Water Outlet Node Name\n",
        "    Big Chiller Condenser Inlet Node,  !- Condenser Inlet Node Name\n",
        "    Big Chiller Condenser Outlet Node,  !- Condenser Outlet Node Name\n",
        "    0.05,                    !- Minimum Part Load Ratio\n",
        "    1.0,                     !- Maximum Part Load Ratio\n",
        "    0.65,                    !- Optimum Part Load Ratio\n",
        "    35.0,                    !- Design Condenser Inlet Temperature {C}\n",
        "    2.778,                   !- Temperature Rise Coefficient\n",
        "    6.67,                    !- Design Chilled Water Outlet Temperature {C}\n",
        "    0.0011,                  !- Design Chilled Water Flow Rate {m3/s}\n",
        "    0.002,                   !- Design Condenser Fluid Flow Rate {m3/s}\n",
        "    0.9949,                  !- Coefficient 1 of Capacity Ratio Curve\n",
        "    -0.045954,               !- Coefficient 2 of Capacity Ratio Curve\n",
        "    -0.0013543,              !- Coefficient 3 of Capacity Ratio Curve\n",
        "    2.333,                   !- Coefficient 1 of Power Ratio Curve\n",
        "    -1.975,                  !- Coefficient 2 of Power Ratio Curve\n",
        "    0.6121,                  !- Coefficient 3 of Power Ratio Curve\n",
        "    0.03303,                 !- Coefficient 1 of Full Load Ratio Curve\n",
        "    0.6852,                  !- Coefficient 2 of Full Load Ratio Curve\n",
        "    0.2818,                  !- Coefficient 3 of Full Load Ratio Curve\n",
        "    5,                       !- Chilled Water Outlet Temperature Lower Limit {C}\n",
        "    LeavingSetpointModulated;!- Chiller Flow Mode\n",
        "\n"
       ]
      }
     ],
     "prompt_number": 225
    },
    {
     "cell_type": "code",
     "collapsed": false,
     "input": [
      "# We can also loop over each line seperately\n",
      "input_handle = file(file_path, 'r')\n",
      "for line in input_handle:\n",
      "    print(line)"
     ],
     "language": "python",
     "metadata": {},
     "outputs": [
      {
       "output_type": "stream",
       "stream": "stdout",
       "text": [
        "! AirCooledElectricChiller.idf\n",
        "\n",
        "\n",
        "\n",
        "  Chiller:Electric,\n",
        "\n",
        "    Big Chiller,             !- Name\n",
        "\n",
        "    AirCooled,               !- Condenser Type\n",
        "\n",
        "    100000,                  !- Nominal Capacity {W}\n",
        "\n",
        "    2.58,                    !- Nominal COP {W/W}\n",
        "\n",
        "    Big Chiller Inlet Node,  !- Chilled Water Inlet Node Name\n",
        "\n",
        "    Big Chiller Outlet Node, !- Chilled Water Outlet Node Name\n",
        "\n",
        "    Big Chiller Condenser Inlet Node,  !- Condenser Inlet Node Name\n",
        "\n",
        "    Big Chiller Condenser Outlet Node,  !- Condenser Outlet Node Name\n",
        "\n",
        "    0.05,                    !- Minimum Part Load Ratio\n",
        "\n",
        "    1.0,                     !- Maximum Part Load Ratio\n",
        "\n",
        "    0.65,                    !- Optimum Part Load Ratio\n",
        "\n",
        "    35.0,                    !- Design Condenser Inlet Temperature {C}\n",
        "\n",
        "    2.778,                   !- Temperature Rise Coefficient\n",
        "\n",
        "    6.67,                    !- Design Chilled Water Outlet Temperature {C}\n",
        "\n",
        "    0.0011,                  !- Design Chilled Water Flow Rate {m3/s}\n",
        "\n",
        "    0.002,                   !- Design Condenser Fluid Flow Rate {m3/s}\n",
        "\n",
        "    0.9949,                  !- Coefficient 1 of Capacity Ratio Curve\n",
        "\n",
        "    -0.045954,               !- Coefficient 2 of Capacity Ratio Curve\n",
        "\n",
        "    -0.0013543,              !- Coefficient 3 of Capacity Ratio Curve\n",
        "\n",
        "    2.333,                   !- Coefficient 1 of Power Ratio Curve\n",
        "\n",
        "    -1.975,                  !- Coefficient 2 of Power Ratio Curve\n",
        "\n",
        "    0.6121,                  !- Coefficient 3 of Power Ratio Curve\n",
        "\n",
        "    0.03303,                 !- Coefficient 1 of Full Load Ratio Curve\n",
        "\n",
        "    0.6852,                  !- Coefficient 2 of Full Load Ratio Curve\n",
        "\n",
        "    0.2818,                  !- Coefficient 3 of Full Load Ratio Curve\n",
        "\n",
        "    5,                       !- Chilled Water Outlet Temperature Lower Limit {C}\n",
        "\n",
        "    LeavingSetpointModulated;!- Chiller Flow Mode\n",
        "\n"
       ]
      }
     ],
     "prompt_number": 226
    },
    {
     "cell_type": "markdown",
     "metadata": {},
     "source": [
      "Can we detect the line with COP??"
     ]
    },
    {
     "cell_type": "code",
     "collapsed": false,
     "input": [
      "string1 = \"aab\""
     ],
     "language": "python",
     "metadata": {},
     "outputs": [],
     "prompt_number": 231
    },
    {
     "cell_type": "code",
     "collapsed": false,
     "input": [
      "string1.find(\"b\")\n"
     ],
     "language": "python",
     "metadata": {},
     "outputs": [
      {
       "output_type": "pyout",
       "prompt_number": 233,
       "text": [
        "2"
       ]
      }
     ],
     "prompt_number": 233
    },
    {
     "cell_type": "code",
     "collapsed": false,
     "input": [
      "\"aab\".find(\"b\")"
     ],
     "language": "python",
     "metadata": {},
     "outputs": [
      {
       "output_type": "pyout",
       "prompt_number": 234,
       "text": [
        "2"
       ]
      }
     ],
     "prompt_number": 234
    },
    {
     "cell_type": "code",
     "collapsed": false,
     "input": [
      "\"    2.58,                    !- Nominal COP {W/W}\".find(\"Nominal COP {W/W}\") > -1"
     ],
     "language": "python",
     "metadata": {},
     "outputs": [
      {
       "output_type": "pyout",
       "prompt_number": 238,
       "text": [
        "True"
       ]
      }
     ],
     "prompt_number": 238
    },
    {
     "cell_type": "markdown",
     "metadata": {},
     "source": [
      "Let's do it dynamically in a loop"
     ]
    },
    {
     "cell_type": "code",
     "collapsed": false,
     "input": [
      "input_handle = file(file_path, 'r')\n",
      "for line in input_handle:\n",
      "    # Check each line using the .find() method\n",
      "    if line.find(\"Nominal COP {W/W}\") > -1:\n",
      "        print(line)\n",
      "    else:\n",
      "        print(\"no\")"
     ],
     "language": "python",
     "metadata": {},
     "outputs": [
      {
       "output_type": "stream",
       "stream": "stdout",
       "text": [
        "no\n",
        "no\n",
        "no\n",
        "no\n",
        "no\n",
        "no\n",
        "    2.58,                    !- Nominal COP {W/W}\n",
        "\n",
        "no\n",
        "no\n",
        "no\n",
        "no\n",
        "no\n",
        "no\n",
        "no\n",
        "no\n",
        "no\n",
        "no\n",
        "no\n",
        "no\n",
        "no\n",
        "no\n",
        "no\n",
        "no\n",
        "no\n",
        "no\n",
        "no\n",
        "no\n",
        "no\n",
        "no\n",
        "no\n"
       ]
      }
     ],
     "prompt_number": 241
    },
    {
     "cell_type": "markdown",
     "metadata": {},
     "source": [
      "We want access to this value, so we can change it. This requires understanding the way E+ input files work."
     ]
    },
    {
     "cell_type": "code",
     "collapsed": false,
     "input": [
      "\"aaaa:asdf:a:sdf\".split(\":\")"
     ],
     "language": "python",
     "metadata": {},
     "outputs": [
      {
       "output_type": "pyout",
       "prompt_number": 244,
       "text": [
        "['aaaa', 'asdf', 'a', 'sdf']"
       ]
      }
     ],
     "prompt_number": 244
    },
    {
     "cell_type": "code",
     "collapsed": false,
     "input": [
      "idf_items = \"    2.58,                    !- Nominal COP {W/W}\".split(\",\")\n",
      "print(idf_items)"
     ],
     "language": "python",
     "metadata": {},
     "outputs": [
      {
       "output_type": "stream",
       "stream": "stdout",
       "text": [
        "['    2.58', '                    !- Nominal COP {W/W}']\n"
       ]
      }
     ],
     "prompt_number": 245
    },
    {
     "cell_type": "markdown",
     "metadata": {},
     "source": [
      "So the first item contains the value. Let's access it;"
     ]
    },
    {
     "cell_type": "code",
     "collapsed": false,
     "input": [
      "float(idf_items[0])* 1.10"
     ],
     "language": "python",
     "metadata": {},
     "outputs": [
      {
       "output_type": "pyout",
       "prompt_number": 248,
       "text": [
        "2.8380000000000005"
       ]
      }
     ],
     "prompt_number": 248
    },
    {
     "cell_type": "code",
     "collapsed": false,
     "input": [
      "input_handle = file(file_path, 'r')\n",
      "\n",
      "new_lines = list()\n",
      "for line in input_handle:\n",
      "    if line.find(\"Nominal COP {W/W}\") > -1:\n",
      "        idf_items = line.split(\",\")\n",
      "        value = idf_items[0] # This is an attribute, we want to convert it\n",
      "        old_COP = float(value)\n",
      "        updated_COP = 2\n",
      "        comment = idf_items[1] # This is the comment, we don't need that\n",
      "        \n",
      "        new_lines.append(\"    {}, !- My updated COP\\n\".format(updated_COP))\n",
      "        print(\"Updated the COP from {} to {}\".format(old_COP,updated_COP))\n",
      "    else: \n",
      "        # Otherwise, just append it\n",
      "        new_lines.append(line)"
     ],
     "language": "python",
     "metadata": {},
     "outputs": [
      {
       "output_type": "stream",
       "stream": "stdout",
       "text": [
        "Updated the COP from 2.58 to 2\n"
       ]
      }
     ],
     "prompt_number": 252
    },
    {
     "cell_type": "code",
     "collapsed": false,
     "input": [
      "for line in new_lines:\n",
      "    print(line),"
     ],
     "language": "python",
     "metadata": {},
     "outputs": [
      {
       "output_type": "stream",
       "stream": "stdout",
       "text": [
        "! AirCooledElectricChiller.idf\n",
        "\n",
        "  Chiller:Electric,\n",
        "    Big Chiller,             !- Name\n",
        "    AirCooled,               !- Condenser Type\n",
        "    100000,                  !- Nominal Capacity {W}\n",
        "    2, !- My updated COP\n",
        "    Big Chiller Inlet Node,  !- Chilled Water Inlet Node Name\n",
        "    Big Chiller Outlet Node, !- Chilled Water Outlet Node Name\n",
        "    Big Chiller Condenser Inlet Node,  !- Condenser Inlet Node Name\n",
        "    Big Chiller Condenser Outlet Node,  !- Condenser Outlet Node Name\n",
        "    0.05,                    !- Minimum Part Load Ratio\n",
        "    1.0,                     !- Maximum Part Load Ratio\n",
        "    0.65,                    !- Optimum Part Load Ratio\n",
        "    35.0,                    !- Design Condenser Inlet Temperature {C}\n",
        "    2.778,                   !- Temperature Rise Coefficient\n",
        "    6.67,                    !- Design Chilled Water Outlet Temperature {C}\n",
        "    0.0011,                  !- Design Chilled Water Flow Rate {m3/s}\n",
        "    0.002,                   !- Design Condenser Fluid Flow Rate {m3/s}\n",
        "    0.9949,                  !- Coefficient 1 of Capacity Ratio Curve\n",
        "    -0.045954,               !- Coefficient 2 of Capacity Ratio Curve\n",
        "    -0.0013543,              !- Coefficient 3 of Capacity Ratio Curve\n",
        "    2.333,                   !- Coefficient 1 of Power Ratio Curve\n",
        "    -1.975,                  !- Coefficient 2 of Power Ratio Curve\n",
        "    0.6121,                  !- Coefficient 3 of Power Ratio Curve\n",
        "    0.03303,                 !- Coefficient 1 of Full Load Ratio Curve\n",
        "    0.6852,                  !- Coefficient 2 of Full Load Ratio Curve\n",
        "    0.2818,                  !- Coefficient 3 of Full Load Ratio Curve\n",
        "    5,                       !- Chilled Water Outlet Temperature Lower Limit {C}\n",
        "    LeavingSetpointModulated;!- Chiller Flow Mode\n"
       ]
      }
     ],
     "prompt_number": 253
    },
    {
     "cell_type": "markdown",
     "metadata": {},
     "source": [
      "Ok, works, let's create several IDF files, "
     ]
    },
    {
     "cell_type": "code",
     "collapsed": false,
     "input": [
      "cop_factors = [0.6, 0.7, 0.8, 0.9, 1.0, 1.1, 1.2, 1.3, 1.4, 1.5]\n",
      "print(cop_degraded)"
     ],
     "language": "python",
     "metadata": {},
     "outputs": [
      {
       "output_type": "stream",
       "stream": "stdout",
       "text": [
        "[0.6, 0.7, 0.8, 0.9, 1.0, 1.1, 1.2, 1.3, 1.4, 1.5]\n"
       ]
      }
     ],
     "prompt_number": 254
    },
    {
     "cell_type": "code",
     "collapsed": false,
     "input": [
      "\n",
      "for cop_factor in cop_degraded:\n",
      "    new_lines = list()\n",
      "    input_handle = file(file_path, 'r')\n",
      "    print(cop_factor)\n",
      "    for line in input_handle:\n",
      "        if line.find(\"Nominal COP {W/W}\") > 0:\n",
      "            idf_items = line.split(\",\")\n",
      "            value = idf_items[0] # This is an attribute, we want to convert it\n",
      "            old_COP = float(value)\n",
      "            updated_COP = old_COP * cop_factor\n",
      "            comment = idf_items[1] # This is the comment, we don't need that\n",
      "            new_lines.append(\"    {}, !- My updated COP\\n\".format(updated_COP))\n",
      "            print(\"Updated the COP from {} to {}\".format(old_COP,updated_COP))\n",
      "        else: \n",
      "            # Otherwise, just append it\n",
      "            new_lines.append(line)"
     ],
     "language": "python",
     "metadata": {},
     "outputs": [
      {
       "output_type": "stream",
       "stream": "stdout",
       "text": [
        "0.6\n",
        "Updated the COP from 2.58 to 1.548\n",
        "0.7\n",
        "Updated the COP from 2.58 to 1.806\n",
        "0.8\n",
        "Updated the COP from 2.58 to 2.064\n",
        "0.9\n",
        "Updated the COP from 2.58 to 2.322\n",
        "1.0\n",
        "Updated the COP from 2.58 to 2.58\n",
        "1.1\n",
        "Updated the COP from 2.58 to 2.838\n",
        "1.2\n",
        "Updated the COP from 2.58 to 3.096\n",
        "1.3\n",
        "Updated the COP from 2.58 to 3.354\n",
        "1.4\n",
        "Updated the COP from 2.58 to 3.612\n",
        "1.5\n",
        "Updated the COP from 2.58 to 3.87\n"
       ]
      }
     ],
     "prompt_number": 255
    },
    {
     "cell_type": "markdown",
     "metadata": {},
     "source": [
      "Seems cool, could be better?"
     ]
    },
    {
     "cell_type": "code",
     "collapsed": false,
     "input": [
      "def update_cop(input_handle,factor):\n",
      "    new_lines = list()\n",
      "    print(\"Updating COP with a factor of {} \".format(cop_factor))\n",
      "    for line in input_handle:\n",
      "        if line.find(\"Nominal COP {W/W}\") > 0:\n",
      "            idf_items = line.split(\",\")\n",
      "            value = idf_items[0] # This is an attribute, we want to convert it\n",
      "            old_COP = float(value)\n",
      "            updated_COP = old_COP * factor\n",
      "            comment = idf_items[1] # This is the comment, we don't need that\n",
      "            new_lines.append(\"    {}, !- My updated COP\\n\".format(updated_COP))\n",
      "            print(\"Updated the COP from {} to {}\".format(old_COP,updated_COP))\n",
      "        else: \n",
      "            # Otherwise, just append it\n",
      "            new_lines.append(line)\n",
      "    return new_lines"
     ],
     "language": "python",
     "metadata": {},
     "outputs": [],
     "prompt_number": 257
    },
    {
     "cell_type": "code",
     "collapsed": false,
     "input": [],
     "language": "python",
     "metadata": {},
     "outputs": []
    },
    {
     "cell_type": "code",
     "collapsed": false,
     "input": [
      "for cop_factor in cop_degraded:\n",
      "    update_cop(input_handle,cop_factor)"
     ],
     "language": "python",
     "metadata": {},
     "outputs": [
      {
       "output_type": "stream",
       "stream": "stdout",
       "text": [
        "Updating COP with a factor of 0.6 \n",
        "Updating COP with a factor of 0.7 \n",
        "Updating COP with a factor of 0.8 \n",
        "Updating COP with a factor of 0.9 \n",
        "Updating COP with a factor of 1.0 \n",
        "Updating COP with a factor of 1.1 \n",
        "Updating COP with a factor of 1.2 \n",
        "Updating COP with a factor of 1.3 \n",
        "Updating COP with a factor of 1.4 \n",
        "Updating COP with a factor of 1.5 \n"
       ]
      }
     ],
     "prompt_number": 259
    },
    {
     "cell_type": "code",
     "collapsed": false,
     "input": [],
     "language": "python",
     "metadata": {},
     "outputs": []
    },
    {
     "cell_type": "code",
     "collapsed": false,
     "input": [
      "input_handle = file(file_path, 'r')\n",
      "new_lines = list()\n",
      "\n",
      "for line in input_handle:\n",
      "    if line.find(\"Nominal COP {W}\") > 0:\n",
      "        idf_items = line.split(\",\")\n",
      "        #print(idf_items)\n",
      "\n",
      "        if len(idf_items) < 1:\n",
      "            raise Exception(\"Error\")\n",
      "            new_lines.append(line)\n",
      "        if len(idf_items) > 1:\n",
      "            # This is an attribute\n",
      "            value = idf_items[0]\n",
      "            comment = idf_items[1]\n",
      "            print(value)\n",
      "    else: \n",
      "        new_lines.append(line)\n",
      "        #print(\",\".join(idf_items))\n",
      "        "
     ],
     "language": "python",
     "metadata": {},
     "outputs": []
    },
    {
     "cell_type": "code",
     "collapsed": false,
     "input": [],
     "language": "python",
     "metadata": {},
     "outputs": []
    },
    {
     "cell_type": "code",
     "collapsed": false,
     "input": [
      "file_handle.close()"
     ],
     "language": "python",
     "metadata": {},
     "outputs": [],
     "prompt_number": 22
    },
    {
     "cell_type": "code",
     "collapsed": false,
     "input": [
      "my_str = \"hello\""
     ],
     "language": "python",
     "metadata": {},
     "outputs": [],
     "prompt_number": 30
    },
    {
     "cell_type": "code",
     "collapsed": false,
     "input": [
      "my_str.find(\"q\")"
     ],
     "language": "python",
     "metadata": {},
     "outputs": [
      {
       "output_type": "pyout",
       "prompt_number": 38,
       "text": [
        "-1"
       ]
      }
     ],
     "prompt_number": 38
    },
    {
     "cell_type": "code",
     "collapsed": false,
     "input": [
      "my_str.replace("
     ],
     "language": "python",
     "metadata": {},
     "outputs": []
    }
   ],
   "metadata": {}
  }
 ]
}