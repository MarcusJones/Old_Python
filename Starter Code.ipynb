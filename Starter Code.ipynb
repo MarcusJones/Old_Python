{
 "cells": [
  {
   "cell_type": "markdown",
   "metadata": {},
   "source": [
    "# Starter code for DC Bike Sharing compute to data server. "
   ]
  },
  {
   "cell_type": "markdown",
   "metadata": {},
   "source": [
    "## Paths"
   ]
  },
  {
   "cell_type": "markdown",
   "metadata": {},
   "source": [
    "The dataset will be mounted in the docker container at the INPUT_PATH environment variable location. Uncomment the cell below before uploading the script. "
   ]
  },
  {
   "cell_type": "code",
   "execution_count": 17,
   "metadata": {},
   "outputs": [],
   "source": [
    "# import os\n",
    "# os.environ[\"INPUT_PATH\"] = \"/volumes/input\"\n",
    "# os.environ[\"OUTPUT_PATH\"] = \"/volumes/output\"\n"
   ]
  },
  {
   "cell_type": "markdown",
   "metadata": {},
   "source": [
    "For local testing, set the paths below. "
   ]
  },
  {
   "cell_type": "code",
   "execution_count": 19,
   "metadata": {},
   "outputs": [],
   "source": [
    "#%% Paths\n",
    "from pathlib import Path\n",
    "import os\n",
    "\n",
    "# INPUT DATA\n",
    "if  \"INPUT_PATH\" in os.environ:\n",
    "    path_input = Path(os.environ[\"INPUT_PATH\"])\n",
    "else:\n",
    "    path_input = Path.cwd() /  \"data\" # this is the resulting dataset\n",
    "\n",
    "path_input_file = path_input / \"data_all_base.csv\" # it's the input dataset, that you should process\n",
    "\n",
    "# OUTPUT FOLDER\n",
    "if  \"OUTPUT_PATH\" in os.environ:\n",
    "    path_output = Path(os.environ[\"OUTPUT_PATH\"])\n",
    "else:\n",
    "    #path_output = Path(\"/volumes/output\") # this is the resulting dataset\n",
    "    path_output = Path.cwd() # (\"/volumes/output\") # this is the resulting dataset\n",
    "\n",
    "# LOGS FILE\n",
    "path_logs = Path(\"/volumes/logs\")\n",
    "\n",
    "assert path_input_file.exists(), \"Can't find required mounted path: {}\".format(path_input_file)\n",
    "assert path_input_file.is_file() | path_input_file.is_symlink(), \"/volumes/input/dataset must be a file\"\n",
    "assert path_output.exists(), \"Can't find required mounted path: {}\".format(path_output)\n",
    "# assert path_logs.exists(), \"Can't find required mounted path: {}\".format(path_output)"
   ]
  },
  {
   "cell_type": "markdown",
   "metadata": {},
   "source": [
    "## Logging"
   ]
  },
  {
   "cell_type": "markdown",
   "metadata": {},
   "source": [
    "A good script will include logging messages to help debug remote issues. "
   ]
  },
  {
   "cell_type": "code",
   "execution_count": 20,
   "metadata": {
    "title": "==========================================================================="
   },
   "outputs": [
    {
     "name": "stderr",
     "output_type": "stream",
     "text": [
      "2019-11-05 14:46:57 : Logging started\n"
     ]
    }
   ],
   "source": [
    "# Logging\n",
    "# =============================================================================\n",
    "import sys\n",
    "import logging\n",
    "import datetime\n",
    "from pprint import pprint\n",
    "\n",
    "logger = logging.getLogger()\n",
    "logger.handlers = []\n",
    "\n",
    "# Set level\n",
    "logger.setLevel(logging.INFO)\n",
    "\n",
    "# Create formatter\n",
    "FORMAT = \"%(asctime)s : %(message)s\"\n",
    "DATE_FMT = \"%Y-%m-%d %H:%M:%S\"\n",
    "formatter = logging.Formatter(FORMAT, DATE_FMT)\n",
    "\n",
    "# Create handler and assign\n",
    "handler = logging.StreamHandler(sys.stderr)\n",
    "handler.setFormatter(formatter)\n",
    "logger.handlers = [handler]\n",
    "\n",
    "logging.info(\"Logging started\")"
   ]
  },
  {
   "cell_type": "markdown",
   "metadata": {},
   "source": [
    "## Libraries"
   ]
  },
  {
   "cell_type": "markdown",
   "metadata": {},
   "source": [
    "The following python libraries are available in the remote server environment."
   ]
  },
  {
   "cell_type": "code",
   "execution_count": 21,
   "metadata": {},
   "outputs": [],
   "source": [
    "import os\n",
    "from pathlib import Path\n",
    "# Set the environment\n",
    "from pprint import pprint\n",
    "import json\n"
   ]
  },
  {
   "cell_type": "code",
   "execution_count": 22,
   "metadata": {
    "title": "==========================================================================="
   },
   "outputs": [],
   "source": [
    "# Standard imports\n",
    "# =============================================================================\n",
    "import os\n",
    "from pathlib import Path\n",
    "import sys\n",
    "import zipfile\n",
    "import gc\n",
    "import time\n",
    "from pprint import pprint\n",
    "from functools import reduce\n",
    "from collections import defaultdict\n",
    "import json\n",
    "# import yaml\n",
    "import inspect\n",
    "import json\n",
    "import pickle\n",
    "from copy import deepcopy\n",
    "import itertools\n",
    "from time import sleep"
   ]
  },
  {
   "cell_type": "code",
   "execution_count": 23,
   "metadata": {
    "lines_to_next_cell": 0,
    "title": "==========================================================================="
   },
   "outputs": [
    {
     "name": "stdout",
     "output_type": "stream",
     "text": [
      "numpy 1.17.2 as np\n",
      "pandas 0.25.3 as pd\n",
      "sklearn 0.21.3 as sk\n"
     ]
    }
   ],
   "source": [
    "# ML imports\n",
    "# =============================================================================\n",
    "import numpy as np\n",
    "print('numpy {} as np'.format(np.__version__))\n",
    "import pandas as pd\n",
    "print('pandas {} as pd'.format(pd.__version__))\n",
    "# pd.options.mode.chained_assignment = None\n",
    "\n",
    "import sklearn as sk\n",
    "import sklearn.ensemble\n",
    "import sklearn.neural_network\n",
    "print('sklearn {} as sk'.format(sk.__version__))"
   ]
  },
  {
   "cell_type": "markdown",
   "metadata": {},
   "source": [
    "## Input dataset"
   ]
  },
  {
   "cell_type": "markdown",
   "metadata": {},
   "source": [
    "Data will be loaded from the path set above. Ensure your local and remote environments are set properly. "
   ]
  },
  {
   "cell_type": "code",
   "execution_count": 25,
   "metadata": {
    "title": "==========================================================================="
   },
   "outputs": [
    {
     "name": "stderr",
     "output_type": "stream",
     "text": [
      "2019-11-05 14:47:45 : Loading /home/ubuntu/washington_bikes/data/data_all_base.csv\n"
     ]
    },
    {
     "data": {
      "text/html": [
       "<div>\n",
       "<style scoped>\n",
       "    .dataframe tbody tr th:only-of-type {\n",
       "        vertical-align: middle;\n",
       "    }\n",
       "\n",
       "    .dataframe tbody tr th {\n",
       "        vertical-align: top;\n",
       "    }\n",
       "\n",
       "    .dataframe thead th {\n",
       "        text-align: right;\n",
       "    }\n",
       "</style>\n",
       "<table border=\"1\" class=\"dataframe\">\n",
       "  <thead>\n",
       "    <tr style=\"text-align: right;\">\n",
       "      <th></th>\n",
       "      <th>Unnamed: 0</th>\n",
       "      <th>instant</th>\n",
       "      <th>dteday</th>\n",
       "      <th>season</th>\n",
       "      <th>yr</th>\n",
       "      <th>mnth</th>\n",
       "      <th>hr</th>\n",
       "      <th>holiday</th>\n",
       "      <th>weekday</th>\n",
       "      <th>workingday</th>\n",
       "      <th>weathersit</th>\n",
       "      <th>temp</th>\n",
       "      <th>atemp</th>\n",
       "      <th>hum</th>\n",
       "      <th>windspeed</th>\n",
       "      <th>casual</th>\n",
       "      <th>registered</th>\n",
       "      <th>cnt</th>\n",
       "    </tr>\n",
       "  </thead>\n",
       "  <tbody>\n",
       "    <tr>\n",
       "      <th>0</th>\n",
       "      <td>3124</td>\n",
       "      <td>3125</td>\n",
       "      <td>2011-05-15</td>\n",
       "      <td>2</td>\n",
       "      <td>0</td>\n",
       "      <td>5</td>\n",
       "      <td>2</td>\n",
       "      <td>0</td>\n",
       "      <td>0</td>\n",
       "      <td>0</td>\n",
       "      <td>2</td>\n",
       "      <td>0.52</td>\n",
       "      <td>0.5000</td>\n",
       "      <td>1.00</td>\n",
       "      <td>0.1343</td>\n",
       "      <td>13</td>\n",
       "      <td>37</td>\n",
       "      <td>50</td>\n",
       "    </tr>\n",
       "    <tr>\n",
       "      <th>1</th>\n",
       "      <td>4696</td>\n",
       "      <td>4697</td>\n",
       "      <td>2011-07-19</td>\n",
       "      <td>3</td>\n",
       "      <td>0</td>\n",
       "      <td>7</td>\n",
       "      <td>14</td>\n",
       "      <td>0</td>\n",
       "      <td>2</td>\n",
       "      <td>1</td>\n",
       "      <td>1</td>\n",
       "      <td>0.86</td>\n",
       "      <td>0.8182</td>\n",
       "      <td>0.50</td>\n",
       "      <td>0.1940</td>\n",
       "      <td>41</td>\n",
       "      <td>111</td>\n",
       "      <td>152</td>\n",
       "    </tr>\n",
       "    <tr>\n",
       "      <th>2</th>\n",
       "      <td>2080</td>\n",
       "      <td>2081</td>\n",
       "      <td>2011-04-01</td>\n",
       "      <td>2</td>\n",
       "      <td>0</td>\n",
       "      <td>4</td>\n",
       "      <td>13</td>\n",
       "      <td>0</td>\n",
       "      <td>5</td>\n",
       "      <td>1</td>\n",
       "      <td>1</td>\n",
       "      <td>0.36</td>\n",
       "      <td>0.3333</td>\n",
       "      <td>0.50</td>\n",
       "      <td>0.3582</td>\n",
       "      <td>18</td>\n",
       "      <td>92</td>\n",
       "      <td>110</td>\n",
       "    </tr>\n",
       "    <tr>\n",
       "      <th>3</th>\n",
       "      <td>5236</td>\n",
       "      <td>5237</td>\n",
       "      <td>2011-08-11</td>\n",
       "      <td>3</td>\n",
       "      <td>0</td>\n",
       "      <td>8</td>\n",
       "      <td>2</td>\n",
       "      <td>0</td>\n",
       "      <td>4</td>\n",
       "      <td>1</td>\n",
       "      <td>1</td>\n",
       "      <td>0.66</td>\n",
       "      <td>0.6212</td>\n",
       "      <td>0.54</td>\n",
       "      <td>0.1343</td>\n",
       "      <td>3</td>\n",
       "      <td>8</td>\n",
       "      <td>11</td>\n",
       "    </tr>\n",
       "    <tr>\n",
       "      <th>4</th>\n",
       "      <td>2608</td>\n",
       "      <td>2609</td>\n",
       "      <td>2011-04-23</td>\n",
       "      <td>2</td>\n",
       "      <td>0</td>\n",
       "      <td>4</td>\n",
       "      <td>14</td>\n",
       "      <td>0</td>\n",
       "      <td>6</td>\n",
       "      <td>0</td>\n",
       "      <td>1</td>\n",
       "      <td>0.58</td>\n",
       "      <td>0.5455</td>\n",
       "      <td>0.78</td>\n",
       "      <td>0.3582</td>\n",
       "      <td>182</td>\n",
       "      <td>209</td>\n",
       "      <td>391</td>\n",
       "    </tr>\n",
       "  </tbody>\n",
       "</table>\n",
       "</div>"
      ],
      "text/plain": [
       "   Unnamed: 0  instant      dteday  season  yr  mnth  hr  holiday  weekday  \\\n",
       "0        3124     3125  2011-05-15       2   0     5   2        0        0   \n",
       "1        4696     4697  2011-07-19       3   0     7  14        0        2   \n",
       "2        2080     2081  2011-04-01       2   0     4  13        0        5   \n",
       "3        5236     5237  2011-08-11       3   0     8   2        0        4   \n",
       "4        2608     2609  2011-04-23       2   0     4  14        0        6   \n",
       "\n",
       "   workingday  weathersit  temp   atemp   hum  windspeed  casual  registered  \\\n",
       "0           0           2  0.52  0.5000  1.00     0.1343      13          37   \n",
       "1           1           1  0.86  0.8182  0.50     0.1940      41         111   \n",
       "2           1           1  0.36  0.3333  0.50     0.3582      18          92   \n",
       "3           1           1  0.66  0.6212  0.54     0.1343       3           8   \n",
       "4           0           1  0.58  0.5455  0.78     0.3582     182         209   \n",
       "\n",
       "   cnt  \n",
       "0   50  \n",
       "1  152  \n",
       "2  110  \n",
       "3   11  \n",
       "4  391  "
      ]
     },
     "execution_count": 25,
     "metadata": {},
     "output_type": "execute_result"
    }
   ],
   "source": [
    "# Load data\n",
    "logging.info(\"Loading {}\".format(path_input_file))\n",
    "df = pd.read_csv(path_input_file)\n",
    "df.head()"
   ]
  },
  {
   "cell_type": "code",
   "execution_count": 55,
   "metadata": {},
   "outputs": [
    {
     "name": "stdout",
     "output_type": "stream",
     "text": [
      "<class 'pandas.core.frame.DataFrame'>\n",
      "RangeIndex: 6952 entries, 0 to 6951\n",
      "Data columns (total 15 columns):\n",
      "instant       6952 non-null int64\n",
      "season        6952 non-null int64\n",
      "yr            6952 non-null int64\n",
      "mnth          6952 non-null int64\n",
      "hr            6952 non-null int64\n",
      "holiday       6952 non-null int64\n",
      "weekday       6952 non-null int64\n",
      "workingday    6952 non-null int64\n",
      "weathersit    6952 non-null int64\n",
      "temp          6952 non-null float64\n",
      "atemp         6952 non-null float64\n",
      "hum           6952 non-null float64\n",
      "windspeed     6952 non-null float64\n",
      "casual        6952 non-null int64\n",
      "registered    6952 non-null int64\n",
      "dtypes: float64(4), int64(11)\n",
      "memory usage: 814.8 KB\n"
     ]
    }
   ],
   "source": [
    "y_all = df['cnt']\n",
    "X_all = df.drop(['cnt'], axis=1)\n",
    "X_all.drop(['dteday', 'Unnamed: 0'], axis=1, inplace=True)\n",
    "X_all.info()"
   ]
  },
  {
   "cell_type": "markdown",
   "metadata": {},
   "source": [
    "Split the dataset"
   ]
  },
  {
   "cell_type": "code",
   "execution_count": 56,
   "metadata": {},
   "outputs": [],
   "source": [
    "X_tr, X_te, y_tr, y_te = sk.model_selection.train_test_split(X_all, y_all)"
   ]
  },
  {
   "cell_type": "markdown",
   "metadata": {},
   "source": [
    "## Train the model"
   ]
  },
  {
   "cell_type": "code",
   "execution_count": 57,
   "metadata": {},
   "outputs": [
    {
     "name": "stderr",
     "output_type": "stream",
     "text": [
      "/home/ubuntu/anaconda3/lib/python3.7/site-packages/sklearn/ensemble/forest.py:245: FutureWarning: The default value of n_estimators will change from 10 in version 0.20 to 100 in 0.22.\n",
      "  \"10 in version 0.20 to 100 in 0.22.\", FutureWarning)\n",
      "2019-11-05 15:08:14 : Finished training\n"
     ]
    }
   ],
   "source": [
    "# Instantiate and train\n",
    "this_model = sk.ensemble.RandomForestClassifier()\n",
    "this_model.fit(X_tr, y_tr)\n",
    "logging.info(\"Finished training\")"
   ]
  },
  {
   "cell_type": "code",
   "execution_count": 66,
   "metadata": {},
   "outputs": [
    {
     "name": "stdout",
     "output_type": "stream",
     "text": [
      "Mean average error: 44.5644418872267\n"
     ]
    }
   ],
   "source": [
    "mae = sk.metrics.mean_absolute_error(y_te, this_model.predict(X_te))\n",
    "print(\"Mean average error: {}\".format(mae))"
   ]
  },
  {
   "cell_type": "markdown",
   "metadata": {},
   "source": [
    "## Write the results (which will be returned from the compute server) "
   ]
  },
  {
   "cell_type": "code",
   "execution_count": 67,
   "metadata": {},
   "outputs": [
    {
     "name": "stderr",
     "output_type": "stream",
     "text": [
      "2019-11-05 15:13:05 : Writing model to /home/ubuntu/washington_bikes/dataset\n",
      "2019-11-05 15:13:07 : Saved /home/ubuntu/washington_bikes/dataset\n"
     ]
    }
   ],
   "source": [
    "path_model = path_output / 'dataset'\n",
    "logging.info(\"Writing model to {}\".format(path_model))\n",
    "with open(path_model, 'wb') as fh:\n",
    "    pickle.dump(this_model, fh)\n",
    "logging.info(\"Saved {}\".format(path_model))"
   ]
  },
  {
   "cell_type": "code",
   "execution_count": 68,
   "metadata": {},
   "outputs": [
    {
     "name": "stderr",
     "output_type": "stream",
     "text": [
      "2019-11-05 15:13:07 : Finished training run\n"
     ]
    }
   ],
   "source": [
    "logging.info(\"Finished training run\")"
   ]
  },
  {
   "cell_type": "code",
   "execution_count": null,
   "metadata": {},
   "outputs": [],
   "source": []
  }
 ],
 "metadata": {
  "jupytext": {
   "cell_metadata_filter": "title,-all",
   "main_language": "python",
   "notebook_metadata_filter": "-all"
  },
  "kernelspec": {
   "display_name": "Python 3",
   "language": "python",
   "name": "python3"
  },
  "language_info": {
   "codemirror_mode": {
    "name": "ipython",
    "version": 3
   },
   "file_extension": ".py",
   "mimetype": "text/x-python",
   "name": "python",
   "nbconvert_exporter": "python",
   "pygments_lexer": "ipython3",
   "version": "3.7.3"
  }
 },
 "nbformat": 4,
 "nbformat_minor": 4
}
